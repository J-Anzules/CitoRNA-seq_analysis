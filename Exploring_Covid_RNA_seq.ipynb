{
 "cells": [
  {
   "cell_type": "code",
   "execution_count": 51,
   "id": "9114756f",
   "metadata": {},
   "outputs": [],
   "source": [
    "import scanpy as sc\n",
    "import pandas as pd\n",
    "import scipy"
   ]
  },
  {
   "cell_type": "code",
   "execution_count": null,
   "id": "2458453f",
   "metadata": {},
   "outputs": [],
   "source": [
    "sc.read_mtx()"
   ]
  },
  {
   "cell_type": "code",
   "execution_count": null,
   "id": "8526052d",
   "metadata": {},
   "outputs": [],
   "source": []
  },
  {
   "cell_type": "code",
   "execution_count": 76,
   "id": "3c7359da",
   "metadata": {},
   "outputs": [],
   "source": [
    "# Reading in the matrix file, top three rows contain meta data\n",
    "matrix = pd.read_csv(\"../RNA-seq_Hemming2020/Data/GSE163005_matrix.mtx.gz\", skiprows=[0,1,2], header = None, sep = \" \")\n",
    "gene_counts = scipy.sparse.csr_matrix((matrix[2], (matrix[0]-1, matrix[1]-1)), shape = (len(gene_names), len(cell_barcodes)))"
   ]
  },
  {
   "cell_type": "code",
   "execution_count": 135,
   "id": "d66299c1",
   "metadata": {},
   "outputs": [
    {
     "data": {
      "text/plain": [
       "<33538x85418 sparse matrix of type '<class 'numpy.int64'>'\n",
       "\twith 92163693 stored elements in Compressed Sparse Row format>"
      ]
     },
     "execution_count": 135,
     "metadata": {},
     "output_type": "execute_result"
    }
   ],
   "source": [
    "gene_counts"
   ]
  },
  {
   "cell_type": "code",
   "execution_count": null,
   "id": "bb8034c7",
   "metadata": {},
   "outputs": [],
   "source": [
    "# Get gene names and barcodes\n",
    "gene_names = pd.read_csv('path/to/features.tsv.gz', header=None, sep='\\t')[1].values\n",
    "cell_barcodes = pd.read_csv('path/to/barcodes.tsv.gz', header=None, sep='\\t')[0].values\n",
    "\n",
    "# Create sparse matrix\n",
    "gene_counts = sp.csr_matrix((df['counts'], (df['gene_ids'] - 1, df['barcodes'] - 1)),\n",
    "                            shape=(len(gene_names), len(cell_barcodes)))\n",
    "\n",
    "# Create AnnData object\n",
    "import scanpy as sc\n",
    "adata = sc.AnnData(X=gene_counts, obs={'barcodes': cell_barcodes})"
   ]
  },
  {
   "cell_type": "code",
   "execution_count": null,
   "id": "7a4fcbc0",
   "metadata": {},
   "outputs": [],
   "source": [
    "#End Goal\n",
    "adata = sc.AnnData(X=gene_counts, obs=pd.DataFrame(index=cell_barcodes), \n",
    "                   var=pd.DataFrame(index=gene_names))"
   ]
  },
  {
   "cell_type": "code",
   "execution_count": 70,
   "id": "3e1b7699",
   "metadata": {},
   "outputs": [
    {
     "name": "stdout",
     "output_type": "stream",
     "text": [
      "                                                   0\n",
      "0                                    (0, 57637)\\t1.0\n",
      "1                                                   \n",
      "2                                                   \n",
      "3    (0, 3895)\\t1.0\\n  (0, 8883)\\t1.0\\n  (0, 9657...\n",
      "4                                    (0, 76154)\\t1.0\n"
     ]
    }
   ],
   "source": [
    "gene_counts_df = pd.DataFrame(adata.X)\n",
    "print(gene_counts_df.head())"
   ]
  },
  {
   "cell_type": "markdown",
   "id": "dab7cab5",
   "metadata": {},
   "source": [
    "# Everything below is practice code "
   ]
  },
  {
   "cell_type": "markdown",
   "id": "3fb85032",
   "metadata": {},
   "source": [
    "## First example of how to load all of the data\n",
    "\n",
    "But, there are some problems with it that needs correction, like the features isn't properly separeted by tabs."
   ]
  },
  {
   "cell_type": "code",
   "execution_count": 92,
   "id": "d1254a94",
   "metadata": {},
   "outputs": [],
   "source": [
    "# All gene data in one line?\n",
    "gene_names = pd.read_csv(\"../RNA-seq_Hemming2020/Data/GSE163005_barcodes.tsv.gz\", header=None, sep='\\t').values"
   ]
  },
  {
   "cell_type": "code",
   "execution_count": 93,
   "id": "0e6f73c2",
   "metadata": {},
   "outputs": [
    {
     "data": {
      "text/plain": [
       "array([['AAACCTGAGTGGGCTA-1'],\n",
       "       ['AAACCTGAGTGTTAGA-1'],\n",
       "       ['AAACCTGGTCGCGTGT-1'],\n",
       "       ...,\n",
       "       ['TTTGTTGGTTATGGTC-31'],\n",
       "       ['TTTGTTGTCGCGTGCA-31'],\n",
       "       ['TTTGTTGTCTCATGCC-31']], dtype=object)"
      ]
     },
     "execution_count": 93,
     "metadata": {},
     "output_type": "execute_result"
    }
   ],
   "source": [
    "gene_names"
   ]
  },
  {
   "cell_type": "code",
   "execution_count": 90,
   "id": "e58a1ffc",
   "metadata": {},
   "outputs": [],
   "source": [
    "#Loading the barcode files\n",
    "barcodes = pd.read_csv(\"../RNA-seq_Hemming2020/Data/GSE163005_barcodes.tsv.gz\", header = None, index_col = 0)\n",
    "cell_barcodes = barcodes.index.tolist()"
   ]
  },
  {
   "cell_type": "code",
   "execution_count": 91,
   "id": "55e95694",
   "metadata": {
    "collapsed": true
   },
   "outputs": [
    {
     "data": {
      "text/plain": [
       "['AAACCTGAGTGGGCTA-1',\n",
       " 'AAACCTGAGTGTTAGA-1',\n",
       " 'AAACCTGGTCGCGTGT-1',\n",
       " 'AAACCTGGTCTCCACT-1',\n",
       " 'AAACCTGGTTTACTCT-1',\n",
       " 'AAACCTGTCTCCTATA-1',\n",
       " 'AAACCTGTCTGCAGTA-1',\n",
       " 'AAACGGGAGAGGGCTT-1',\n",
       " 'AAACGGGAGTGGTCCC-1',\n",
       " 'AAACGGGCACAACGTT-1',\n",
       " 'AAACGGGCACCTTGTC-1',\n",
       " 'AAACGGGCAGCTTCGG-1',\n",
       " 'AAACGGGGTCACCTAA-1',\n",
       " 'AAACGGGGTCCGAACC-1',\n",
       " 'AAACGGGGTCTCCATC-1',\n",
       " 'AAACGGGGTGTGAAAT-1',\n",
       " 'AAACGGGGTTAGTGGG-1',\n",
       " 'AAACGGGGTTGTGGCC-1',\n",
       " 'AAACGGGTCAGCTGGC-1',\n",
       " 'AAACGGGTCCTTGACC-1',\n",
       " 'AAAGATGAGAGCCCAA-1',\n",
       " 'AAAGATGAGAGTCTGG-1',\n",
       " 'AAAGATGGTAGGACAC-1',\n",
       " 'AAAGATGGTCAGCTAT-1',\n",
       " 'AAAGATGGTTGTGGAG-1',\n",
       " 'AAAGATGGTTTAGCTG-1',\n",
       " 'AAAGATGTCAACGGCC-1',\n",
       " 'AAAGATGTCCAACCAA-1',\n",
       " 'AAAGATGTCCCTGACT-1',\n",
       " 'AAAGATGTCTTGAGGT-1',\n",
       " 'AAAGCAAAGGGTGTGT-1',\n",
       " 'AAAGCAAGTCTCAACA-1',\n",
       " 'AAAGCAAGTCTTCAAG-1',\n",
       " 'AAAGCAAGTGAGGGAG-1',\n",
       " 'AAAGCAAGTGCCTGGT-1',\n",
       " 'AAAGCAAGTTCCACGG-1',\n",
       " 'AAAGCAAGTTGAACTC-1',\n",
       " 'AAAGCAATCGGCGCAT-1',\n",
       " 'AAAGCAATCTGGTATG-1',\n",
       " 'AAAGTAGAGACTCGGA-1',\n",
       " 'AAAGTAGAGCAGACTG-1',\n",
       " 'AAAGTAGAGCCAGTTT-1',\n",
       " 'AAAGTAGAGTTGAGTA-1',\n",
       " 'AAAGTAGCAATCGGTT-1',\n",
       " 'AAAGTAGCATCTACGA-1',\n",
       " 'AAAGTAGCATCTCCCA-1',\n",
       " 'AAAGTAGCATTACGAC-1',\n",
       " 'AAAGTAGGTAGCAAAT-1',\n",
       " 'AAAGTAGGTATATGAG-1',\n",
       " 'AAAGTAGGTTTGGGCC-1',\n",
       " 'AAAGTAGTCAACACAC-1',\n",
       " 'AAAGTAGTCCGTTGTC-1',\n",
       " 'AAAGTAGTCTTCCTTC-1',\n",
       " 'AAATGCCAGTAGTGCG-1',\n",
       " 'AAATGCCAGTGCAAGC-1',\n",
       " 'AAATGCCAGTTGAGTA-1',\n",
       " 'AAATGCCCACCGTTGG-1',\n",
       " 'AAATGCCCAGACAAGC-1',\n",
       " 'AAATGCCCAGGTCGTC-1',\n",
       " 'AAATGCCCATCGGTTA-1',\n",
       " 'AAATGCCGTAGGACAC-1',\n",
       " 'AAATGCCGTCATACTG-1',\n",
       " 'AAATGCCGTCGCGGTT-1',\n",
       " 'AAATGCCTCCGCTGTT-1',\n",
       " 'AAATGCCTCGTAGGTT-1',\n",
       " 'AACACGTAGCAGGTCA-1',\n",
       " 'AACACGTAGGGATGGG-1',\n",
       " 'AACACGTCAAACAACA-1',\n",
       " 'AACACGTCAAGGTGTG-1',\n",
       " 'AACACGTCACAACTGT-1',\n",
       " 'AACACGTCACCGAAAG-1',\n",
       " 'AACACGTCACGGCCAT-1',\n",
       " 'AACACGTGTAGCTGCC-1',\n",
       " 'AACACGTGTGTTTGTG-1',\n",
       " 'AACACGTTCACAGGCC-1',\n",
       " 'AACACGTTCTGAGGGA-1',\n",
       " 'AACCATGAGACGCAAC-1',\n",
       " 'AACCATGAGCCCAGCT-1',\n",
       " 'AACCATGAGCGACGTA-1',\n",
       " 'AACCATGAGTAACCCT-1',\n",
       " 'AACCATGCAAAGCGGT-1',\n",
       " 'AACCATGCACACCGCA-1',\n",
       " 'AACCATGCAGAGCCAA-1',\n",
       " 'AACCATGGTCAAAGCG-1',\n",
       " 'AACCATGGTCCGTTAA-1',\n",
       " 'AACCATGGTCGGCTCA-1',\n",
       " 'AACCATGGTGACTCAT-1',\n",
       " 'AACCATGGTGCGATAG-1',\n",
       " 'AACCATGGTTCGTCTC-1',\n",
       " 'AACCATGTCTTAGCCC-1',\n",
       " 'AACCGCGCATCCGGGT-1',\n",
       " 'AACCGCGGTGGCGAAT-1',\n",
       " 'AACCGCGGTTCCACGG-1',\n",
       " 'AACCGCGGTTCGTGAT-1',\n",
       " 'AACCGCGTCAGGTTCA-1',\n",
       " 'AACCGCGTCTTGGGTA-1',\n",
       " 'AACGTTGAGGTGCACA-1',\n",
       " 'AACGTTGCACGGCGTT-1',\n",
       " 'AACGTTGCAGGTCCAC-1',\n",
       " 'AACGTTGCATCGATTG-1',\n",
       " 'AACGTTGGTCTAGCCG-1',\n",
       " 'AACGTTGGTGGGTATG-1',\n",
       " 'AACGTTGGTTAAAGTG-1',\n",
       " 'AACGTTGTCCAGTATG-1',\n",
       " 'AACTCAGAGATGCCAG-1',\n",
       " 'AACTCAGAGATGCCTT-1',\n",
       " 'AACTCAGCAAGCCATT-1',\n",
       " 'AACTCAGCACCAGTTA-1',\n",
       " 'AACTCAGCAGGAACGT-1',\n",
       " 'AACTCAGCATCACAAC-1',\n",
       " 'AACTCAGCATCCGCGA-1',\n",
       " 'AACTCAGGTACAGCAG-1',\n",
       " 'AACTCAGTCTGAGGGA-1',\n",
       " 'AACTCCCAGCCATCGC-1',\n",
       " 'AACTCCCAGGCCCGTT-1',\n",
       " 'AACTCCCAGGTAGCCA-1',\n",
       " 'AACTCCCCAAGCCGCT-1',\n",
       " 'AACTCCCCAATCCAAC-1',\n",
       " 'AACTCCCGTATTACCG-1',\n",
       " 'AACTCCCGTCTTCGTC-1',\n",
       " 'AACTCCCGTTGTACAC-1',\n",
       " 'AACTCCCTCGGTGTCG-1',\n",
       " 'AACTCTTAGCTCTCGG-1',\n",
       " 'AACTCTTAGGGAACGG-1',\n",
       " 'AACTCTTAGGTTCCTA-1',\n",
       " 'AACTCTTAGTCTTGCA-1',\n",
       " 'AACTCTTCAAATACAG-1',\n",
       " 'AACTCTTCAATAACGA-1',\n",
       " 'AACTCTTCACATTAGC-1',\n",
       " 'AACTCTTCACATTCGA-1',\n",
       " 'AACTCTTGTCGAAAGC-1',\n",
       " 'AACTCTTGTCGCGTGT-1',\n",
       " 'AACTCTTGTGCCTGCA-1',\n",
       " 'AACTCTTGTTCCCGAG-1',\n",
       " 'AACTCTTGTTGTCGCG-1',\n",
       " 'AACTCTTTCCGATATG-1',\n",
       " 'AACTCTTTCTTCTGGC-1',\n",
       " 'AACTGGTAGTCCTCCT-1',\n",
       " 'AACTGGTCACTCAGGC-1',\n",
       " 'AACTGGTCAGTATCTG-1',\n",
       " 'AACTGGTCAGTTTACG-1',\n",
       " 'AACTGGTGTAGTACCT-1',\n",
       " 'AACTGGTGTATCACCA-1',\n",
       " 'AACTGGTTCAAGCCTA-1',\n",
       " 'AACTGGTTCACAGTAC-1',\n",
       " 'AACTGGTTCGGTCCGA-1',\n",
       " 'AACTGGTTCTAACCGA-1',\n",
       " 'AACTGGTTCTCTTGAT-1',\n",
       " 'AACTTTCAGAGGGATA-1',\n",
       " 'AACTTTCAGGCTACGA-1',\n",
       " 'AACTTTCCACTGTCGG-1',\n",
       " 'AACTTTCCAGATGAGC-1',\n",
       " 'AACTTTCCAGGTCCAC-1',\n",
       " 'AACTTTCGTAGGACAC-1',\n",
       " 'AACTTTCGTCACCTAA-1',\n",
       " 'AACTTTCGTTAAGAAC-1',\n",
       " 'AACTTTCTCTTGCATT-1',\n",
       " 'AAGACCTAGCACCGCT-1',\n",
       " 'AAGACCTCAAATCCGT-1',\n",
       " 'AAGACCTCAAGGTTTC-1',\n",
       " 'AAGACCTCACTGCCAG-1',\n",
       " 'AAGACCTCACTGTCGG-1',\n",
       " 'AAGACCTCAGTGACAG-1',\n",
       " 'AAGACCTGTCCATCCT-1',\n",
       " 'AAGACCTGTTGTACAC-1',\n",
       " 'AAGACCTTCGCCTGTT-1',\n",
       " 'AAGACCTTCGCTTGTC-1',\n",
       " 'AAGCCGCAGAATTGTG-1',\n",
       " 'AAGCCGCCACATGGGA-1',\n",
       " 'AAGCCGCCATATACCG-1',\n",
       " 'AAGCCGCCATCGGAAG-1',\n",
       " 'AAGCCGCCATGAAGTA-1',\n",
       " 'AAGCCGCGTGTGCCTG-1',\n",
       " 'AAGCCGCGTTCCACGG-1',\n",
       " 'AAGCCGCGTTGCCTCT-1',\n",
       " 'AAGCCGCTCAAGAAGT-1',\n",
       " 'AAGCCGCTCATTGCGA-1',\n",
       " 'AAGCCGCTCCCAGGTG-1',\n",
       " 'AAGCCGCTCTTCCTTC-1',\n",
       " 'AAGGAGCAGTCAAGGC-1',\n",
       " 'AAGGAGCCAATCTGCA-1',\n",
       " 'AAGGAGCCACGGATAG-1',\n",
       " 'AAGGAGCCAGCTGGCT-1',\n",
       " 'AAGGAGCCATTGAGCT-1',\n",
       " 'AAGGAGCGTTCAGTAC-1',\n",
       " 'AAGGAGCTCAGTCAGT-1',\n",
       " 'AAGGCAGAGCTCTCGG-1',\n",
       " 'AAGGCAGCATCCGCGA-1',\n",
       " 'AAGGCAGGTCAATACC-1',\n",
       " 'AAGGCAGGTCCAGTGC-1',\n",
       " 'AAGGCAGTCACAGTAC-1',\n",
       " 'AAGGCAGTCCCAACGG-1',\n",
       " 'AAGGCAGTCCGAAGAG-1',\n",
       " 'AAGGCAGTCTAACCGA-1',\n",
       " 'AAGGCAGTCTTTAGGG-1',\n",
       " 'AAGGTTCGTAAGTGTA-1',\n",
       " 'AAGGTTCGTATCAGTC-1',\n",
       " 'AAGGTTCGTGATGATA-1',\n",
       " 'AAGGTTCTCAACTCTT-1',\n",
       " 'AAGGTTCTCATGTCTT-1',\n",
       " 'AAGGTTCTCGCGCCAA-1',\n",
       " 'AAGGTTCTCTCTGAGA-1',\n",
       " 'AAGGTTCTCTTGCAAG-1',\n",
       " 'AAGTCTGAGATCTGAA-1',\n",
       " 'AAGTCTGAGTACACCT-1',\n",
       " 'AAGTCTGAGTTAAGTG-1',\n",
       " 'AAGTCTGCAAAGAATC-1',\n",
       " 'AAGTCTGCATAAGACA-1',\n",
       " 'AAGTCTGGTGCAACTT-1',\n",
       " 'AAGTCTGGTGTGCGTC-1',\n",
       " 'AAGTCTGTCATCACCC-1',\n",
       " 'AAGTCTGTCATTTGGG-1',\n",
       " 'AAGTCTGTCTCAACTT-1',\n",
       " 'AATCCAGCAACGATCT-1',\n",
       " 'AATCCAGCACCTATCC-1',\n",
       " 'AATCCAGCATACGCCG-1',\n",
       " 'AATCCAGGTAATTGGA-1',\n",
       " 'AATCCAGGTGCGGTAA-1',\n",
       " 'AATCCAGTCATAGCAC-1',\n",
       " 'AATCCAGTCGATAGAA-1',\n",
       " 'AATCCAGTCGGTTCGG-1',\n",
       " 'AATCGGTCAATAGCAA-1',\n",
       " 'AATCGGTGTCATGCAT-1',\n",
       " 'AATCGGTGTTCGGGCT-1',\n",
       " 'AATCGGTTCAACGAAA-1',\n",
       " 'ACACCAAAGAACAACT-1',\n",
       " 'ACACCAAAGATCTGCT-1',\n",
       " 'ACACCAAAGCCCAGCT-1',\n",
       " 'ACACCAAGTACCTACA-1',\n",
       " 'ACACCAAGTGTGAATA-1',\n",
       " 'ACACCAATCTGATACG-1',\n",
       " 'ACACCAATCTTCGAGA-1',\n",
       " 'ACACCCTAGGGTATCG-1',\n",
       " 'ACACCCTCAGGGTACA-1',\n",
       " 'ACACCCTGTAATCGTC-1',\n",
       " 'ACACCCTGTGAAATCA-1',\n",
       " 'ACACCCTGTGAGTGAC-1',\n",
       " 'ACACCCTGTGCCTGGT-1',\n",
       " 'ACACCCTGTGCGATAG-1',\n",
       " 'ACACCCTGTTACAGAA-1',\n",
       " 'ACACCCTTCAGTACGT-1',\n",
       " 'ACACCGGAGGTGACCA-1',\n",
       " 'ACACCGGAGTGTCCCG-1',\n",
       " 'ACACCGGCAGATAATG-1',\n",
       " 'ACACCGGCAGCGTCCA-1',\n",
       " 'ACACCGGCATCAGTCA-1',\n",
       " 'ACACCGGGTTCCCGAG-1',\n",
       " 'ACACCGGTCGGGAGTA-1',\n",
       " 'ACACCGGTCGGTGTTA-1',\n",
       " 'ACACCGGTCTTAGCCC-1',\n",
       " 'ACACTGAAGCTTTGGT-1',\n",
       " 'ACACTGAAGGCGACAT-1',\n",
       " 'ACACTGAAGTGGTAAT-1',\n",
       " 'ACACTGACAAGGACAC-1',\n",
       " 'ACACTGACACAGAGGT-1',\n",
       " 'ACACTGACACCAGATT-1',\n",
       " 'ACACTGAGTGCGGTAA-1',\n",
       " 'ACACTGAGTGGACGAT-1',\n",
       " 'ACACTGATCGTAGGTT-1',\n",
       " 'ACACTGATCTAACGGT-1',\n",
       " 'ACAGCCGAGACGCACA-1',\n",
       " 'ACAGCCGAGATCCCAT-1',\n",
       " 'ACAGCCGCACTGTCGG-1',\n",
       " 'ACAGCCGCAGTTTACG-1',\n",
       " 'ACAGCCGGTAGGACAC-1',\n",
       " 'ACAGCCGGTATCTGCA-1',\n",
       " 'ACAGCCGGTTCTGGTA-1',\n",
       " 'ACAGCCGTCAACGGCC-1',\n",
       " 'ACAGCCGTCGATAGAA-1',\n",
       " 'ACAGCCGTCGTCACGG-1',\n",
       " 'ACAGCCGTCTGATACG-1',\n",
       " 'ACAGCTAAGATACACA-1',\n",
       " 'ACAGCTACAGGACCCT-1',\n",
       " 'ACAGCTAGTATAATGG-1',\n",
       " 'ACAGCTATCGCCTGTT-1',\n",
       " 'ACATACGCACTGTCGG-1',\n",
       " 'ACATACGCACTTAACG-1',\n",
       " 'ACATACGGTAACGACG-1',\n",
       " 'ACATACGGTCGGATCC-1',\n",
       " 'ACATACGTCAGGCGAA-1',\n",
       " 'ACATCAGAGGAGTAGA-1',\n",
       " 'ACATCAGCACTGTCGG-1',\n",
       " 'ACATCAGGTCAGAAGC-1',\n",
       " 'ACATCAGGTCAGCTAT-1',\n",
       " 'ACATCAGGTGGTTTCA-1',\n",
       " 'ACATCAGGTTCAGTAC-1',\n",
       " 'ACATCAGTCCAGGGCT-1',\n",
       " 'ACATCAGTCGGAGCAA-1',\n",
       " 'ACATCAGTCGGCTACG-1',\n",
       " 'ACATGGTCAATCTGCA-1',\n",
       " 'ACATGGTCAGTCCTTC-1',\n",
       " 'ACATGGTCATCCTAGA-1',\n",
       " 'ACATGGTGTAAGTGTA-1',\n",
       " 'ACATGGTGTGAGCGAT-1',\n",
       " 'ACCAGTACACCAGTTA-1',\n",
       " 'ACCAGTACATTAGCCA-1',\n",
       " 'ACCAGTAGTCTCAACA-1',\n",
       " 'ACCAGTATCATCGATG-1',\n",
       " 'ACCAGTATCTCTAGGA-1',\n",
       " 'ACCAGTATCTTGCAAG-1',\n",
       " 'ACCCACTAGCTCAACT-1',\n",
       " 'ACCCACTAGTTACGGG-1',\n",
       " 'ACCCACTCAATCGGTT-1',\n",
       " 'ACCCACTCACAACTGT-1',\n",
       " 'ACCCACTCAGACAGGT-1',\n",
       " 'ACCCACTCATCATCCC-1',\n",
       " 'ACCCACTCATGCATGT-1',\n",
       " 'ACCCACTGTCTAGTCA-1',\n",
       " 'ACCCACTGTGTCAATC-1',\n",
       " 'ACCCACTTCCACGACG-1',\n",
       " 'ACCCACTTCCGTCATC-1',\n",
       " 'ACCGTAAAGAGACTAT-1',\n",
       " 'ACCGTAAAGCAGCGTA-1',\n",
       " 'ACCGTAACAAACGTGG-1',\n",
       " 'ACCGTAACACCTTGTC-1',\n",
       " 'ACCGTAACAGCGAACA-1',\n",
       " 'ACCGTAACAGGTGGAT-1',\n",
       " 'ACCGTAAGTAGTAGTA-1',\n",
       " 'ACCGTAAGTCCATGAT-1',\n",
       " 'ACCGTAAGTCGCGTGT-1',\n",
       " 'ACCGTAAGTTATGTGC-1',\n",
       " 'ACCGTAATCAGCACAT-1',\n",
       " 'ACCGTAATCCAGGGCT-1',\n",
       " 'ACCGTAATCTCTTGAT-1',\n",
       " 'ACCTTTAAGACTCGGA-1',\n",
       " 'ACCTTTAAGCACAGGT-1',\n",
       " 'ACCTTTAAGCACCGCT-1',\n",
       " 'ACCTTTAAGGAGTCTG-1',\n",
       " 'ACCTTTAAGGCTAGGT-1',\n",
       " 'ACCTTTAAGTCCGGTC-1',\n",
       " 'ACCTTTACAATGCCAT-1',\n",
       " 'ACCTTTACACCCATTC-1',\n",
       " 'ACCTTTACATAGGATA-1',\n",
       " 'ACCTTTACATTTGCCC-1',\n",
       " 'ACCTTTAGTGCAGACA-1',\n",
       " 'ACCTTTAGTTTCCACC-1',\n",
       " 'ACCTTTATCACCAGGC-1',\n",
       " 'ACGAGCCAGGCAGTCA-1',\n",
       " 'ACGAGCCCAACACGCC-1',\n",
       " 'ACGAGCCCAATCGGTT-1',\n",
       " 'ACGAGCCCACTATCTT-1',\n",
       " 'ACGAGCCCATACTACG-1',\n",
       " 'ACGAGCCCATGTAAGA-1',\n",
       " 'ACGAGCCCATTAGCCA-1',\n",
       " 'ACGAGCCGTAAGGGAA-1',\n",
       " 'ACGAGCCGTAGCGCTC-1',\n",
       " 'ACGAGCCGTTACGTCA-1',\n",
       " 'ACGAGCCTCACCCGAG-1',\n",
       " 'ACGAGCCTCCTGTAGA-1',\n",
       " 'ACGAGCCTCGCCGTGA-1',\n",
       " 'ACGAGCCTCTCGAGTA-1',\n",
       " 'ACGAGGAAGTTAGCGG-1',\n",
       " 'ACGAGGACACAACGCC-1',\n",
       " 'ACGAGGACACGGTAAG-1',\n",
       " 'ACGAGGACAGATGAGC-1',\n",
       " 'ACGAGGACAGCTCGCA-1',\n",
       " 'ACGAGGACATTCACTT-1',\n",
       " 'ACGAGGAGTCAACATC-1',\n",
       " 'ACGAGGAGTCGCGTGT-1',\n",
       " 'ACGAGGAGTGATGTGG-1',\n",
       " 'ACGAGGAGTTGATTCG-1',\n",
       " 'ACGAGGATCCCTCAGT-1',\n",
       " 'ACGAGGATCCTATGTT-1',\n",
       " 'ACGAGGATCCTTTCGG-1',\n",
       " 'ACGAGGATCGCAAACT-1',\n",
       " 'ACGAGGATCGTTTGCC-1',\n",
       " 'ACGAGGATCTCACATT-1',\n",
       " 'ACGATACCAATCCAAC-1',\n",
       " 'ACGATACCACCGAAAG-1',\n",
       " 'ACGATACCAGTAAGCG-1',\n",
       " 'ACGATACGTCATATCG-1',\n",
       " 'ACGATACGTCCGAGTC-1',\n",
       " 'ACGATACTCATGCAAC-1',\n",
       " 'ACGATACTCGAATCCA-1',\n",
       " 'ACGATACTCGACCAGC-1',\n",
       " 'ACGATGTCAAGCTGAG-1',\n",
       " 'ACGATGTCATTAGGCT-1',\n",
       " 'ACGATGTGTAAAGTCA-1',\n",
       " 'ACGATGTGTAGCGATG-1',\n",
       " 'ACGATGTGTAGGAGTC-1',\n",
       " 'ACGATGTGTATTACCG-1',\n",
       " 'ACGATGTGTCAGAATA-1',\n",
       " 'ACGATGTGTGCGATAG-1',\n",
       " 'ACGATGTTCCCATTTA-1',\n",
       " 'ACGATGTTCGGAGGTA-1',\n",
       " 'ACGCAGCAGACACTAA-1',\n",
       " 'ACGCAGCAGATGCCTT-1',\n",
       " 'ACGCAGCCAAACTGCT-1',\n",
       " 'ACGCAGCGTTATCCGA-1',\n",
       " 'ACGCCAGAGCGGCTTC-1',\n",
       " 'ACGCCAGAGGTGCTAG-1',\n",
       " 'ACGCCAGCACACCGAC-1',\n",
       " 'ACGCCAGGTATTCGTG-1',\n",
       " 'ACGCCAGGTGACTCAT-1',\n",
       " 'ACGCCAGTCCCAAGAT-1',\n",
       " 'ACGCCGAAGATGTCGG-1',\n",
       " 'ACGCCGACACCATGTA-1',\n",
       " 'ACGCCGAGTCCGAAGA-1',\n",
       " 'ACGCCGAGTCCGTCAG-1',\n",
       " 'ACGCCGAGTGAAATCA-1',\n",
       " 'ACGCCGAGTGCAGACA-1',\n",
       " 'ACGCCGATCAAAGTAG-1',\n",
       " 'ACGCCGATCGGATGTT-1',\n",
       " 'ACGCCGATCTTTACGT-1',\n",
       " 'ACGGAGAAGATATACG-1',\n",
       " 'ACGGAGAAGCGATGAC-1',\n",
       " 'ACGGAGAGTGACAAAT-1',\n",
       " 'ACGGAGAGTTTAAGCC-1',\n",
       " 'ACGGAGATCGCCTGTT-1',\n",
       " 'ACGGCCACATTGCGGC-1',\n",
       " 'ACGGCCAGTGTCGCTG-1',\n",
       " 'ACGGCCATCGGCCGAT-1',\n",
       " 'ACGGCCATCTCGTTTA-1',\n",
       " 'ACGGGCTAGTGGTAGC-1',\n",
       " 'ACGGGCTAGTTCGATC-1',\n",
       " 'ACGGGCTCAGACAGGT-1',\n",
       " 'ACGGGCTCAGATCCAT-1',\n",
       " 'ACGGGCTCATACAGCT-1',\n",
       " 'ACGGGCTCATGACGGA-1',\n",
       " 'ACGGGCTGTCGGGTCT-1',\n",
       " 'ACGGGCTTCACAACGT-1',\n",
       " 'ACGGGCTTCGTTGACA-1',\n",
       " 'ACGGGCTTCTATCGCC-1',\n",
       " 'ACGGGCTTCTGCGTAA-1',\n",
       " 'ACGGGTCAGCCACGTC-1',\n",
       " 'ACGGGTCAGGGAGTAA-1',\n",
       " 'ACGGGTCCAAATCCGT-1',\n",
       " 'ACGGGTCCACCGAAAG-1',\n",
       " 'ACGGGTCGTAGCTCCG-1',\n",
       " 'ACGGGTCGTTAAGAAC-1',\n",
       " 'ACGGGTCTCCATGCTC-1',\n",
       " 'ACGTCAAAGAATTCCC-1',\n",
       " 'ACGTCAATCCTCTAGC-1',\n",
       " 'ACGTCAATCGAGGTAG-1',\n",
       " 'ACGTCAATCGTATCAG-1',\n",
       " 'ACTATCTAGCACACAG-1',\n",
       " 'ACTATCTAGCGATATA-1',\n",
       " 'ACTATCTCACATTAGC-1',\n",
       " 'ACTATCTCATGCCTTC-1',\n",
       " 'ACTATCTGTAGCAAAT-1',\n",
       " 'ACTATCTGTCATCCCT-1',\n",
       " 'ACTATCTGTCTCACCT-1',\n",
       " 'ACTATCTTCACCCGAG-1',\n",
       " 'ACTATCTTCATCATTC-1',\n",
       " 'ACTATCTTCGTCCAGG-1',\n",
       " 'ACTATCTTCTACCAGA-1',\n",
       " 'ACTGAACAGTCTCAAC-1',\n",
       " 'ACTGAACAGTGGTAGC-1',\n",
       " 'ACTGAACCAAAGTCAA-1',\n",
       " 'ACTGAACCAACTTGAC-1',\n",
       " 'ACTGAACCACGACTCG-1',\n",
       " 'ACTGAACCATCCGTGG-1',\n",
       " 'ACTGAACCATCTCCCA-1',\n",
       " 'ACTGAACGTCGAAAGC-1',\n",
       " 'ACTGAACGTGACGGTA-1',\n",
       " 'ACTGAACTCACGCATA-1',\n",
       " 'ACTGAACTCACTTACT-1',\n",
       " 'ACTGAACTCGCAAGCC-1',\n",
       " 'ACTGAACTCTGCCCTA-1',\n",
       " 'ACTGAGTAGCAGCCTC-1',\n",
       " 'ACTGAGTAGGAGTACC-1',\n",
       " 'ACTGAGTCAATAGAGT-1',\n",
       " 'ACTGAGTGTAGAAGGA-1',\n",
       " 'ACTGAGTGTCGAGATG-1',\n",
       " 'ACTGAGTGTGCAACTT-1',\n",
       " 'ACTGAGTGTTGCTCCT-1',\n",
       " 'ACTGAGTTCGCGTAGC-1',\n",
       " 'ACTGATGAGCCGGTAA-1',\n",
       " 'ACTGATGAGGGATGGG-1',\n",
       " 'ACTGATGAGGTGATAT-1',\n",
       " 'ACTGATGCAGCGAACA-1',\n",
       " 'ACTGATGCATACAGCT-1',\n",
       " 'ACTGATGCATCAGTAC-1',\n",
       " 'ACTGCTCAGCAAATCA-1',\n",
       " 'ACTGCTCAGGAGTAGA-1',\n",
       " 'ACTGCTCCAATGGTCT-1',\n",
       " 'ACTGCTCCACCATGTA-1',\n",
       " 'ACTGCTCCACTAGTAC-1',\n",
       " 'ACTGCTCCACTCAGGC-1',\n",
       " 'ACTGCTCCAGTGGAGT-1',\n",
       " 'ACTGCTCGTCTGGAGA-1',\n",
       " 'ACTGCTCGTCTTCTCG-1',\n",
       " 'ACTGCTCGTTGAACTC-1',\n",
       " 'ACTGCTCTCATCGATG-1',\n",
       " 'ACTGCTCTCCTCAACC-1',\n",
       " 'ACTGCTCTCTTGTACT-1',\n",
       " 'ACTGTCCAGGAATGGA-1',\n",
       " 'ACTGTCCAGTGATCGG-1',\n",
       " 'ACTGTCCCAAAGGTGC-1',\n",
       " 'ACTGTCCCATGCAATC-1',\n",
       " 'ACTGTCCCATTGGGCC-1',\n",
       " 'ACTGTCCGTATTACCG-1',\n",
       " 'ACTGTCCGTGCAGTAG-1',\n",
       " 'ACTGTCCGTGTCAATC-1',\n",
       " 'ACTGTCCGTGTGACGA-1',\n",
       " 'ACTGTCCGTTAAAGTG-1',\n",
       " 'ACTGTCCGTTCCCTTG-1',\n",
       " 'ACTGTCCTCCTCAACC-1',\n",
       " 'ACTGTCCTCTACTTAC-1',\n",
       " 'ACTGTCCTCTTTAGTC-1',\n",
       " 'ACTTACTAGCGGATCA-1',\n",
       " 'ACTTACTAGCGTGAAC-1',\n",
       " 'ACTTACTAGCTCCTCT-1',\n",
       " 'ACTTACTAGTCCATAC-1',\n",
       " 'ACTTACTCAAGACACG-1',\n",
       " 'ACTTACTGTAGCGATG-1',\n",
       " 'ACTTACTGTCTAACGT-1',\n",
       " 'ACTTACTGTGCGCTTG-1',\n",
       " 'ACTTACTTCGCGCCAA-1',\n",
       " 'ACTTGTTAGCTAGCCC-1',\n",
       " 'ACTTGTTAGGGAGTAA-1',\n",
       " 'ACTTGTTCACGTTGGC-1',\n",
       " 'ACTTGTTGTTATGTGC-1',\n",
       " 'ACTTGTTTCGTTACGA-1',\n",
       " 'ACTTGTTTCTCCAACC-1',\n",
       " 'ACTTGTTTCTTTCCTC-1',\n",
       " 'ACTTTCAAGACAGGCT-1',\n",
       " 'ACTTTCAAGCAAATCA-1',\n",
       " 'ACTTTCAAGTACGCGA-1',\n",
       " 'ACTTTCACACCTTGTC-1',\n",
       " 'ACTTTCACACGAAATA-1',\n",
       " 'ACTTTCAGTGTAACGG-1',\n",
       " 'ACTTTCAGTTAGATGA-1',\n",
       " 'ACTTTCATCACTTCAT-1',\n",
       " 'ACTTTCATCAGGCCCA-1',\n",
       " 'AGAATAGAGACTAGAT-1',\n",
       " 'AGAATAGAGAGCAATT-1',\n",
       " 'AGAATAGAGGCTATCT-1',\n",
       " 'AGAATAGCAGGATTGG-1',\n",
       " 'AGAATAGGTATGCTTG-1',\n",
       " 'AGAATAGGTTTCGCTC-1',\n",
       " 'AGAATAGTCATCTGCC-1',\n",
       " 'AGAATAGTCCCACTTG-1',\n",
       " 'AGAATAGTCTTCTGGC-1',\n",
       " 'AGACGTTAGAGGACGG-1',\n",
       " 'AGACGTTCAAACCTAC-1',\n",
       " 'AGACGTTCATACAGCT-1',\n",
       " 'AGACGTTCATCGATGT-1',\n",
       " 'AGACGTTGTATCTGCA-1',\n",
       " 'AGACGTTTCAGTCAGT-1',\n",
       " 'AGACGTTTCCTAAGTG-1',\n",
       " 'AGACGTTTCGGATGTT-1',\n",
       " 'AGAGCGACAAATACAG-1',\n",
       " 'AGAGCGACAAGCCCAC-1',\n",
       " 'AGAGCGACACAGTCGC-1',\n",
       " 'AGAGCGACACCGTTGG-1',\n",
       " 'AGAGCGACAGACGCAA-1',\n",
       " 'AGAGCGACATGGTCTA-1',\n",
       " 'AGAGCGACATTCCTGC-1',\n",
       " 'AGAGCGATCAACTCTT-1',\n",
       " 'AGAGCGATCGCACTCT-1',\n",
       " 'AGAGCTTCAAGGTTTC-1',\n",
       " 'AGAGCTTCATCCTAGA-1',\n",
       " 'AGAGCTTTCACATACG-1',\n",
       " 'AGAGCTTTCGTGGTCG-1',\n",
       " 'AGAGCTTTCTTTACAC-1',\n",
       " 'AGAGTGGAGGCTCAGA-1',\n",
       " 'AGAGTGGAGTGGGATC-1',\n",
       " 'AGAGTGGCACATGACT-1',\n",
       " 'AGAGTGGCACCAGGCT-1',\n",
       " 'AGAGTGGCATCTGGTA-1',\n",
       " 'AGAGTGGTCACTTATC-1',\n",
       " 'AGAGTGGTCCACTCCA-1',\n",
       " 'AGAGTGGTCCTTGCCA-1',\n",
       " 'AGATCTGAGAGTACAT-1',\n",
       " 'AGATCTGAGCTGTCTA-1',\n",
       " 'AGATCTGCAAGGACAC-1',\n",
       " 'AGATCTGCACATTAGC-1',\n",
       " 'AGATCTGCACCAGTTA-1',\n",
       " 'AGATCTGCATGCTAGT-1',\n",
       " 'AGATCTGGTCAAGCGA-1',\n",
       " 'AGATTGCAGACTTTCG-1',\n",
       " 'AGATTGCAGGCTAGGT-1',\n",
       " 'AGATTGCCACGGTAAG-1',\n",
       " 'AGATTGCGTCCGAATT-1',\n",
       " 'AGATTGCTCAACGAAA-1',\n",
       " 'AGATTGCTCCATGAGT-1',\n",
       " 'AGATTGCTCCTATTCA-1',\n",
       " 'AGATTGCTCTTGTTTG-1',\n",
       " 'AGCAGCCAGACAGACC-1',\n",
       " 'AGCAGCCAGAGTGACC-1',\n",
       " 'AGCAGCCAGTCCCACG-1',\n",
       " 'AGCAGCCAGTGTCCCG-1',\n",
       " 'AGCAGCCGTATGAATG-1',\n",
       " 'AGCAGCCGTGGGTCAA-1',\n",
       " 'AGCAGCCTCCGTACAA-1',\n",
       " 'AGCAGCCTCCGTTGCT-1',\n",
       " 'AGCAGCCTCGTCTGCT-1',\n",
       " 'AGCAGCCTCTGCGACG-1',\n",
       " 'AGCATACAGACTTGAA-1',\n",
       " 'AGCATACAGCCCAATT-1',\n",
       " 'AGCATACAGGGTATCG-1',\n",
       " 'AGCATACCATACGCTA-1',\n",
       " 'AGCATACCATAGAAAC-1',\n",
       " 'AGCATACCATTCCTCG-1',\n",
       " 'AGCATACGTACTCTCC-1',\n",
       " 'AGCATACGTCTCTCTG-1',\n",
       " 'AGCATACGTCTGCCAG-1',\n",
       " 'AGCATACGTGCCTGTG-1',\n",
       " 'AGCATACGTTCCGGCA-1',\n",
       " 'AGCATACGTTTAGGAA-1',\n",
       " 'AGCATACTCCAAACAC-1',\n",
       " 'AGCATACTCGGAAATA-1',\n",
       " 'AGCCTAAAGCAGCGTA-1',\n",
       " 'AGCCTAACACGGACAA-1',\n",
       " 'AGCCTAACACGTCAGC-1',\n",
       " 'AGCCTAACAGTTCATG-1',\n",
       " 'AGCCTAACATGAAGTA-1',\n",
       " 'AGCCTAAGTATGCTTG-1',\n",
       " 'AGCCTAAGTCCGTCAG-1',\n",
       " 'AGCCTAAGTCGGGTCT-1',\n",
       " 'AGCGGTCAGAGCTGGT-1',\n",
       " 'AGCGGTCAGATAGCAT-1',\n",
       " 'AGCGGTCAGGTTCCTA-1',\n",
       " 'AGCGGTCAGTCGTACT-1',\n",
       " 'AGCGGTCAGTGGGATC-1',\n",
       " 'AGCGGTCCAACACGCC-1',\n",
       " 'AGCGGTCCAAGGTTTC-1',\n",
       " 'AGCGGTCCAGCGAACA-1',\n",
       " 'AGCGGTCCAGGTTTCA-1',\n",
       " 'AGCGGTCCATGAACCT-1',\n",
       " 'AGCGGTCGTATCACCA-1',\n",
       " 'AGCGGTCGTGTTGAGG-1',\n",
       " 'AGCGGTCGTTAAGACA-1',\n",
       " 'AGCGGTCTCCTTCAAT-1',\n",
       " 'AGCGGTCTCGGAGGTA-1',\n",
       " 'AGCGGTCTCGGCGCTA-1',\n",
       " 'AGCGGTCTCTCCAACC-1',\n",
       " 'AGCGGTCTCTGAAAGA-1',\n",
       " 'AGCGTATAGTGTACCT-1',\n",
       " 'AGCGTATCAATTGCTG-1',\n",
       " 'AGCGTATCACAACGCC-1',\n",
       " 'AGCGTATCAGCGTTCG-1',\n",
       " 'AGCGTATCATGGGAAC-1',\n",
       " 'AGCGTATTCATAACCG-1',\n",
       " 'AGCGTCGAGACCACGA-1',\n",
       " 'AGCGTCGAGAGCCTAG-1',\n",
       " 'AGCGTCGAGCCCTAAT-1',\n",
       " 'AGCGTCGAGTCGATAA-1',\n",
       " 'AGCGTCGCACTAAGTC-1',\n",
       " 'AGCGTCGCATTCCTCG-1',\n",
       " 'AGCGTCGGTAAAGTCA-1',\n",
       " 'AGCGTCGGTGGTACAG-1',\n",
       " 'AGCGTCGTCATTGCCC-1',\n",
       " 'AGCGTCGTCGAGGTAG-1',\n",
       " 'AGCGTCGTCGTCCGTT-1',\n",
       " 'AGCTCCTAGAAACGAG-1',\n",
       " 'AGCTCCTCACATGACT-1',\n",
       " 'AGCTCCTGTATATCCG-1',\n",
       " 'AGCTCCTGTCTCACCT-1',\n",
       " 'AGCTCCTGTGCACTTA-1',\n",
       " 'AGCTCCTGTGCCTGTG-1',\n",
       " 'AGCTCCTGTGGTTTCA-1',\n",
       " 'AGCTCCTGTTACTGAC-1',\n",
       " 'AGCTCCTTCAATAAGG-1',\n",
       " 'AGCTCCTTCGGTCCGA-1',\n",
       " 'AGCTCTCAGAAGGTTT-1',\n",
       " 'AGCTCTCAGCGACGTA-1',\n",
       " 'AGCTCTCAGCTCAACT-1',\n",
       " 'AGCTCTCCACACGCTG-1',\n",
       " 'AGCTCTCCAGAGCCAA-1',\n",
       " 'AGCTCTCCAGCTGCTG-1',\n",
       " 'AGCTCTCCAGGCGATA-1',\n",
       " 'AGCTCTCCAGTAAGCG-1',\n",
       " 'AGCTCTCCATGTCTCC-1',\n",
       " 'AGCTCTCTCCGTTGCT-1',\n",
       " 'AGCTTGAAGATCTGCT-1',\n",
       " 'AGCTTGAAGGCCCGTT-1',\n",
       " 'AGCTTGAAGGCTAGCA-1',\n",
       " 'AGCTTGAAGTAGGTGC-1',\n",
       " 'AGCTTGACAATAACGA-1',\n",
       " 'AGCTTGAGTAAGTGGC-1',\n",
       " 'AGCTTGAGTTGAGGTG-1',\n",
       " 'AGCTTGAGTTTGTTGG-1',\n",
       " 'AGCTTGATCAACACTG-1',\n",
       " 'AGGCCACAGCCCAATT-1',\n",
       " 'AGGCCACCACAGAGGT-1',\n",
       " 'AGGCCGTAGAAAGTGG-1',\n",
       " 'AGGCCGTAGACTGTAA-1',\n",
       " 'AGGCCGTAGGCTAGCA-1',\n",
       " 'AGGCCGTCAAACCCAT-1',\n",
       " 'AGGCCGTGTAATCGTC-1',\n",
       " 'AGGCCGTGTAGTAGTA-1',\n",
       " 'AGGCCGTGTTGAGGTG-1',\n",
       " 'AGGGAGTAGAAACGCC-1',\n",
       " 'AGGGAGTAGGATGCGT-1',\n",
       " 'AGGGAGTAGGTGTGGT-1',\n",
       " 'AGGGAGTCATAGTAAG-1',\n",
       " 'AGGGAGTGTAGCACGA-1',\n",
       " 'AGGGAGTGTCCGAGTC-1',\n",
       " 'AGGGAGTGTCGAAAGC-1',\n",
       " 'AGGGAGTGTTGTCTTT-1',\n",
       " 'AGGGAGTTCCTCATTA-1',\n",
       " 'AGGGATGAGAATAGGG-1',\n",
       " 'AGGGATGAGGAATCGC-1',\n",
       " 'AGGGATGAGGTCGGAT-1',\n",
       " 'AGGGATGAGTGTCCAT-1',\n",
       " 'AGGGATGCACAGACAG-1',\n",
       " 'AGGGATGCAGACTCGC-1',\n",
       " 'AGGGATGCATGGAATA-1',\n",
       " 'AGGGATGGTCCCTTGT-1',\n",
       " 'AGGGATGGTCTCTTTA-1',\n",
       " 'AGGGATGGTTGGAGGT-1',\n",
       " 'AGGGATGGTTGTGGAG-1',\n",
       " 'AGGGATGTCAACGAAA-1',\n",
       " 'AGGGATGTCATTATCC-1',\n",
       " 'AGGGATGTCTGACCTC-1',\n",
       " 'AGGGTGAAGGCATGTG-1',\n",
       " 'AGGGTGACACCTGGTG-1',\n",
       " 'AGGGTGACACGGCTAC-1',\n",
       " 'AGGGTGACATACCATG-1',\n",
       " 'AGGGTGATCACAGGCC-1',\n",
       " 'AGGGTGATCTGCTGCT-1',\n",
       " 'AGGTCATAGCAATCTC-1',\n",
       " 'AGGTCATAGGATGTAT-1',\n",
       " 'AGGTCATCATCTCGCT-1',\n",
       " 'AGGTCATCATTCTCAT-1',\n",
       " 'AGGTCATGTCTTGCGG-1',\n",
       " 'AGGTCATGTTAAGAAC-1',\n",
       " 'AGGTCATGTTCAACCA-1',\n",
       " 'AGGTCATGTTCCTCCA-1',\n",
       " 'AGGTCATTCTCTGAGA-1',\n",
       " 'AGGTCCGAGGTGCAAC-1',\n",
       " 'AGGTCCGAGTGCCAGA-1',\n",
       " 'AGGTCCGCAAGTCATC-1',\n",
       " 'AGGTCCGGTACCAGTT-1',\n",
       " 'AGGTCCGGTAGAGGAA-1',\n",
       " 'AGGTCCGGTCGCCATG-1',\n",
       " 'AGGTCCGGTTGACGTT-1',\n",
       " 'AGGTCCGTCATTTGGG-1',\n",
       " 'AGGTCCGTCTGTCTCG-1',\n",
       " 'AGTAGTCAGCAGACTG-1',\n",
       " 'AGTAGTCAGCGTGTCC-1',\n",
       " 'AGTAGTCAGGATGTAT-1',\n",
       " 'AGTAGTCCACAAGACG-1',\n",
       " 'AGTAGTCGTCTGGTCG-1',\n",
       " 'AGTAGTCTCCATGCTC-1',\n",
       " 'AGTAGTCTCTACTTAC-1',\n",
       " 'AGTAGTCTCTCCAACC-1',\n",
       " 'AGTCTTTAGAGTTGGC-1',\n",
       " 'AGTCTTTCATCTCGCT-1',\n",
       " 'AGTCTTTGTACATCCA-1',\n",
       " 'AGTCTTTGTCAATACC-1',\n",
       " 'AGTCTTTGTGATGCCC-1',\n",
       " 'AGTCTTTGTGGCAAAC-1',\n",
       " 'AGTCTTTGTTAAGGGC-1',\n",
       " 'AGTCTTTTCAAGCCTA-1',\n",
       " 'AGTCTTTTCTGGGCCA-1',\n",
       " 'AGTGAGGAGGAACTGC-1',\n",
       " 'AGTGAGGAGGCTACGA-1',\n",
       " 'AGTGAGGCATGAACCT-1',\n",
       " 'AGTGAGGGTAAACGCG-1',\n",
       " 'AGTGAGGGTGATAAAC-1',\n",
       " 'AGTGAGGTCTACCAGA-1',\n",
       " 'AGTGGGAAGGACATTA-1',\n",
       " 'AGTGGGAAGGCTCTTA-1',\n",
       " 'AGTGGGAAGGGTTCCC-1',\n",
       " 'AGTGGGAAGTGTCCCG-1',\n",
       " 'AGTGGGAAGTTTGCGT-1',\n",
       " 'AGTGGGACACCAGGTC-1',\n",
       " 'AGTGGGACACTGCCAG-1',\n",
       " 'AGTGGGACATCGACGC-1',\n",
       " 'AGTGGGATCGGAATCT-1',\n",
       " 'AGTGGGATCTGTCCGT-1',\n",
       " 'AGTGTCAAGACACTAA-1',\n",
       " 'AGTGTCAAGCTCAACT-1',\n",
       " 'AGTGTCAAGTCCGTAT-1',\n",
       " 'AGTGTCAAGTGTACCT-1',\n",
       " 'AGTGTCACAAACGCGA-1',\n",
       " 'AGTGTCACAAGCGAGT-1',\n",
       " 'AGTGTCACAATGGACG-1',\n",
       " 'AGTGTCACATGCCACG-1',\n",
       " 'AGTGTCACATTCTTAC-1',\n",
       " 'AGTGTCATCATCTGTT-1',\n",
       " 'AGTGTCATCCACGAAT-1',\n",
       " 'AGTGTCATCTTGCAAG-1',\n",
       " 'AGTTGGTAGACTGTAA-1',\n",
       " 'AGTTGGTCAAGGCTCC-1',\n",
       " 'AGTTGGTCATCCGGGT-1',\n",
       " 'AGTTGGTGTAGAGTGC-1',\n",
       " 'AGTTGGTGTCTAGTCA-1',\n",
       " 'AGTTGGTGTTACTGAC-1',\n",
       " 'AGTTGGTTCTCTAAGG-1',\n",
       " 'ATAACGCAGAAGGTGA-1',\n",
       " 'ATAACGCAGCCAGGAT-1',\n",
       " 'ATAACGCAGCCCTAAT-1',\n",
       " 'ATAACGCCATCCGCGA-1',\n",
       " 'ATAACGCGTCCGTCAG-1',\n",
       " 'ATAAGAGAGACATAAC-1',\n",
       " 'ATAAGAGCACCCAGTG-1',\n",
       " 'ATAAGAGCAGGATCGA-1',\n",
       " 'ATAAGAGGTTAGGGTG-1',\n",
       " 'ATAAGAGGTTGACGTT-1',\n",
       " 'ATAAGAGGTTTAAGCC-1',\n",
       " 'ATAAGAGTCATGTAGC-1',\n",
       " 'ATAAGAGTCCTTCAAT-1',\n",
       " 'ATAAGAGTCGTCCAGG-1',\n",
       " 'ATAGACCAGCCTATGT-1',\n",
       " 'ATAGACCAGCTGGAAC-1',\n",
       " 'ATAGACCAGGCTAGAC-1',\n",
       " 'ATAGACCAGGTGCAAC-1',\n",
       " 'ATAGACCAGTAGCCGA-1',\n",
       " 'ATAGACCCACCATGTA-1',\n",
       " 'ATAGACCCATGAAGTA-1',\n",
       " 'ATAGACCGTGCAGGTA-1',\n",
       " 'ATAGACCGTTGCTCCT-1',\n",
       " 'ATAGACCTCCAGAAGG-1',\n",
       " 'ATCACGAAGACGCTTT-1',\n",
       " 'ATCACGAAGATGTTAG-1',\n",
       " 'ATCACGACACTCAGGC-1',\n",
       " 'ATCACGACATCACAAC-1',\n",
       " 'ATCACGAGTCCGTCAG-1',\n",
       " 'ATCACGAGTCCTCCAT-1',\n",
       " 'ATCACGAGTCGCCATG-1',\n",
       " 'ATCATCTAGGCGCTCT-1',\n",
       " 'ATCATCTCAAGAGTCG-1',\n",
       " 'ATCATCTCACCCATGG-1',\n",
       " 'ATCATCTCAGTAAGAT-1',\n",
       " 'ATCATCTCATAGTAAG-1',\n",
       " 'ATCATCTCATGACATC-1',\n",
       " 'ATCATCTCATTTCAGG-1',\n",
       " 'ATCATCTGTCGAGATG-1',\n",
       " 'ATCATCTGTCTAGCGC-1',\n",
       " 'ATCATCTGTCTGCGGT-1',\n",
       " 'ATCATCTTCATTTGGG-1',\n",
       " 'ATCATCTTCTTGAGGT-1',\n",
       " 'ATCATGGAGGATATAC-1',\n",
       " 'ATCATGGCAATAGAGT-1',\n",
       " 'ATCATGGCACTGTTAG-1',\n",
       " 'ATCATGGGTACAGTGG-1',\n",
       " 'ATCATGGTCATAGCAC-1',\n",
       " 'ATCATGGTCGGATGGA-1',\n",
       " 'ATCCACCAGAAGGTGA-1',\n",
       " 'ATCCACCAGACCTTTG-1',\n",
       " 'ATCCACCAGCTGAAAT-1',\n",
       " 'ATCCACCAGTTCGCGC-1',\n",
       " 'ATCCACCCACTCGACG-1',\n",
       " 'ATCCACCCATGTTGAC-1',\n",
       " 'ATCCACCGTGTTTGGT-1',\n",
       " 'ATCCACCTCAGGCAAG-1',\n",
       " 'ATCCACCTCCACGTTC-1',\n",
       " 'ATCCACCTCTCTGAGA-1',\n",
       " 'ATCCGAAAGCTCTCGG-1',\n",
       " 'ATCCGAAAGGCCGAAT-1',\n",
       " 'ATCCGAACACGAAAGC-1',\n",
       " 'ATCCGAACATAAGACA-1',\n",
       " 'ATCCGAACATGTCTCC-1',\n",
       " 'ATCCGAATCAAACCAC-1',\n",
       " 'ATCCGAATCAGTGCAT-1',\n",
       " 'ATCCGAATCCTTTCGG-1',\n",
       " 'ATCCGAATCGTACCGG-1',\n",
       " 'ATCGAGTAGAGACTTA-1',\n",
       " 'ATCGAGTCAAACTGTC-1',\n",
       " 'ATCGAGTCAGGAATCG-1',\n",
       " 'ATCGAGTGTAGCGTGA-1',\n",
       " 'ATCGAGTGTGAGGGTT-1',\n",
       " 'ATCGAGTGTGCTCTTC-1',\n",
       " 'ATCGAGTTCTCAACTT-1',\n",
       " 'ATCTACTAGCCACTAT-1',\n",
       " 'ATCTACTAGGATGGAA-1',\n",
       " 'ATCTACTAGTCACGCC-1',\n",
       " 'ATCTACTCAGCTATTG-1',\n",
       " 'ATCTACTCATCGACGC-1',\n",
       " 'ATCTACTGTCGTTGTA-1',\n",
       " 'ATCTACTGTGCATCTA-1',\n",
       " 'ATCTACTGTTAGATGA-1',\n",
       " 'ATCTACTTCCTGCCAT-1',\n",
       " 'ATCTACTTCCTTGACC-1',\n",
       " 'ATCTGCCAGAGCTTCT-1',\n",
       " 'ATCTGCCAGGACGAAA-1',\n",
       " 'ATCTGCCAGGCTCATT-1',\n",
       " 'ATCTGCCAGGTGCTTT-1',\n",
       " 'ATCTGCCCAATCACAC-1',\n",
       " 'ATCTGCCGTATCAGTC-1',\n",
       " 'ATCTGCCGTCCAGTAT-1',\n",
       " 'ATCTGCCTCAATAAGG-1',\n",
       " 'ATCTGCCTCAGCTCTC-1',\n",
       " 'ATCTGCCTCTGCCCTA-1',\n",
       " 'ATCTGCCTCTGCTGTC-1',\n",
       " 'ATGAGGGAGATGGGTC-1',\n",
       " 'ATGAGGGAGCTAACTC-1',\n",
       " 'ATGAGGGAGTCAAGCG-1',\n",
       " 'ATGAGGGAGTGTACCT-1',\n",
       " 'ATGAGGGCACGAAAGC-1',\n",
       " 'ATGAGGGCATCACGAT-1',\n",
       " 'ATGAGGGGTCGGGTCT-1',\n",
       " 'ATGAGGGGTCTACCTC-1',\n",
       " 'ATGAGGGGTGTCCTCT-1',\n",
       " 'ATGAGGGGTTACCGAT-1',\n",
       " 'ATGAGGGTCAGGCAAG-1',\n",
       " 'ATGAGGGTCCGTTGCT-1',\n",
       " 'ATGAGGGTCTGCTGTC-1',\n",
       " 'ATGCGATAGAGAACAG-1',\n",
       " 'ATGCGATAGAGCCTAG-1',\n",
       " 'ATGCGATAGCAAATCA-1',\n",
       " 'ATGCGATAGCAGATCG-1',\n",
       " 'ATGCGATAGGAGTACC-1',\n",
       " 'ATGCGATAGGCATGGT-1',\n",
       " 'ATGCGATCAGATGGCA-1',\n",
       " 'ATGCGATGTTGGACCC-1',\n",
       " 'ATGCGATTCAGAGGTG-1',\n",
       " 'ATGCGATTCAGATAAG-1',\n",
       " 'ATGCGATTCCGTTGCT-1',\n",
       " 'ATGCGATTCGTTGACA-1',\n",
       " 'ATGGGAGAGAGCTATA-1',\n",
       " 'ATGGGAGCAAGTAGTA-1',\n",
       " 'ATGGGAGCAGCTCCGA-1',\n",
       " 'ATGGGAGGTACCGTAT-1',\n",
       " 'ATGGGAGGTACCGTTA-1',\n",
       " 'ATGGGAGGTACGAAAT-1',\n",
       " 'ATGGGAGGTTACGCGC-1',\n",
       " 'ATGGGAGGTTCAACCA-1',\n",
       " 'ATGGGAGTCGCTTAGA-1',\n",
       " 'ATGGGAGTCTGATTCT-1',\n",
       " 'ATGTGTGAGAGTGACC-1',\n",
       " 'ATGTGTGCACCCATGG-1',\n",
       " 'ATGTGTGGTAATAGCA-1',\n",
       " 'ATGTGTGGTCGTTGTA-1',\n",
       " 'ATGTGTGGTGTGCGTC-1',\n",
       " 'ATGTGTGGTTCTGGTA-1',\n",
       " 'ATGTGTGTCAACCATG-1',\n",
       " 'ATGTGTGTCTGCGACG-1',\n",
       " 'ATTACTCCAAGCGCTC-1',\n",
       " 'ATTACTCCACACGCTG-1',\n",
       " 'ATTACTCCACATTAGC-1',\n",
       " 'ATTACTCCAGTTTACG-1',\n",
       " 'ATTACTCGTGTTTGGT-1',\n",
       " 'ATTACTCTCCGAGCCA-1',\n",
       " 'ATTACTCTCCTATTCA-1',\n",
       " 'ATTATCCAGCTGAAAT-1',\n",
       " 'ATTATCCAGGAATCGC-1',\n",
       " 'ATTATCCAGGACTGGT-1',\n",
       " 'ATTATCCAGTAGTGCG-1',\n",
       " 'ATTATCCAGTTGTAGA-1',\n",
       " 'ATTATCCCAATCAGAA-1',\n",
       " 'ATTATCCCACCGTTGG-1',\n",
       " 'ATTATCCCACTCGACG-1',\n",
       " 'ATTATCCCAGAAGCAC-1',\n",
       " 'ATTATCCCATGGTAGG-1',\n",
       " 'ATTATCCGTACTTCTT-1',\n",
       " 'ATTATCCGTCATCGGC-1',\n",
       " 'ATTATCCGTGCACGAA-1',\n",
       " 'ATTATCCGTTGCGTTA-1',\n",
       " 'ATTATCCGTTGGACCC-1',\n",
       " 'ATTATCCTCATCACCC-1',\n",
       " 'ATTATCCTCATCATTC-1',\n",
       " 'ATTATCCTCTCCAGGG-1',\n",
       " 'ATTCTACAGGCATTGG-1',\n",
       " 'ATTCTACGTAGCTGCC-1',\n",
       " 'ATTCTACGTTGAGTTC-1',\n",
       " 'ATTCTACTCAAACAAG-1',\n",
       " 'ATTCTACTCTTCCTTC-1',\n",
       " 'ATTCTACTCTTGTACT-1',\n",
       " 'ATTGGACAGATAGCAT-1',\n",
       " 'ATTGGACAGCAGCGTA-1',\n",
       " 'ATTGGACAGGCTCATT-1',\n",
       " 'ATTGGACAGTGGCACA-1',\n",
       " 'ATTGGACCAGGCGATA-1',\n",
       " 'ATTGGACCATTATCTC-1',\n",
       " 'ATTGGACGTATGCTTG-1',\n",
       " 'ATTGGACGTTGGTGGA-1',\n",
       " 'ATTGGACTCAACGCTA-1',\n",
       " 'ATTGGACTCAACGGCC-1',\n",
       " 'ATTGGACTCGCGTTTC-1',\n",
       " 'ATTGGTGAGCCGCCTA-1',\n",
       " 'ATTGGTGAGCTAGTGG-1',\n",
       " 'ATTGGTGCAAACTGCT-1',\n",
       " 'ATTGGTGCATGTTGAC-1',\n",
       " 'ATTGGTGGTAAGAGAG-1',\n",
       " 'ATTGGTGGTCACCCAG-1',\n",
       " 'ATTGGTGGTCTGCGGT-1',\n",
       " 'ATTGGTGGTTAAGATG-1',\n",
       " 'ATTGGTGGTTCGGCAC-1',\n",
       " 'ATTGGTGGTTGTTTGG-1',\n",
       " 'ATTGGTGTCTCCTATA-1',\n",
       " 'ATTTCTGAGACAATAC-1',\n",
       " 'ATTTCTGAGGTTCCTA-1',\n",
       " 'ATTTCTGAGTTATCGC-1',\n",
       " 'ATTTCTGGTAATAGCA-1',\n",
       " 'ATTTCTGTCACATAGC-1',\n",
       " 'ATTTCTGTCGCCGTGA-1',\n",
       " 'ATTTCTGTCGTTACAG-1',\n",
       " 'ATTTCTGTCTCTGAGA-1',\n",
       " 'CAACCAAAGGTCGGAT-1',\n",
       " 'CAACCAACACACGCTG-1',\n",
       " 'CAACCAACAGGTGCCT-1',\n",
       " 'CAACCAACATACGCTA-1',\n",
       " 'CAACCAACATGATCCA-1',\n",
       " 'CAACCAAGTGTGGCTC-1',\n",
       " 'CAACCAATCTAACTGG-1',\n",
       " 'CAACCTCAGAACTGTA-1',\n",
       " 'CAACCTCAGACAAGCC-1',\n",
       " 'CAACCTCAGAGCAATT-1',\n",
       " 'CAACCTCAGTGCTGCC-1',\n",
       " 'CAACCTCCATGTAAGA-1',\n",
       " 'CAACCTCGTCCTGCTT-1',\n",
       " 'CAACCTCGTGGTAACG-1',\n",
       " 'CAACCTCGTTCCCGAG-1',\n",
       " 'CAACCTCTCAGTTTGG-1',\n",
       " 'CAACCTCTCGCCATAA-1',\n",
       " ...]"
      ]
     },
     "execution_count": 91,
     "metadata": {},
     "output_type": "execute_result"
    }
   ],
   "source": [
    "cell_barcodes"
   ]
  },
  {
   "cell_type": "code",
   "execution_count": 80,
   "id": "753ee71a",
   "metadata": {
    "collapsed": true
   },
   "outputs": [
    {
     "data": {
      "text/html": [
       "<div>\n",
       "<style scoped>\n",
       "    .dataframe tbody tr th:only-of-type {\n",
       "        vertical-align: middle;\n",
       "    }\n",
       "\n",
       "    .dataframe tbody tr th {\n",
       "        vertical-align: top;\n",
       "    }\n",
       "\n",
       "    .dataframe thead th {\n",
       "        text-align: right;\n",
       "    }\n",
       "</style>\n",
       "<table border=\"1\" class=\"dataframe\">\n",
       "  <thead>\n",
       "    <tr style=\"text-align: right;\">\n",
       "      <th></th>\n",
       "      <th>0</th>\n",
       "    </tr>\n",
       "  </thead>\n",
       "  <tbody>\n",
       "    <tr>\n",
       "      <th>0</th>\n",
       "      <td>AAACCTGAGTGGGCTA-1</td>\n",
       "    </tr>\n",
       "    <tr>\n",
       "      <th>1</th>\n",
       "      <td>AAACCTGAGTGTTAGA-1</td>\n",
       "    </tr>\n",
       "    <tr>\n",
       "      <th>2</th>\n",
       "      <td>AAACCTGGTCGCGTGT-1</td>\n",
       "    </tr>\n",
       "    <tr>\n",
       "      <th>3</th>\n",
       "      <td>AAACCTGGTCTCCACT-1</td>\n",
       "    </tr>\n",
       "    <tr>\n",
       "      <th>4</th>\n",
       "      <td>AAACCTGGTTTACTCT-1</td>\n",
       "    </tr>\n",
       "  </tbody>\n",
       "</table>\n",
       "</div>"
      ],
      "text/plain": [
       "                    0\n",
       "0  AAACCTGAGTGGGCTA-1\n",
       "1  AAACCTGAGTGTTAGA-1\n",
       "2  AAACCTGGTCGCGTGT-1\n",
       "3  AAACCTGGTCTCCACT-1\n",
       "4  AAACCTGGTTTACTCT-1"
      ]
     },
     "execution_count": 80,
     "metadata": {},
     "output_type": "execute_result"
    }
   ],
   "source": [
    "barcodes.head()"
   ]
  },
  {
   "cell_type": "code",
   "execution_count": 8,
   "id": "d0d6c4f6",
   "metadata": {},
   "outputs": [
    {
     "data": {
      "text/plain": [
       "85418"
      ]
     },
     "execution_count": 8,
     "metadata": {},
     "output_type": "execute_result"
    }
   ],
   "source": [
    "len(cell_barcodes)"
   ]
  },
  {
   "cell_type": "code",
   "execution_count": 16,
   "id": "12578a93",
   "metadata": {},
   "outputs": [],
   "source": [
    "features = pd.read_csv(\"../RNA-seq_Hemming2020/GSE163005_features.tsv.gz\", header = None, index_col = 0)\n",
    "gene_names = features.index.tolist()"
   ]
  },
  {
   "cell_type": "code",
   "execution_count": 58,
   "id": "ace90035",
   "metadata": {},
   "outputs": [
    {
     "data": {
      "text/html": [
       "<div>\n",
       "<style scoped>\n",
       "    .dataframe tbody tr th:only-of-type {\n",
       "        vertical-align: middle;\n",
       "    }\n",
       "\n",
       "    .dataframe tbody tr th {\n",
       "        vertical-align: top;\n",
       "    }\n",
       "\n",
       "    .dataframe thead th {\n",
       "        text-align: right;\n",
       "    }\n",
       "</style>\n",
       "<table border=\"1\" class=\"dataframe\">\n",
       "  <thead>\n",
       "    <tr style=\"text-align: right;\">\n",
       "      <th></th>\n",
       "    </tr>\n",
       "    <tr>\n",
       "      <th>0</th>\n",
       "    </tr>\n",
       "  </thead>\n",
       "  <tbody>\n",
       "    <tr>\n",
       "      <th>ENSG00000243485\\tMIR1302-2HG\\tGene Expression</th>\n",
       "    </tr>\n",
       "    <tr>\n",
       "      <th>ENSG00000237613\\tFAM138A\\tGene Expression</th>\n",
       "    </tr>\n",
       "    <tr>\n",
       "      <th>ENSG00000186092\\tOR4F5\\tGene Expression</th>\n",
       "    </tr>\n",
       "    <tr>\n",
       "      <th>ENSG00000238009\\tAL627309.1\\tGene Expression</th>\n",
       "    </tr>\n",
       "    <tr>\n",
       "      <th>ENSG00000239945\\tAL627309.3\\tGene Expression</th>\n",
       "    </tr>\n",
       "  </tbody>\n",
       "</table>\n",
       "</div>"
      ],
      "text/plain": [
       "Empty DataFrame\n",
       "Columns: []\n",
       "Index: [ENSG00000243485\tMIR1302-2HG\tGene Expression, ENSG00000237613\tFAM138A\tGene Expression, ENSG00000186092\tOR4F5\tGene Expression, ENSG00000238009\tAL627309.1\tGene Expression, ENSG00000239945\tAL627309.3\tGene Expression]"
      ]
     },
     "execution_count": 58,
     "metadata": {},
     "output_type": "execute_result"
    }
   ],
   "source": [
    "features.head()"
   ]
  },
  {
   "cell_type": "code",
   "execution_count": 17,
   "id": "a7d2d10b",
   "metadata": {},
   "outputs": [
    {
     "data": {
      "text/plain": [
       "33538"
      ]
     },
     "execution_count": 17,
     "metadata": {},
     "output_type": "execute_result"
    }
   ],
   "source": [
    "len(gene_names)"
   ]
  },
  {
   "cell_type": "code",
   "execution_count": null,
   "id": "e2708f0e",
   "metadata": {},
   "outputs": [],
   "source": [
    "matrix = pd.read_csv(\"../RNA-seq_Hemming2020/GSE163005_matrix.mtx.gz\", skiprows=[0,1,2], header = None, sep = \" \")\n",
    "\n",
    "gene_counts = scipy.sparse.csr_matrix((matrix[2], (matrix[0]-1, matrix[1]-1)), shape = (len(gene_names), len(cell_barcodes)))"
   ]
  },
  {
   "cell_type": "code",
   "execution_count": 39,
   "id": "98426e0b",
   "metadata": {},
   "outputs": [
    {
     "data": {
      "text/html": [
       "<div>\n",
       "<style scoped>\n",
       "    .dataframe tbody tr th:only-of-type {\n",
       "        vertical-align: middle;\n",
       "    }\n",
       "\n",
       "    .dataframe tbody tr th {\n",
       "        vertical-align: top;\n",
       "    }\n",
       "\n",
       "    .dataframe thead th {\n",
       "        text-align: right;\n",
       "    }\n",
       "</style>\n",
       "<table border=\"1\" class=\"dataframe\">\n",
       "  <thead>\n",
       "    <tr style=\"text-align: right;\">\n",
       "      <th></th>\n",
       "      <th>0</th>\n",
       "      <th>1</th>\n",
       "      <th>2</th>\n",
       "    </tr>\n",
       "  </thead>\n",
       "  <tbody>\n",
       "    <tr>\n",
       "      <th>0</th>\n",
       "      <td>33509</td>\n",
       "      <td>1</td>\n",
       "      <td>8</td>\n",
       "    </tr>\n",
       "    <tr>\n",
       "      <th>1</th>\n",
       "      <td>33507</td>\n",
       "      <td>1</td>\n",
       "      <td>2</td>\n",
       "    </tr>\n",
       "    <tr>\n",
       "      <th>2</th>\n",
       "      <td>33506</td>\n",
       "      <td>1</td>\n",
       "      <td>2</td>\n",
       "    </tr>\n",
       "    <tr>\n",
       "      <th>3</th>\n",
       "      <td>33504</td>\n",
       "      <td>1</td>\n",
       "      <td>4</td>\n",
       "    </tr>\n",
       "    <tr>\n",
       "      <th>4</th>\n",
       "      <td>33503</td>\n",
       "      <td>1</td>\n",
       "      <td>7</td>\n",
       "    </tr>\n",
       "  </tbody>\n",
       "</table>\n",
       "</div>"
      ],
      "text/plain": [
       "       0  1  2\n",
       "0  33509  1  8\n",
       "1  33507  1  2\n",
       "2  33506  1  2\n",
       "3  33504  1  4\n",
       "4  33503  1  7"
      ]
     },
     "execution_count": 39,
     "metadata": {},
     "output_type": "execute_result"
    }
   ],
   "source": [
    "matrix.head()"
   ]
  },
  {
   "cell_type": "code",
   "execution_count": 47,
   "id": "a89d1746",
   "metadata": {},
   "outputs": [
    {
     "data": {
      "text/plain": [
       "count    9.216369e+07\n",
       "mean     3.075945e+00\n",
       "std      1.693038e+01\n",
       "min      1.000000e+00\n",
       "25%      1.000000e+00\n",
       "50%      1.000000e+00\n",
       "75%      2.000000e+00\n",
       "max      2.939900e+04\n",
       "Name: 2, dtype: float64"
      ]
     },
     "execution_count": 47,
     "metadata": {},
     "output_type": "execute_result"
    }
   ],
   "source": [
    "matrix.iloc[:,2].describe()"
   ]
  },
  {
   "cell_type": "code",
   "execution_count": 49,
   "id": "a031e152",
   "metadata": {},
   "outputs": [
    {
     "data": {
      "text/plain": [
       "count    9.216369e+07\n",
       "mean     1.672480e+04\n",
       "std      9.860481e+03\n",
       "min      1.000000e+00\n",
       "25%      8.144000e+03\n",
       "50%      1.691000e+04\n",
       "75%      2.528000e+04\n",
       "max      3.353600e+04\n",
       "Name: 0, dtype: float64"
      ]
     },
     "execution_count": 49,
     "metadata": {},
     "output_type": "execute_result"
    }
   ],
   "source": [
    "matrix.iloc[:,0].describe()"
   ]
  },
  {
   "cell_type": "code",
   "execution_count": 45,
   "id": "8da83365",
   "metadata": {},
   "outputs": [
    {
     "data": {
      "text/plain": [
       "283490463"
      ]
     },
     "execution_count": 45,
     "metadata": {},
     "output_type": "execute_result"
    }
   ],
   "source": [
    "matrix.iloc[:, 2].sum()"
   ]
  },
  {
   "cell_type": "code",
   "execution_count": 48,
   "id": "04f0550c",
   "metadata": {},
   "outputs": [
    {
     "data": {
      "text/plain": [
       "2864748884"
      ]
     },
     "execution_count": 48,
     "metadata": {},
     "output_type": "execute_result"
    }
   ],
   "source": [
    "33538 * 85418"
   ]
  },
  {
   "cell_type": "code",
   "execution_count": 53,
   "id": "7cc86272",
   "metadata": {
    "scrolled": true
   },
   "outputs": [
    {
     "name": "stdout",
     "output_type": "stream",
     "text": [
      "92163693\n"
     ]
    }
   ],
   "source": [
    "print(gene_counts.nnz)"
   ]
  },
  {
   "cell_type": "code",
   "execution_count": 54,
   "id": "5dca6e3b",
   "metadata": {},
   "outputs": [
    {
     "data": {
      "text/plain": [
       "True"
      ]
     },
     "execution_count": 54,
     "metadata": {},
     "output_type": "execute_result"
    }
   ],
   "source": [
    "92163693 == 92163693"
   ]
  },
  {
   "cell_type": "code",
   "execution_count": null,
   "id": "b5a2fdab",
   "metadata": {},
   "outputs": [],
   "source": [
    "adata = sc.AnnData(X=gene_counts, obs=pd.DataFrame(index=cell_barcodes), var=pd.DataFrame(index=gene_names))\n"
   ]
  },
  {
   "cell_type": "markdown",
   "id": "80f05ebc",
   "metadata": {},
   "source": [
    "# Exploring Patient Data"
   ]
  },
  {
   "cell_type": "markdown",
   "id": "f00697c8",
   "metadata": {},
   "source": [
    "\n",
    "### Patient Annotation"
   ]
  },
  {
   "cell_type": "code",
   "execution_count": 125,
   "id": "f456f8a8",
   "metadata": {},
   "outputs": [],
   "source": [
    "patient_annotations = pd.read_csv(\"../RNA-seq_Hemming2020/Data/GSE163005_annotation_patients.csv.gz\", skiprows=[0],\n",
    "                                 names = [\"Barcode\", \"Patient_ID\"])\n"
   ]
  },
  {
   "cell_type": "code",
   "execution_count": 126,
   "id": "2d8893cf",
   "metadata": {
    "scrolled": true
   },
   "outputs": [
    {
     "data": {
      "text/plain": [
       "0    MS19270\n",
       "1    MS19270\n",
       "2    MS19270\n",
       "3    MS19270\n",
       "4    MS19270\n",
       "Name: Patient_ID, dtype: object"
      ]
     },
     "execution_count": 126,
     "metadata": {},
     "output_type": "execute_result"
    }
   ],
   "source": [
    "patient_annotations[\"Patient_ID\"].head()"
   ]
  },
  {
   "cell_type": "code",
   "execution_count": 151,
   "id": "5fd0d25e",
   "metadata": {},
   "outputs": [
    {
     "data": {
      "text/plain": [
       "(80919, 2)"
      ]
     },
     "execution_count": 151,
     "metadata": {},
     "output_type": "execute_result"
    }
   ],
   "source": [
    "patient_annotations.shape"
   ]
  },
  {
   "cell_type": "code",
   "execution_count": 103,
   "id": "0fd00ce2",
   "metadata": {
    "scrolled": false
   },
   "outputs": [
    {
     "data": {
      "text/plain": [
       "array(['MS19270', 'MS49131', 'MS58637', 'MS71658', 'IIH32190', 'IIH41540',\n",
       "       'IIH45044', 'IIH85037', 'IIH10999', 'IIH47578', 'IIH53423',\n",
       "       'IIH68490', 'IIH91012', 'MS25719', 'MS76177', 'MS77654', 'MS79670',\n",
       "       'MS90896', 'VE48279', 'VE61728', 'COV1919', 'COV1923', 'COV1924',\n",
       "       'COV1930', 'COV1943', 'COV1950', 'COV1954', 'COV1933', 'VE23642',\n",
       "       'VE57538', 'VE66730'], dtype=object)"
      ]
     },
     "execution_count": 103,
     "metadata": {},
     "output_type": "execute_result"
    }
   ],
   "source": [
    "patient_annotations.iloc[:,1].unique()"
   ]
  },
  {
   "cell_type": "markdown",
   "id": "638af921",
   "metadata": {},
   "source": [
    "### Patient Diagnosis"
   ]
  },
  {
   "cell_type": "code",
   "execution_count": 129,
   "id": "fef4c00f",
   "metadata": {},
   "outputs": [],
   "source": [
    "diagnosis_annotations = pd.read_csv(\"../RNA-seq_Hemming2020/Data/GSE163005_annotation_dx.csv.gz\",\n",
    "                                   skiprows = [0], header = None,\n",
    "                                   names = [\"Barcode\", \"Diagnosis\"])"
   ]
  },
  {
   "cell_type": "code",
   "execution_count": 130,
   "id": "a759b4a2",
   "metadata": {},
   "outputs": [
    {
     "data": {
      "text/html": [
       "<div>\n",
       "<style scoped>\n",
       "    .dataframe tbody tr th:only-of-type {\n",
       "        vertical-align: middle;\n",
       "    }\n",
       "\n",
       "    .dataframe tbody tr th {\n",
       "        vertical-align: top;\n",
       "    }\n",
       "\n",
       "    .dataframe thead th {\n",
       "        text-align: right;\n",
       "    }\n",
       "</style>\n",
       "<table border=\"1\" class=\"dataframe\">\n",
       "  <thead>\n",
       "    <tr style=\"text-align: right;\">\n",
       "      <th></th>\n",
       "      <th>Barcode</th>\n",
       "      <th>Diagnosis</th>\n",
       "    </tr>\n",
       "  </thead>\n",
       "  <tbody>\n",
       "    <tr>\n",
       "      <th>0</th>\n",
       "      <td>AAACCTGAGTGGGCTA-1</td>\n",
       "      <td>MS</td>\n",
       "    </tr>\n",
       "    <tr>\n",
       "      <th>1</th>\n",
       "      <td>AAACCTGAGTGTTAGA-1</td>\n",
       "      <td>MS</td>\n",
       "    </tr>\n",
       "    <tr>\n",
       "      <th>2</th>\n",
       "      <td>AAACCTGGTCGCGTGT-1</td>\n",
       "      <td>MS</td>\n",
       "    </tr>\n",
       "    <tr>\n",
       "      <th>3</th>\n",
       "      <td>AAACCTGGTCTCCACT-1</td>\n",
       "      <td>MS</td>\n",
       "    </tr>\n",
       "    <tr>\n",
       "      <th>4</th>\n",
       "      <td>AAACCTGGTTTACTCT-1</td>\n",
       "      <td>MS</td>\n",
       "    </tr>\n",
       "  </tbody>\n",
       "</table>\n",
       "</div>"
      ],
      "text/plain": [
       "              Barcode Diagnosis\n",
       "0  AAACCTGAGTGGGCTA-1        MS\n",
       "1  AAACCTGAGTGTTAGA-1        MS\n",
       "2  AAACCTGGTCGCGTGT-1        MS\n",
       "3  AAACCTGGTCTCCACT-1        MS\n",
       "4  AAACCTGGTTTACTCT-1        MS"
      ]
     },
     "execution_count": 130,
     "metadata": {},
     "output_type": "execute_result"
    }
   ],
   "source": [
    "diagnosis_annotations.head()"
   ]
  },
  {
   "cell_type": "code",
   "execution_count": 153,
   "id": "40b47fc2",
   "metadata": {},
   "outputs": [
    {
     "data": {
      "text/plain": [
       "(80919, 2)"
      ]
     },
     "execution_count": 153,
     "metadata": {},
     "output_type": "execute_result"
    }
   ],
   "source": [
    "diagnosis_annotations.shape"
   ]
  },
  {
   "cell_type": "code",
   "execution_count": 113,
   "id": "6979632a",
   "metadata": {},
   "outputs": [
    {
     "data": {
      "text/plain": [
       "Index(['Unnamed: 0', 'x'], dtype='object')"
      ]
     },
     "execution_count": 113,
     "metadata": {},
     "output_type": "execute_result"
    }
   ],
   "source": [
    "diagnosis_annotations.columns"
   ]
  },
  {
   "cell_type": "code",
   "execution_count": 107,
   "id": "f6b90071",
   "metadata": {},
   "outputs": [
    {
     "data": {
      "text/html": [
       "<div>\n",
       "<style scoped>\n",
       "    .dataframe tbody tr th:only-of-type {\n",
       "        vertical-align: middle;\n",
       "    }\n",
       "\n",
       "    .dataframe tbody tr th {\n",
       "        vertical-align: top;\n",
       "    }\n",
       "\n",
       "    .dataframe thead th {\n",
       "        text-align: right;\n",
       "    }\n",
       "</style>\n",
       "<table border=\"1\" class=\"dataframe\">\n",
       "  <thead>\n",
       "    <tr style=\"text-align: right;\">\n",
       "      <th></th>\n",
       "      <th>Unnamed: 0</th>\n",
       "      <th>x</th>\n",
       "    </tr>\n",
       "  </thead>\n",
       "  <tbody>\n",
       "    <tr>\n",
       "      <th>0</th>\n",
       "      <td>AAACCTGAGTGGGCTA-1</td>\n",
       "      <td>MS</td>\n",
       "    </tr>\n",
       "    <tr>\n",
       "      <th>1</th>\n",
       "      <td>AAACCTGAGTGTTAGA-1</td>\n",
       "      <td>MS</td>\n",
       "    </tr>\n",
       "    <tr>\n",
       "      <th>2</th>\n",
       "      <td>AAACCTGGTCGCGTGT-1</td>\n",
       "      <td>MS</td>\n",
       "    </tr>\n",
       "    <tr>\n",
       "      <th>3</th>\n",
       "      <td>AAACCTGGTCTCCACT-1</td>\n",
       "      <td>MS</td>\n",
       "    </tr>\n",
       "    <tr>\n",
       "      <th>4</th>\n",
       "      <td>AAACCTGGTTTACTCT-1</td>\n",
       "      <td>MS</td>\n",
       "    </tr>\n",
       "  </tbody>\n",
       "</table>\n",
       "</div>"
      ],
      "text/plain": [
       "           Unnamed: 0   x\n",
       "0  AAACCTGAGTGGGCTA-1  MS\n",
       "1  AAACCTGAGTGTTAGA-1  MS\n",
       "2  AAACCTGGTCGCGTGT-1  MS\n",
       "3  AAACCTGGTCTCCACT-1  MS\n",
       "4  AAACCTGGTTTACTCT-1  MS"
      ]
     },
     "execution_count": 107,
     "metadata": {},
     "output_type": "execute_result"
    }
   ],
   "source": [
    "diagnosis_annotations.head()"
   ]
  },
  {
   "cell_type": "code",
   "execution_count": 108,
   "id": "2cef6d21",
   "metadata": {
    "scrolled": true
   },
   "outputs": [
    {
     "data": {
      "text/plain": [
       "array(['MS', 'IIH', 'VE', 'COVID'], dtype=object)"
      ]
     },
     "execution_count": 108,
     "metadata": {},
     "output_type": "execute_result"
    }
   ],
   "source": [
    "diagnosis_annotations.iloc[:,1].unique()"
   ]
  },
  {
   "cell_type": "markdown",
   "id": "4f46201b",
   "metadata": {},
   "source": [
    "### Annotation Clusters"
   ]
  },
  {
   "cell_type": "code",
   "execution_count": 163,
   "id": "89b7d9ac",
   "metadata": {},
   "outputs": [],
   "source": [
    "annotation_clusters = pd.read_csv('../RNA-seq_Hemming2020/Data/GSE163005_annotation_cluster.csv.gz',\n",
    "                                 skiprows = [0], header = None,\n",
    "                                   names = [\"Barcode\", \"Clusters\"])"
   ]
  },
  {
   "cell_type": "code",
   "execution_count": 164,
   "id": "b9393979",
   "metadata": {},
   "outputs": [
    {
     "data": {
      "text/html": [
       "<div>\n",
       "<style scoped>\n",
       "    .dataframe tbody tr th:only-of-type {\n",
       "        vertical-align: middle;\n",
       "    }\n",
       "\n",
       "    .dataframe tbody tr th {\n",
       "        vertical-align: top;\n",
       "    }\n",
       "\n",
       "    .dataframe thead th {\n",
       "        text-align: right;\n",
       "    }\n",
       "</style>\n",
       "<table border=\"1\" class=\"dataframe\">\n",
       "  <thead>\n",
       "    <tr style=\"text-align: right;\">\n",
       "      <th></th>\n",
       "      <th>Barcode</th>\n",
       "      <th>Clusters</th>\n",
       "    </tr>\n",
       "  </thead>\n",
       "  <tbody>\n",
       "    <tr>\n",
       "      <th>0</th>\n",
       "      <td>AAACCTGAGTGGGCTA-1</td>\n",
       "      <td>CD4</td>\n",
       "    </tr>\n",
       "    <tr>\n",
       "      <th>1</th>\n",
       "      <td>AAACCTGAGTGTTAGA-1</td>\n",
       "      <td>CD8</td>\n",
       "    </tr>\n",
       "    <tr>\n",
       "      <th>2</th>\n",
       "      <td>AAACCTGGTCGCGTGT-1</td>\n",
       "      <td>mDC2</td>\n",
       "    </tr>\n",
       "    <tr>\n",
       "      <th>3</th>\n",
       "      <td>AAACCTGGTCTCCACT-1</td>\n",
       "      <td>CD4</td>\n",
       "    </tr>\n",
       "    <tr>\n",
       "      <th>4</th>\n",
       "      <td>AAACCTGGTTTACTCT-1</td>\n",
       "      <td>CD4</td>\n",
       "    </tr>\n",
       "  </tbody>\n",
       "</table>\n",
       "</div>"
      ],
      "text/plain": [
       "              Barcode Clusters\n",
       "0  AAACCTGAGTGGGCTA-1      CD4\n",
       "1  AAACCTGAGTGTTAGA-1      CD8\n",
       "2  AAACCTGGTCGCGTGT-1     mDC2\n",
       "3  AAACCTGGTCTCCACT-1      CD4\n",
       "4  AAACCTGGTTTACTCT-1      CD4"
      ]
     },
     "execution_count": 164,
     "metadata": {},
     "output_type": "execute_result"
    }
   ],
   "source": [
    "annotation_clusters.head()"
   ]
  },
  {
   "cell_type": "code",
   "execution_count": 157,
   "id": "af1b8d78",
   "metadata": {},
   "outputs": [
    {
     "data": {
      "text/plain": [
       "(80919, 2)"
      ]
     },
     "execution_count": 157,
     "metadata": {},
     "output_type": "execute_result"
    }
   ],
   "source": [
    "annotation_clusters.shape"
   ]
  },
  {
   "cell_type": "code",
   "execution_count": 165,
   "id": "fb65ae33",
   "metadata": {},
   "outputs": [
    {
     "data": {
      "text/plain": [
       "array(['CD4', 'CD8', 'mDC2', 'granulo1', 'naiveBc', 'plasma', 'mono1',\n",
       "       'pDC', 'NK', 'mono2', 'Treg', 'mDC1', 'cycling', 'matDC', 'mono3',\n",
       "       'granulo2'], dtype=object)"
      ]
     },
     "execution_count": 165,
     "metadata": {},
     "output_type": "execute_result"
    }
   ],
   "source": [
    "annotation_clusters.iloc[:,1].unique()"
   ]
  },
  {
   "cell_type": "markdown",
   "id": "92c86b00",
   "metadata": {},
   "source": [
    "### Annotation tcell clusters"
   ]
  },
  {
   "cell_type": "code",
   "execution_count": 167,
   "id": "a316bf3c",
   "metadata": {},
   "outputs": [],
   "source": [
    "annotation_tcell_clusters = pd.read_csv('../RNA-seq_Hemming2020/Data/GSE163005_annotation_tcells_cluster.csv.gz',\n",
    "                                 skiprows = [0], header = None,\n",
    "                                   names = [\"Barcode\", \"Tcells_Clusters\"])"
   ]
  },
  {
   "cell_type": "code",
   "execution_count": 168,
   "id": "fe4ab71a",
   "metadata": {},
   "outputs": [
    {
     "data": {
      "text/html": [
       "<div>\n",
       "<style scoped>\n",
       "    .dataframe tbody tr th:only-of-type {\n",
       "        vertical-align: middle;\n",
       "    }\n",
       "\n",
       "    .dataframe tbody tr th {\n",
       "        vertical-align: top;\n",
       "    }\n",
       "\n",
       "    .dataframe thead th {\n",
       "        text-align: right;\n",
       "    }\n",
       "</style>\n",
       "<table border=\"1\" class=\"dataframe\">\n",
       "  <thead>\n",
       "    <tr style=\"text-align: right;\">\n",
       "      <th></th>\n",
       "      <th>Barcode</th>\n",
       "      <th>Tcells_Clusters</th>\n",
       "    </tr>\n",
       "  </thead>\n",
       "  <tbody>\n",
       "    <tr>\n",
       "      <th>0</th>\n",
       "      <td>AAACCTGAGTGGGCTA-1</td>\n",
       "      <td>proli_CD4</td>\n",
       "    </tr>\n",
       "    <tr>\n",
       "      <th>1</th>\n",
       "      <td>AAACCTGAGTGTTAGA-1</td>\n",
       "      <td>CD8_1</td>\n",
       "    </tr>\n",
       "    <tr>\n",
       "      <th>2</th>\n",
       "      <td>AAACCTGGTCTCCACT-1</td>\n",
       "      <td>memory_CD4</td>\n",
       "    </tr>\n",
       "    <tr>\n",
       "      <th>3</th>\n",
       "      <td>AAACCTGGTTTACTCT-1</td>\n",
       "      <td>memory_CD4</td>\n",
       "    </tr>\n",
       "    <tr>\n",
       "      <th>4</th>\n",
       "      <td>AAACCTGTCTCCTATA-1</td>\n",
       "      <td>memory_CD4</td>\n",
       "    </tr>\n",
       "  </tbody>\n",
       "</table>\n",
       "</div>"
      ],
      "text/plain": [
       "              Barcode Tcells_Clusters\n",
       "0  AAACCTGAGTGGGCTA-1       proli_CD4\n",
       "1  AAACCTGAGTGTTAGA-1           CD8_1\n",
       "2  AAACCTGGTCTCCACT-1      memory_CD4\n",
       "3  AAACCTGGTTTACTCT-1      memory_CD4\n",
       "4  AAACCTGTCTCCTATA-1      memory_CD4"
      ]
     },
     "execution_count": 168,
     "metadata": {},
     "output_type": "execute_result"
    }
   ],
   "source": [
    "annotation_tcell_clusters.head()"
   ]
  },
  {
   "cell_type": "code",
   "execution_count": 161,
   "id": "feb98456",
   "metadata": {},
   "outputs": [
    {
     "data": {
      "text/plain": [
       "(61642, 2)"
      ]
     },
     "execution_count": 161,
     "metadata": {},
     "output_type": "execute_result"
    }
   ],
   "source": [
    "annotation_tcell_clusters.shape"
   ]
  },
  {
   "cell_type": "code",
   "execution_count": 162,
   "id": "15e0607b",
   "metadata": {},
   "outputs": [
    {
     "data": {
      "text/plain": [
       "array(['proli_CD4', 'CD8_1', 'memory_CD4', 'exh_CD4', 'CD8_2',\n",
       "       'naive_CD4', 'CD4_Treg', 'antiviral_CD4'], dtype=object)"
      ]
     },
     "execution_count": 162,
     "metadata": {},
     "output_type": "execute_result"
    }
   ],
   "source": [
    "annotation_tcell_clusters.iloc[:,1].unique()"
   ]
  },
  {
   "cell_type": "markdown",
   "id": "bdca8379",
   "metadata": {},
   "source": [
    "### Gene names and Barcodes"
   ]
  },
  {
   "cell_type": "code",
   "execution_count": 170,
   "id": "6e32c866",
   "metadata": {},
   "outputs": [],
   "source": [
    "gene_names = pd.read_csv('../RNA-seq_Hemming2020/Data/GSE163005_features.tsv.gz', header=None, sep='\\t')\n",
    "cell_barcodes = pd.read_csv('../RNA-seq_Hemming2020/Data/GSE163005_barcodes.tsv.gz', header=None, sep='\\t')"
   ]
  },
  {
   "cell_type": "code",
   "execution_count": 172,
   "id": "b11323cd",
   "metadata": {},
   "outputs": [
    {
     "name": "stdout",
     "output_type": "stream",
     "text": [
      "Gene_names shape: (33538, 3)\n",
      "cell_barcodes shape: (85418, 1)\n"
     ]
    }
   ],
   "source": [
    "print(f'Gene_names shape: {gene_names.shape}')\n",
    "print(f'cell_barcodes shape: {cell_barcodes.shape}')"
   ]
  },
  {
   "cell_type": "code",
   "execution_count": 150,
   "id": "de84c970",
   "metadata": {},
   "outputs": [
    {
     "data": {
      "text/html": [
       "<div>\n",
       "<style scoped>\n",
       "    .dataframe tbody tr th:only-of-type {\n",
       "        vertical-align: middle;\n",
       "    }\n",
       "\n",
       "    .dataframe tbody tr th {\n",
       "        vertical-align: top;\n",
       "    }\n",
       "\n",
       "    .dataframe thead th {\n",
       "        text-align: right;\n",
       "    }\n",
       "</style>\n",
       "<table border=\"1\" class=\"dataframe\">\n",
       "  <thead>\n",
       "    <tr style=\"text-align: right;\">\n",
       "      <th></th>\n",
       "      <th>0</th>\n",
       "    </tr>\n",
       "  </thead>\n",
       "  <tbody>\n",
       "    <tr>\n",
       "      <th>0</th>\n",
       "      <td>AAACCTGAGTGGGCTA-1</td>\n",
       "    </tr>\n",
       "    <tr>\n",
       "      <th>1</th>\n",
       "      <td>AAACCTGAGTGTTAGA-1</td>\n",
       "    </tr>\n",
       "    <tr>\n",
       "      <th>2</th>\n",
       "      <td>AAACCTGGTCGCGTGT-1</td>\n",
       "    </tr>\n",
       "    <tr>\n",
       "      <th>3</th>\n",
       "      <td>AAACCTGGTCTCCACT-1</td>\n",
       "    </tr>\n",
       "    <tr>\n",
       "      <th>4</th>\n",
       "      <td>AAACCTGGTTTACTCT-1</td>\n",
       "    </tr>\n",
       "  </tbody>\n",
       "</table>\n",
       "</div>"
      ],
      "text/plain": [
       "                    0\n",
       "0  AAACCTGAGTGGGCTA-1\n",
       "1  AAACCTGAGTGTTAGA-1\n",
       "2  AAACCTGGTCGCGTGT-1\n",
       "3  AAACCTGGTCTCCACT-1\n",
       "4  AAACCTGGTTTACTCT-1"
      ]
     },
     "execution_count": 150,
     "metadata": {},
     "output_type": "execute_result"
    }
   ],
   "source": [
    "cell_barcodes.head()"
   ]
  },
  {
   "cell_type": "code",
   "execution_count": 149,
   "id": "c2403d8e",
   "metadata": {},
   "outputs": [
    {
     "data": {
      "text/html": [
       "<div>\n",
       "<style scoped>\n",
       "    .dataframe tbody tr th:only-of-type {\n",
       "        vertical-align: middle;\n",
       "    }\n",
       "\n",
       "    .dataframe tbody tr th {\n",
       "        vertical-align: top;\n",
       "    }\n",
       "\n",
       "    .dataframe thead th {\n",
       "        text-align: right;\n",
       "    }\n",
       "</style>\n",
       "<table border=\"1\" class=\"dataframe\">\n",
       "  <thead>\n",
       "    <tr style=\"text-align: right;\">\n",
       "      <th></th>\n",
       "      <th>0</th>\n",
       "      <th>1</th>\n",
       "      <th>2</th>\n",
       "    </tr>\n",
       "  </thead>\n",
       "  <tbody>\n",
       "    <tr>\n",
       "      <th>0</th>\n",
       "      <td>ENSG00000243485</td>\n",
       "      <td>MIR1302-2HG</td>\n",
       "      <td>Gene Expression</td>\n",
       "    </tr>\n",
       "    <tr>\n",
       "      <th>1</th>\n",
       "      <td>ENSG00000237613</td>\n",
       "      <td>FAM138A</td>\n",
       "      <td>Gene Expression</td>\n",
       "    </tr>\n",
       "    <tr>\n",
       "      <th>2</th>\n",
       "      <td>ENSG00000186092</td>\n",
       "      <td>OR4F5</td>\n",
       "      <td>Gene Expression</td>\n",
       "    </tr>\n",
       "    <tr>\n",
       "      <th>3</th>\n",
       "      <td>ENSG00000238009</td>\n",
       "      <td>AL627309.1</td>\n",
       "      <td>Gene Expression</td>\n",
       "    </tr>\n",
       "    <tr>\n",
       "      <th>4</th>\n",
       "      <td>ENSG00000239945</td>\n",
       "      <td>AL627309.3</td>\n",
       "      <td>Gene Expression</td>\n",
       "    </tr>\n",
       "  </tbody>\n",
       "</table>\n",
       "</div>"
      ],
      "text/plain": [
       "                 0            1                2\n",
       "0  ENSG00000243485  MIR1302-2HG  Gene Expression\n",
       "1  ENSG00000237613      FAM138A  Gene Expression\n",
       "2  ENSG00000186092        OR4F5  Gene Expression\n",
       "3  ENSG00000238009   AL627309.1  Gene Expression\n",
       "4  ENSG00000239945   AL627309.3  Gene Expression"
      ]
     },
     "execution_count": 149,
     "metadata": {},
     "output_type": "execute_result"
    }
   ],
   "source": [
    "gene_names.head()"
   ]
  },
  {
   "cell_type": "code",
   "execution_count": 173,
   "id": "e150f33b",
   "metadata": {},
   "outputs": [
    {
     "data": {
      "text/plain": [
       "array(['Gene Expression'], dtype=object)"
      ]
     },
     "execution_count": 173,
     "metadata": {},
     "output_type": "execute_result"
    }
   ],
   "source": [
    "gene_names.iloc[:,2].unique()"
   ]
  },
  {
   "cell_type": "code",
   "execution_count": 142,
   "id": "bbc974ff",
   "metadata": {},
   "outputs": [
    {
     "data": {
      "text/plain": [
       "(33538, 3)"
      ]
     },
     "execution_count": 142,
     "metadata": {},
     "output_type": "execute_result"
    }
   ],
   "source": [
    "gene_names.shape"
   ]
  },
  {
   "cell_type": "code",
   "execution_count": 143,
   "id": "39631e92",
   "metadata": {},
   "outputs": [
    {
     "data": {
      "text/plain": [
       "(85418, 1)"
      ]
     },
     "execution_count": 143,
     "metadata": {},
     "output_type": "execute_result"
    }
   ],
   "source": [
    "cell_barcodes.shape"
   ]
  },
  {
   "cell_type": "markdown",
   "id": "83cd29ca",
   "metadata": {},
   "source": [
    "### Testing tto see if the orders and barcodes names are identical"
   ]
  },
  {
   "cell_type": "code",
   "execution_count": 132,
   "id": "00d25b76",
   "metadata": {},
   "outputs": [
    {
     "data": {
      "text/plain": [
       "True"
      ]
     },
     "execution_count": 132,
     "metadata": {},
     "output_type": "execute_result"
    }
   ],
   "source": [
    "diagnosis_annotations['Barcode'].equals(patient_annotations[\"Barcode\"])"
   ]
  },
  {
   "cell_type": "code",
   "execution_count": 133,
   "id": "911ea8fd",
   "metadata": {},
   "outputs": [
    {
     "data": {
      "text/plain": [
       "80919"
      ]
     },
     "execution_count": 133,
     "metadata": {},
     "output_type": "execute_result"
    }
   ],
   "source": [
    "len(diagnosis_annotations['Barcode'])"
   ]
  },
  {
   "cell_type": "code",
   "execution_count": 134,
   "id": "52bf10e9",
   "metadata": {},
   "outputs": [
    {
     "data": {
      "text/plain": [
       "80919"
      ]
     },
     "execution_count": 134,
     "metadata": {},
     "output_type": "execute_result"
    }
   ],
   "source": [
    "len(patient_annotations['Barcode'])"
   ]
  },
  {
   "cell_type": "code",
   "execution_count": 148,
   "id": "4c364af0",
   "metadata": {},
   "outputs": [
    {
     "name": "stdout",
     "output_type": "stream",
     "text": [
      "  barcode  value  new_value\n",
      "0       A      1       10.0\n",
      "1       B      2        NaN\n",
      "2       C      3       20.0\n",
      "3       D      4        NaN\n"
     ]
    }
   ],
   "source": [
    "#Practicing Merge\n",
    "\n",
    "# create two sample dataframes\n",
    "df1 = pd.DataFrame({'barcode': ['A', 'B', 'C', 'D'], 'value': [1, 2, 3, 4]})\n",
    "df2 = pd.DataFrame({'barcode': ['A', 'C', 'E'], 'new_value': [10, 20, 30]})\n",
    "\n",
    "# merge the two dataframes on the 'barcode' column\n",
    "merged_df = pd.merge(df1, df2, on='barcode', how='left')\n",
    "\n",
    "# fill in missing values in the new column with 0\n",
    "merged_df['new_value']#.fillna(0, inplace=True)\n",
    "\n",
    "print(merged_df)"
   ]
  },
  {
   "cell_type": "code",
   "execution_count": 145,
   "id": "50c41fd8",
   "metadata": {},
   "outputs": [
    {
     "data": {
      "text/html": [
       "<div>\n",
       "<style scoped>\n",
       "    .dataframe tbody tr th:only-of-type {\n",
       "        vertical-align: middle;\n",
       "    }\n",
       "\n",
       "    .dataframe tbody tr th {\n",
       "        vertical-align: top;\n",
       "    }\n",
       "\n",
       "    .dataframe thead th {\n",
       "        text-align: right;\n",
       "    }\n",
       "</style>\n",
       "<table border=\"1\" class=\"dataframe\">\n",
       "  <thead>\n",
       "    <tr style=\"text-align: right;\">\n",
       "      <th></th>\n",
       "      <th>barcode</th>\n",
       "      <th>value</th>\n",
       "    </tr>\n",
       "  </thead>\n",
       "  <tbody>\n",
       "    <tr>\n",
       "      <th>0</th>\n",
       "      <td>A</td>\n",
       "      <td>1</td>\n",
       "    </tr>\n",
       "    <tr>\n",
       "      <th>1</th>\n",
       "      <td>B</td>\n",
       "      <td>2</td>\n",
       "    </tr>\n",
       "    <tr>\n",
       "      <th>2</th>\n",
       "      <td>C</td>\n",
       "      <td>3</td>\n",
       "    </tr>\n",
       "    <tr>\n",
       "      <th>3</th>\n",
       "      <td>D</td>\n",
       "      <td>4</td>\n",
       "    </tr>\n",
       "  </tbody>\n",
       "</table>\n",
       "</div>"
      ],
      "text/plain": [
       "  barcode  value\n",
       "0       A      1\n",
       "1       B      2\n",
       "2       C      3\n",
       "3       D      4"
      ]
     },
     "execution_count": 145,
     "metadata": {},
     "output_type": "execute_result"
    }
   ],
   "source": [
    "df1"
   ]
  },
  {
   "cell_type": "code",
   "execution_count": 146,
   "id": "90466f1b",
   "metadata": {},
   "outputs": [
    {
     "data": {
      "text/html": [
       "<div>\n",
       "<style scoped>\n",
       "    .dataframe tbody tr th:only-of-type {\n",
       "        vertical-align: middle;\n",
       "    }\n",
       "\n",
       "    .dataframe tbody tr th {\n",
       "        vertical-align: top;\n",
       "    }\n",
       "\n",
       "    .dataframe thead th {\n",
       "        text-align: right;\n",
       "    }\n",
       "</style>\n",
       "<table border=\"1\" class=\"dataframe\">\n",
       "  <thead>\n",
       "    <tr style=\"text-align: right;\">\n",
       "      <th></th>\n",
       "      <th>barcode</th>\n",
       "      <th>new_value</th>\n",
       "    </tr>\n",
       "  </thead>\n",
       "  <tbody>\n",
       "    <tr>\n",
       "      <th>0</th>\n",
       "      <td>A</td>\n",
       "      <td>10</td>\n",
       "    </tr>\n",
       "    <tr>\n",
       "      <th>1</th>\n",
       "      <td>C</td>\n",
       "      <td>20</td>\n",
       "    </tr>\n",
       "    <tr>\n",
       "      <th>2</th>\n",
       "      <td>E</td>\n",
       "      <td>30</td>\n",
       "    </tr>\n",
       "  </tbody>\n",
       "</table>\n",
       "</div>"
      ],
      "text/plain": [
       "  barcode  new_value\n",
       "0       A         10\n",
       "1       C         20\n",
       "2       E         30"
      ]
     },
     "execution_count": 146,
     "metadata": {},
     "output_type": "execute_result"
    }
   ],
   "source": [
    "df2"
   ]
  },
  {
   "cell_type": "code",
   "execution_count": 147,
   "id": "9633973f",
   "metadata": {},
   "outputs": [
    {
     "data": {
      "text/html": [
       "<div>\n",
       "<style scoped>\n",
       "    .dataframe tbody tr th:only-of-type {\n",
       "        vertical-align: middle;\n",
       "    }\n",
       "\n",
       "    .dataframe tbody tr th {\n",
       "        vertical-align: top;\n",
       "    }\n",
       "\n",
       "    .dataframe thead th {\n",
       "        text-align: right;\n",
       "    }\n",
       "</style>\n",
       "<table border=\"1\" class=\"dataframe\">\n",
       "  <thead>\n",
       "    <tr style=\"text-align: right;\">\n",
       "      <th></th>\n",
       "      <th>barcode</th>\n",
       "      <th>value</th>\n",
       "      <th>new_value</th>\n",
       "    </tr>\n",
       "  </thead>\n",
       "  <tbody>\n",
       "    <tr>\n",
       "      <th>0</th>\n",
       "      <td>A</td>\n",
       "      <td>1</td>\n",
       "      <td>10.0</td>\n",
       "    </tr>\n",
       "    <tr>\n",
       "      <th>1</th>\n",
       "      <td>B</td>\n",
       "      <td>2</td>\n",
       "      <td>0.0</td>\n",
       "    </tr>\n",
       "    <tr>\n",
       "      <th>2</th>\n",
       "      <td>C</td>\n",
       "      <td>3</td>\n",
       "      <td>20.0</td>\n",
       "    </tr>\n",
       "    <tr>\n",
       "      <th>3</th>\n",
       "      <td>D</td>\n",
       "      <td>4</td>\n",
       "      <td>0.0</td>\n",
       "    </tr>\n",
       "  </tbody>\n",
       "</table>\n",
       "</div>"
      ],
      "text/plain": [
       "  barcode  value  new_value\n",
       "0       A      1       10.0\n",
       "1       B      2        0.0\n",
       "2       C      3       20.0\n",
       "3       D      4        0.0"
      ]
     },
     "execution_count": 147,
     "metadata": {},
     "output_type": "execute_result"
    }
   ],
   "source": [
    "merged_df"
   ]
  }
 ],
 "metadata": {
  "kernelspec": {
   "display_name": "Python 3 (ipykernel)",
   "language": "python",
   "name": "python3"
  },
  "language_info": {
   "codemirror_mode": {
    "name": "ipython",
    "version": 3
   },
   "file_extension": ".py",
   "mimetype": "text/x-python",
   "name": "python",
   "nbconvert_exporter": "python",
   "pygments_lexer": "ipython3",
   "version": "3.9.12"
  }
 },
 "nbformat": 4,
 "nbformat_minor": 5
}

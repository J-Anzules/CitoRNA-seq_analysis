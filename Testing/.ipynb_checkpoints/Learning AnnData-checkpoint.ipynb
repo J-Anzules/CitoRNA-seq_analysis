{
 "cells": [
  {
   "cell_type": "code",
   "execution_count": 58,
   "id": "0e399d9e",
   "metadata": {},
   "outputs": [],
   "source": [
    "import numpy as np\n",
    "import pandas as pd\n",
    "import anndata as ad\n",
    "from scipy.sparse import csr_matrix\n",
    "import seaborn as sns"
   ]
  },
  {
   "cell_type": "code",
   "execution_count": 7,
   "id": "79ca9862",
   "metadata": {},
   "outputs": [],
   "source": [
    "import matplotlib.pyplot as plt"
   ]
  },
  {
   "cell_type": "code",
   "execution_count": 12,
   "id": "f46e203c",
   "metadata": {},
   "outputs": [
    {
     "data": {
      "text/plain": [
       "AnnData object with n_obs × n_vars = 100 × 2000"
      ]
     },
     "execution_count": 12,
     "metadata": {},
     "output_type": "execute_result"
    }
   ],
   "source": [
    "counts = csr_matrix(np.random.poisson(1, size=(100,2000)), dtype=np.float32)\n",
    "adata = ad.AnnData(counts)\n",
    "adata"
   ]
  },
  {
   "cell_type": "code",
   "execution_count": 17,
   "id": "a7c60779",
   "metadata": {},
   "outputs": [
    {
     "data": {
      "text/plain": [
       "<100x2000 sparse matrix of type '<class 'numpy.float32'>'\n",
       "\twith 126691 stored elements in Compressed Sparse Row format>"
      ]
     },
     "execution_count": 17,
     "metadata": {},
     "output_type": "execute_result"
    }
   ],
   "source": [
    "adata.X"
   ]
  },
  {
   "cell_type": "code",
   "execution_count": 18,
   "id": "828af03b",
   "metadata": {},
   "outputs": [],
   "source": [
    "adata.obs_names = [f\"Cell_{i:d}\" for i in range(adata.n_obs)]\n",
    "adata.var_names = [f\"Gene_{i:d}\" for i in range(adata.n_vars)]"
   ]
  },
  {
   "cell_type": "code",
   "execution_count": 19,
   "id": "97a6a290",
   "metadata": {},
   "outputs": [
    {
     "name": "stdout",
     "output_type": "stream",
     "text": [
      "Index(['Cell_0', 'Cell_1', 'Cell_2', 'Cell_3', 'Cell_4', 'Cell_5', 'Cell_6',\n",
      "       'Cell_7', 'Cell_8', 'Cell_9'],\n",
      "      dtype='object')\n"
     ]
    }
   ],
   "source": [
    "print(adata.obs_names[:10])"
   ]
  },
  {
   "cell_type": "code",
   "execution_count": 22,
   "id": "4de77542",
   "metadata": {},
   "outputs": [],
   "source": [
    "ct = np.random.choice([\"B\", \"T\", \"Monocyte\"], size=(adata.n_obs,))\n",
    "adata.obs[\"cell_type\"] = pd.Categorical(ct) # Categoricals are preferred for efficiency\n"
   ]
  },
  {
   "cell_type": "code",
   "execution_count": 28,
   "id": "69285d22",
   "metadata": {},
   "outputs": [
    {
     "data": {
      "text/html": [
       "<div>\n",
       "<style scoped>\n",
       "    .dataframe tbody tr th:only-of-type {\n",
       "        vertical-align: middle;\n",
       "    }\n",
       "\n",
       "    .dataframe tbody tr th {\n",
       "        vertical-align: top;\n",
       "    }\n",
       "\n",
       "    .dataframe thead th {\n",
       "        text-align: right;\n",
       "    }\n",
       "</style>\n",
       "<table border=\"1\" class=\"dataframe\">\n",
       "  <thead>\n",
       "    <tr style=\"text-align: right;\">\n",
       "      <th></th>\n",
       "    </tr>\n",
       "  </thead>\n",
       "  <tbody>\n",
       "    <tr>\n",
       "      <th>Gene_0</th>\n",
       "    </tr>\n",
       "    <tr>\n",
       "      <th>Gene_1</th>\n",
       "    </tr>\n",
       "    <tr>\n",
       "      <th>Gene_2</th>\n",
       "    </tr>\n",
       "    <tr>\n",
       "      <th>Gene_3</th>\n",
       "    </tr>\n",
       "    <tr>\n",
       "      <th>Gene_4</th>\n",
       "    </tr>\n",
       "    <tr>\n",
       "      <th>...</th>\n",
       "    </tr>\n",
       "    <tr>\n",
       "      <th>Gene_1995</th>\n",
       "    </tr>\n",
       "    <tr>\n",
       "      <th>Gene_1996</th>\n",
       "    </tr>\n",
       "    <tr>\n",
       "      <th>Gene_1997</th>\n",
       "    </tr>\n",
       "    <tr>\n",
       "      <th>Gene_1998</th>\n",
       "    </tr>\n",
       "    <tr>\n",
       "      <th>Gene_1999</th>\n",
       "    </tr>\n",
       "  </tbody>\n",
       "</table>\n",
       "<p>2000 rows × 0 columns</p>\n",
       "</div>"
      ],
      "text/plain": [
       "Empty DataFrame\n",
       "Columns: []\n",
       "Index: [Gene_0, Gene_1, Gene_2, Gene_3, Gene_4, Gene_5, Gene_6, Gene_7, Gene_8, Gene_9, Gene_10, Gene_11, Gene_12, Gene_13, Gene_14, Gene_15, Gene_16, Gene_17, Gene_18, Gene_19, Gene_20, Gene_21, Gene_22, Gene_23, Gene_24, Gene_25, Gene_26, Gene_27, Gene_28, Gene_29, Gene_30, Gene_31, Gene_32, Gene_33, Gene_34, Gene_35, Gene_36, Gene_37, Gene_38, Gene_39, Gene_40, Gene_41, Gene_42, Gene_43, Gene_44, Gene_45, Gene_46, Gene_47, Gene_48, Gene_49, Gene_50, Gene_51, Gene_52, Gene_53, Gene_54, Gene_55, Gene_56, Gene_57, Gene_58, Gene_59, Gene_60, Gene_61, Gene_62, Gene_63, Gene_64, Gene_65, Gene_66, Gene_67, Gene_68, Gene_69, Gene_70, Gene_71, Gene_72, Gene_73, Gene_74, Gene_75, Gene_76, Gene_77, Gene_78, Gene_79, Gene_80, Gene_81, Gene_82, Gene_83, Gene_84, Gene_85, Gene_86, Gene_87, Gene_88, Gene_89, Gene_90, Gene_91, Gene_92, Gene_93, Gene_94, Gene_95, Gene_96, Gene_97, Gene_98, Gene_99, ...]\n",
       "\n",
       "[2000 rows x 0 columns]"
      ]
     },
     "execution_count": 28,
     "metadata": {},
     "output_type": "execute_result"
    }
   ],
   "source": [
    "adata.var"
   ]
  },
  {
   "cell_type": "code",
   "execution_count": 30,
   "id": "a4721058",
   "metadata": {},
   "outputs": [
    {
     "data": {
      "text/plain": [
       "View of AnnData object with n_obs × n_vars = 39 × 2000\n",
       "    obs: 'cell_type'"
      ]
     },
     "execution_count": 30,
     "metadata": {},
     "output_type": "execute_result"
    }
   ],
   "source": [
    "# Subsetting using metadata\n",
    "bdata = adata[adata.obs.cell_type == \"B\" ]\n",
    "bdata"
   ]
  },
  {
   "cell_type": "code",
   "execution_count": 55,
   "id": "d61384f7",
   "metadata": {},
   "outputs": [],
   "source": [
    "adata.obsm[\"X_umap\"] = np.random.normal(0, 1, size=(adata.n_obs, 2))\n",
    "adata.varm[\"gene_stuff\"] = np.random.normal(0,1, size=(adata.n_vars, 5))"
   ]
  },
  {
   "cell_type": "code",
   "execution_count": 60,
   "id": "10e7c30c",
   "metadata": {},
   "outputs": [
    {
     "data": {
      "text/plain": [
       "AnnData object with n_obs × n_vars = 100 × 2000\n",
       "    obs: 'cell_type'\n",
       "    obsm: 'X_umap'\n",
       "    varm: 'gene_stuff'"
      ]
     },
     "execution_count": 60,
     "metadata": {},
     "output_type": "execute_result"
    }
   ],
   "source": [
    "adata"
   ]
  },
  {
   "cell_type": "markdown",
   "id": "8a6f441a",
   "metadata": {},
   "source": [
    "# Unstructured Meta data\n"
   ]
  },
  {
   "cell_type": "code",
   "execution_count": 61,
   "id": "1e375524",
   "metadata": {},
   "outputs": [
    {
     "data": {
      "text/plain": [
       "OverloadedDict, wrapping:\n",
       "\tOrderedDict([('random', [1, 2, 3])])\n",
       "With overloaded keys:\n",
       "\t['neighbors']."
      ]
     },
     "execution_count": 61,
     "metadata": {},
     "output_type": "execute_result"
    }
   ],
   "source": [
    "adata.uns[\"random\"] = [1,2,3]\n",
    "adata.uns"
   ]
  },
  {
   "cell_type": "markdown",
   "id": "22941043",
   "metadata": {},
   "source": [
    "# Layers\n",
    "Here is an example of why it could be used: normalized and unnormalized data"
   ]
  },
  {
   "cell_type": "code",
   "execution_count": 62,
   "id": "c118d304",
   "metadata": {},
   "outputs": [],
   "source": [
    "adata.layers[\"log_transformed\"] = np.log1p(adata.X)"
   ]
  },
  {
   "cell_type": "code",
   "execution_count": 63,
   "id": "8375a1c5",
   "metadata": {},
   "outputs": [
    {
     "data": {
      "text/plain": [
       "False"
      ]
     },
     "execution_count": 63,
     "metadata": {},
     "output_type": "execute_result"
    }
   ],
   "source": [
    "(adata.X != adata.layers[\"log_transformed\"]).nnz == 0"
   ]
  },
  {
   "cell_type": "code",
   "execution_count": 64,
   "id": "0396aa2d",
   "metadata": {},
   "outputs": [
    {
     "data": {
      "text/html": [
       "<div>\n",
       "<style scoped>\n",
       "    .dataframe tbody tr th:only-of-type {\n",
       "        vertical-align: middle;\n",
       "    }\n",
       "\n",
       "    .dataframe tbody tr th {\n",
       "        vertical-align: top;\n",
       "    }\n",
       "\n",
       "    .dataframe thead th {\n",
       "        text-align: right;\n",
       "    }\n",
       "</style>\n",
       "<table border=\"1\" class=\"dataframe\">\n",
       "  <thead>\n",
       "    <tr style=\"text-align: right;\">\n",
       "      <th></th>\n",
       "      <th>Gene_0</th>\n",
       "      <th>Gene_1</th>\n",
       "      <th>Gene_2</th>\n",
       "      <th>Gene_3</th>\n",
       "      <th>Gene_4</th>\n",
       "      <th>Gene_5</th>\n",
       "      <th>Gene_6</th>\n",
       "      <th>Gene_7</th>\n",
       "      <th>Gene_8</th>\n",
       "      <th>Gene_9</th>\n",
       "      <th>...</th>\n",
       "      <th>Gene_1990</th>\n",
       "      <th>Gene_1991</th>\n",
       "      <th>Gene_1992</th>\n",
       "      <th>Gene_1993</th>\n",
       "      <th>Gene_1994</th>\n",
       "      <th>Gene_1995</th>\n",
       "      <th>Gene_1996</th>\n",
       "      <th>Gene_1997</th>\n",
       "      <th>Gene_1998</th>\n",
       "      <th>Gene_1999</th>\n",
       "    </tr>\n",
       "  </thead>\n",
       "  <tbody>\n",
       "    <tr>\n",
       "      <th>Cell_0</th>\n",
       "      <td>0.693147</td>\n",
       "      <td>0.000000</td>\n",
       "      <td>0.693147</td>\n",
       "      <td>0.000000</td>\n",
       "      <td>1.386294</td>\n",
       "      <td>0.000000</td>\n",
       "      <td>0.693147</td>\n",
       "      <td>0.000000</td>\n",
       "      <td>0.000000</td>\n",
       "      <td>1.098612</td>\n",
       "      <td>...</td>\n",
       "      <td>0.693147</td>\n",
       "      <td>0.693147</td>\n",
       "      <td>0.000000</td>\n",
       "      <td>1.098612</td>\n",
       "      <td>1.098612</td>\n",
       "      <td>0.693147</td>\n",
       "      <td>1.609438</td>\n",
       "      <td>0.000000</td>\n",
       "      <td>0.693147</td>\n",
       "      <td>0.693147</td>\n",
       "    </tr>\n",
       "    <tr>\n",
       "      <th>Cell_1</th>\n",
       "      <td>1.098612</td>\n",
       "      <td>0.000000</td>\n",
       "      <td>0.693147</td>\n",
       "      <td>1.098612</td>\n",
       "      <td>0.693147</td>\n",
       "      <td>1.098612</td>\n",
       "      <td>0.000000</td>\n",
       "      <td>0.000000</td>\n",
       "      <td>0.000000</td>\n",
       "      <td>1.098612</td>\n",
       "      <td>...</td>\n",
       "      <td>0.693147</td>\n",
       "      <td>0.000000</td>\n",
       "      <td>0.000000</td>\n",
       "      <td>1.609438</td>\n",
       "      <td>0.693147</td>\n",
       "      <td>0.693147</td>\n",
       "      <td>0.000000</td>\n",
       "      <td>0.000000</td>\n",
       "      <td>1.098612</td>\n",
       "      <td>1.098612</td>\n",
       "    </tr>\n",
       "    <tr>\n",
       "      <th>Cell_2</th>\n",
       "      <td>0.693147</td>\n",
       "      <td>0.693147</td>\n",
       "      <td>0.693147</td>\n",
       "      <td>0.000000</td>\n",
       "      <td>1.098612</td>\n",
       "      <td>0.000000</td>\n",
       "      <td>1.098612</td>\n",
       "      <td>0.693147</td>\n",
       "      <td>1.609438</td>\n",
       "      <td>0.000000</td>\n",
       "      <td>...</td>\n",
       "      <td>0.693147</td>\n",
       "      <td>0.693147</td>\n",
       "      <td>1.098612</td>\n",
       "      <td>0.693147</td>\n",
       "      <td>1.098612</td>\n",
       "      <td>0.000000</td>\n",
       "      <td>0.693147</td>\n",
       "      <td>1.098612</td>\n",
       "      <td>0.000000</td>\n",
       "      <td>0.693147</td>\n",
       "    </tr>\n",
       "    <tr>\n",
       "      <th>Cell_3</th>\n",
       "      <td>0.693147</td>\n",
       "      <td>1.098612</td>\n",
       "      <td>1.098612</td>\n",
       "      <td>0.693147</td>\n",
       "      <td>0.000000</td>\n",
       "      <td>0.000000</td>\n",
       "      <td>1.098612</td>\n",
       "      <td>1.386294</td>\n",
       "      <td>0.000000</td>\n",
       "      <td>0.000000</td>\n",
       "      <td>...</td>\n",
       "      <td>1.098612</td>\n",
       "      <td>0.693147</td>\n",
       "      <td>0.000000</td>\n",
       "      <td>1.098612</td>\n",
       "      <td>0.693147</td>\n",
       "      <td>0.693147</td>\n",
       "      <td>1.098612</td>\n",
       "      <td>0.693147</td>\n",
       "      <td>0.693147</td>\n",
       "      <td>0.693147</td>\n",
       "    </tr>\n",
       "    <tr>\n",
       "      <th>Cell_4</th>\n",
       "      <td>1.609438</td>\n",
       "      <td>1.098612</td>\n",
       "      <td>0.000000</td>\n",
       "      <td>1.386294</td>\n",
       "      <td>1.098612</td>\n",
       "      <td>0.000000</td>\n",
       "      <td>0.000000</td>\n",
       "      <td>1.609438</td>\n",
       "      <td>1.098612</td>\n",
       "      <td>1.386294</td>\n",
       "      <td>...</td>\n",
       "      <td>1.098612</td>\n",
       "      <td>0.000000</td>\n",
       "      <td>1.609438</td>\n",
       "      <td>0.693147</td>\n",
       "      <td>1.098612</td>\n",
       "      <td>0.000000</td>\n",
       "      <td>0.000000</td>\n",
       "      <td>0.000000</td>\n",
       "      <td>0.693147</td>\n",
       "      <td>0.000000</td>\n",
       "    </tr>\n",
       "    <tr>\n",
       "      <th>...</th>\n",
       "      <td>...</td>\n",
       "      <td>...</td>\n",
       "      <td>...</td>\n",
       "      <td>...</td>\n",
       "      <td>...</td>\n",
       "      <td>...</td>\n",
       "      <td>...</td>\n",
       "      <td>...</td>\n",
       "      <td>...</td>\n",
       "      <td>...</td>\n",
       "      <td>...</td>\n",
       "      <td>...</td>\n",
       "      <td>...</td>\n",
       "      <td>...</td>\n",
       "      <td>...</td>\n",
       "      <td>...</td>\n",
       "      <td>...</td>\n",
       "      <td>...</td>\n",
       "      <td>...</td>\n",
       "      <td>...</td>\n",
       "      <td>...</td>\n",
       "    </tr>\n",
       "    <tr>\n",
       "      <th>Cell_95</th>\n",
       "      <td>1.098612</td>\n",
       "      <td>0.693147</td>\n",
       "      <td>0.000000</td>\n",
       "      <td>0.000000</td>\n",
       "      <td>0.693147</td>\n",
       "      <td>0.693147</td>\n",
       "      <td>0.000000</td>\n",
       "      <td>0.693147</td>\n",
       "      <td>0.693147</td>\n",
       "      <td>1.098612</td>\n",
       "      <td>...</td>\n",
       "      <td>1.386294</td>\n",
       "      <td>1.098612</td>\n",
       "      <td>0.693147</td>\n",
       "      <td>1.609438</td>\n",
       "      <td>1.098612</td>\n",
       "      <td>0.000000</td>\n",
       "      <td>0.693147</td>\n",
       "      <td>1.386294</td>\n",
       "      <td>0.693147</td>\n",
       "      <td>0.693147</td>\n",
       "    </tr>\n",
       "    <tr>\n",
       "      <th>Cell_96</th>\n",
       "      <td>1.098612</td>\n",
       "      <td>1.098612</td>\n",
       "      <td>0.000000</td>\n",
       "      <td>0.000000</td>\n",
       "      <td>0.693147</td>\n",
       "      <td>0.000000</td>\n",
       "      <td>0.693147</td>\n",
       "      <td>0.000000</td>\n",
       "      <td>0.000000</td>\n",
       "      <td>1.098612</td>\n",
       "      <td>...</td>\n",
       "      <td>0.693147</td>\n",
       "      <td>0.693147</td>\n",
       "      <td>0.693147</td>\n",
       "      <td>0.000000</td>\n",
       "      <td>0.693147</td>\n",
       "      <td>0.000000</td>\n",
       "      <td>1.098612</td>\n",
       "      <td>0.693147</td>\n",
       "      <td>0.693147</td>\n",
       "      <td>0.693147</td>\n",
       "    </tr>\n",
       "    <tr>\n",
       "      <th>Cell_97</th>\n",
       "      <td>0.693147</td>\n",
       "      <td>0.693147</td>\n",
       "      <td>0.000000</td>\n",
       "      <td>1.098612</td>\n",
       "      <td>0.693147</td>\n",
       "      <td>0.693147</td>\n",
       "      <td>0.693147</td>\n",
       "      <td>0.000000</td>\n",
       "      <td>0.000000</td>\n",
       "      <td>0.693147</td>\n",
       "      <td>...</td>\n",
       "      <td>1.098612</td>\n",
       "      <td>1.098612</td>\n",
       "      <td>0.693147</td>\n",
       "      <td>0.000000</td>\n",
       "      <td>0.000000</td>\n",
       "      <td>0.693147</td>\n",
       "      <td>0.000000</td>\n",
       "      <td>0.693147</td>\n",
       "      <td>0.693147</td>\n",
       "      <td>0.693147</td>\n",
       "    </tr>\n",
       "    <tr>\n",
       "      <th>Cell_98</th>\n",
       "      <td>0.000000</td>\n",
       "      <td>0.000000</td>\n",
       "      <td>0.693147</td>\n",
       "      <td>1.098612</td>\n",
       "      <td>1.386294</td>\n",
       "      <td>0.000000</td>\n",
       "      <td>0.693147</td>\n",
       "      <td>0.000000</td>\n",
       "      <td>1.098612</td>\n",
       "      <td>0.693147</td>\n",
       "      <td>...</td>\n",
       "      <td>0.000000</td>\n",
       "      <td>1.098612</td>\n",
       "      <td>0.000000</td>\n",
       "      <td>0.693147</td>\n",
       "      <td>0.693147</td>\n",
       "      <td>0.693147</td>\n",
       "      <td>0.693147</td>\n",
       "      <td>1.098612</td>\n",
       "      <td>0.000000</td>\n",
       "      <td>0.693147</td>\n",
       "    </tr>\n",
       "    <tr>\n",
       "      <th>Cell_99</th>\n",
       "      <td>0.693147</td>\n",
       "      <td>1.386294</td>\n",
       "      <td>0.000000</td>\n",
       "      <td>0.693147</td>\n",
       "      <td>0.000000</td>\n",
       "      <td>1.098612</td>\n",
       "      <td>1.098612</td>\n",
       "      <td>0.693147</td>\n",
       "      <td>0.000000</td>\n",
       "      <td>0.693147</td>\n",
       "      <td>...</td>\n",
       "      <td>0.693147</td>\n",
       "      <td>0.000000</td>\n",
       "      <td>1.098612</td>\n",
       "      <td>0.693147</td>\n",
       "      <td>1.098612</td>\n",
       "      <td>0.000000</td>\n",
       "      <td>0.693147</td>\n",
       "      <td>1.098612</td>\n",
       "      <td>0.693147</td>\n",
       "      <td>0.693147</td>\n",
       "    </tr>\n",
       "  </tbody>\n",
       "</table>\n",
       "<p>100 rows × 2000 columns</p>\n",
       "</div>"
      ],
      "text/plain": [
       "           Gene_0    Gene_1    Gene_2    Gene_3    Gene_4    Gene_5    Gene_6  \\\n",
       "Cell_0   0.693147  0.000000  0.693147  0.000000  1.386294  0.000000  0.693147   \n",
       "Cell_1   1.098612  0.000000  0.693147  1.098612  0.693147  1.098612  0.000000   \n",
       "Cell_2   0.693147  0.693147  0.693147  0.000000  1.098612  0.000000  1.098612   \n",
       "Cell_3   0.693147  1.098612  1.098612  0.693147  0.000000  0.000000  1.098612   \n",
       "Cell_4   1.609438  1.098612  0.000000  1.386294  1.098612  0.000000  0.000000   \n",
       "...           ...       ...       ...       ...       ...       ...       ...   \n",
       "Cell_95  1.098612  0.693147  0.000000  0.000000  0.693147  0.693147  0.000000   \n",
       "Cell_96  1.098612  1.098612  0.000000  0.000000  0.693147  0.000000  0.693147   \n",
       "Cell_97  0.693147  0.693147  0.000000  1.098612  0.693147  0.693147  0.693147   \n",
       "Cell_98  0.000000  0.000000  0.693147  1.098612  1.386294  0.000000  0.693147   \n",
       "Cell_99  0.693147  1.386294  0.000000  0.693147  0.000000  1.098612  1.098612   \n",
       "\n",
       "           Gene_7    Gene_8    Gene_9  ...  Gene_1990  Gene_1991  Gene_1992  \\\n",
       "Cell_0   0.000000  0.000000  1.098612  ...   0.693147   0.693147   0.000000   \n",
       "Cell_1   0.000000  0.000000  1.098612  ...   0.693147   0.000000   0.000000   \n",
       "Cell_2   0.693147  1.609438  0.000000  ...   0.693147   0.693147   1.098612   \n",
       "Cell_3   1.386294  0.000000  0.000000  ...   1.098612   0.693147   0.000000   \n",
       "Cell_4   1.609438  1.098612  1.386294  ...   1.098612   0.000000   1.609438   \n",
       "...           ...       ...       ...  ...        ...        ...        ...   \n",
       "Cell_95  0.693147  0.693147  1.098612  ...   1.386294   1.098612   0.693147   \n",
       "Cell_96  0.000000  0.000000  1.098612  ...   0.693147   0.693147   0.693147   \n",
       "Cell_97  0.000000  0.000000  0.693147  ...   1.098612   1.098612   0.693147   \n",
       "Cell_98  0.000000  1.098612  0.693147  ...   0.000000   1.098612   0.000000   \n",
       "Cell_99  0.693147  0.000000  0.693147  ...   0.693147   0.000000   1.098612   \n",
       "\n",
       "         Gene_1993  Gene_1994  Gene_1995  Gene_1996  Gene_1997  Gene_1998  \\\n",
       "Cell_0    1.098612   1.098612   0.693147   1.609438   0.000000   0.693147   \n",
       "Cell_1    1.609438   0.693147   0.693147   0.000000   0.000000   1.098612   \n",
       "Cell_2    0.693147   1.098612   0.000000   0.693147   1.098612   0.000000   \n",
       "Cell_3    1.098612   0.693147   0.693147   1.098612   0.693147   0.693147   \n",
       "Cell_4    0.693147   1.098612   0.000000   0.000000   0.000000   0.693147   \n",
       "...            ...        ...        ...        ...        ...        ...   \n",
       "Cell_95   1.609438   1.098612   0.000000   0.693147   1.386294   0.693147   \n",
       "Cell_96   0.000000   0.693147   0.000000   1.098612   0.693147   0.693147   \n",
       "Cell_97   0.000000   0.000000   0.693147   0.000000   0.693147   0.693147   \n",
       "Cell_98   0.693147   0.693147   0.693147   0.693147   1.098612   0.000000   \n",
       "Cell_99   0.693147   1.098612   0.000000   0.693147   1.098612   0.693147   \n",
       "\n",
       "         Gene_1999  \n",
       "Cell_0    0.693147  \n",
       "Cell_1    1.098612  \n",
       "Cell_2    0.693147  \n",
       "Cell_3    0.693147  \n",
       "Cell_4    0.000000  \n",
       "...            ...  \n",
       "Cell_95   0.693147  \n",
       "Cell_96   0.693147  \n",
       "Cell_97   0.693147  \n",
       "Cell_98   0.693147  \n",
       "Cell_99   0.693147  \n",
       "\n",
       "[100 rows x 2000 columns]"
      ]
     },
     "execution_count": 64,
     "metadata": {},
     "output_type": "execute_result"
    }
   ],
   "source": [
    "# Getting data as a pandas dataframe\n",
    "\n",
    "adata.to_df(\"log_transformed\")"
   ]
  },
  {
   "cell_type": "code",
   "execution_count": null,
   "id": "d750515f",
   "metadata": {},
   "outputs": [],
   "source": [
    "pip install mudata"
   ]
  },
  {
   "cell_type": "code",
   "execution_count": null,
   "id": "abab6aca",
   "metadata": {},
   "outputs": [],
   "source": []
  },
  {
   "cell_type": "code",
   "execution_count": 32,
   "id": "ee68990b",
   "metadata": {},
   "outputs": [
    {
     "data": {
      "text/plain": [
       "<function matplotlib.pyplot.show(close=None, block=None)>"
      ]
     },
     "execution_count": 32,
     "metadata": {},
     "output_type": "execute_result"
    },
    {
     "data": {
      "image/png": "[encoded data removed]",
      "text/plain": [
       "<Figure size 576x576 with 2 Axes>"
      ]
     },
     "metadata": {
      "needs_background": "light"
     },
     "output_type": "display_data"
    }
   ],
   "source": [
    "fig, ax = plt.subplots(figsize=(8,8))\n",
    "im = ax.imshow(counts[:, 0:100].toarray(), cmap='hot', interpolation = 'nearest')\n",
    "ax.set_title('Sparse Matrix heatmap')\n",
    "\n",
    "# Adding a colorbar\n",
    "cbar = ax.figure.colorbar(im, ax = ax)\n",
    "cbar.ax.set_ylabel('Counts', rotation=-90, va=\"bottom\")\n",
    "plt.show"
   ]
  },
  {
   "cell_type": "code",
   "execution_count": null,
   "id": "5ccf30a3",
   "metadata": {},
   "outputs": [],
   "source": []
  },
  {
   "cell_type": "markdown",
   "id": "8f69c2ef",
   "metadata": {},
   "source": [
    "# Initializing a MuData object"
   ]
  },
  {
   "cell_type": "code",
   "execution_count": 72,
   "id": "51e34037",
   "metadata": {},
   "outputs": [],
   "source": [
    "n, d, k = 1000, 100, 10\n",
    "z = np.random.normal(loc=np.arange(k), scale = np.arange(k)*2, size=(n,k))"
   ]
  },
  {
   "cell_type": "code",
   "execution_count": 91,
   "id": "0f02d449",
   "metadata": {},
   "outputs": [
    {
     "data": {
      "text/plain": [
       "array([ 0.        , -0.12909283, -1.81840979,  2.4303822 , 13.21427279,\n",
       "       -5.37753433,  9.57559994, 25.98683701,  7.59989886, -9.31814797])"
      ]
     },
     "execution_count": 91,
     "metadata": {},
     "output_type": "execute_result"
    }
   ],
   "source": [
    "z[999][:]"
   ]
  },
  {
   "cell_type": "code",
   "execution_count": 70,
   "id": "9cae5e49",
   "metadata": {},
   "outputs": [
    {
     "data": {
      "text/plain": [
       "array([0, 1, 2, 3, 4, 5, 6, 7, 8, 9])"
      ]
     },
     "execution_count": 70,
     "metadata": {},
     "output_type": "execute_result"
    }
   ],
   "source": [
    "np.arange(k)"
   ]
  },
  {
   "cell_type": "code",
   "execution_count": 161,
   "id": "b3f38e92",
   "metadata": {},
   "outputs": [
    {
     "data": {
      "text/plain": [
       "array([[ 0.00000000e+00,  2.44982058e+00,  7.75077109e+00,\n",
       "         4.18744775e+00,  2.68032908e+00],\n",
       "       [ 0.00000000e+00, -1.04730352e+00, -1.89369229e+00,\n",
       "        -4.62007263e+00,  1.30382504e-01],\n",
       "       [ 0.00000000e+00, -2.92386566e-01, -2.42397294e+00,\n",
       "         5.96065198e-03,  1.98223536e+01],\n",
       "       [ 0.00000000e+00,  4.11572546e+00, -9.01329311e-01,\n",
       "        -1.81849780e+00, -6.65109580e+00],\n",
       "       [ 0.00000000e+00,  1.30416461e+00,  2.56317312e+00,\n",
       "        -9.25613778e-01, -3.79880762e+00]])"
      ]
     },
     "execution_count": 161,
     "metadata": {},
     "output_type": "execute_result"
    }
   ],
   "source": [
    "np.random.normal(loc=np.arange(5), scale = np.arange(5)*2, size=(5,5))\n"
   ]
  },
  {
   "cell_type": "code",
   "execution_count": 71,
   "id": "ef68dcef",
   "metadata": {},
   "outputs": [
    {
     "data": {
      "text/plain": [
       "array([ 0,  2,  4,  6,  8, 10, 12, 14, 16, 18])"
      ]
     },
     "execution_count": 71,
     "metadata": {},
     "output_type": "execute_result"
    }
   ],
   "source": [
    "np.arange(k)*2"
   ]
  },
  {
   "cell_type": "code",
   "execution_count": null,
   "id": "4a434881",
   "metadata": {},
   "outputs": [],
   "source": []
  }
 ],
 "metadata": {
  "kernelspec": {
   "display_name": "Python 3 (ipykernel)",
   "language": "python",
   "name": "python3"
  },
  "language_info": {
   "codemirror_mode": {
    "name": "ipython",
    "version": 3
   },
   "file_extension": ".py",
   "mimetype": "text/x-python",
   "name": "python",
   "nbconvert_exporter": "python",
   "pygments_lexer": "ipython3",
   "version": "3.9.12"
  }
 },
 "nbformat": 4,
 "nbformat_minor": 5
}

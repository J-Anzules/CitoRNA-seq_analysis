{
 "cells": [
  {
   "cell_type": "code",
   "execution_count": 3,
   "id": "46ad08de",
   "metadata": {},
   "outputs": [],
   "source": [
    "import pandas as pd\n",
    "import scipy.io as spio\n",
    "import numpy as np\n",
    "import scanpy as sc\n",
    "#File Location\n",
    "\n",
    "file_loc = \"../Hao2021/Data/GSE164378_RAW/\""
   ]
  },
  {
   "cell_type": "code",
   "execution_count": null,
   "id": "bf59457a",
   "metadata": {},
   "outputs": [],
   "source": [
    "import anndata\n",
    "import scipy.io\n",
    "\n",
    "# Load the RNA count matrix, features, and barcodes\n",
    "rna_counts = scipy.io.mmread(\"rna_matrix.mtx\")\n",
    "rna_features = pd.read_csv(\"rna_features.csv\")\n",
    "rna_barcodes = pd.read_csv(\"rna_barcodes.csv\")\n",
    "\n",
    "# Load the ADT count matrix, features, and barcodes\n",
    "adt_counts = scipy.io.mmread(\"adt_matrix.mtx\")\n",
    "adt_features = pd.read_csv(\"adt_features.csv\")\n",
    "adt_barcodes = pd.read_csv(\"adt_barcodes.csv\")\n",
    "\n",
    "# Load the HTO count matrix, features, and barcodes\n",
    "hto_counts = scipy.io.mmread(\"hto_matrix.mtx\")\n",
    "hto_features = pd.read_csv(\"hto_features.csv\")\n",
    "hto_barcodes = pd.read_csv(\"hto_barcodes.csv\")\n",
    "\n",
    "# Create a new anndata object and populate it with the three sets of data\n",
    "adata = anndata.AnnData(\n",
    "    X=scipy.sparse.hstack([rna_counts, adt_counts, hto_counts]),\n",
    "    obs=pd.concat([rna_barcodes, adt_barcodes, hto_barcodes]),\n",
    "    var=pd.concat([rna_features, adt_features, hto_features])\n",
    ")\n",
    "\n",
    "# Save the anndata object\n",
    "adata.write_h5ad(\"integrated_citoseq.h5ad\")\n"
   ]
  },
  {
   "cell_type": "code",
   "execution_count": 6,
   "id": "3cef5343",
   "metadata": {},
   "outputs": [],
   "source": [
    "# RNA matrix\n",
    "RNA_matrix = spio.mmread(file_loc+\"GSM5008737_RNA_3P-matrix.mtx.gz\")\n",
    "RNA_matrix = RNA_matrix.tocsr()\n",
    "\n",
    "# RNA barcode\n",
    "RNA_barcodes = pd.read_csv(file_loc+\"GSM5008739_HTO_3P-barcodes.tsv.gz\", \n",
    "                              sep = \"\\t\", header = None, index_col=0)\n",
    "# RNA features\n",
    "RNA_features = pd.read_csv(file_loc+\"GSM5008737_RNA_3P-features.tsv.gz\", \n",
    "                            sep = \"\\t\", header = None, usecols=[0], \n",
    "                            index_col = 0)"
   ]
  },
  {
   "cell_type": "code",
   "execution_count": 7,
   "id": "37359e84",
   "metadata": {},
   "outputs": [],
   "source": [
    "# ADT Matrix\n",
    "ADT_counts = scipy.io.mmread(file_loc+\"GSM5008738_ADT_3P-matrix.mtx.gz\")\n",
    "ADT_counts = ADT_counts.tocsr()\n",
    "\n",
    "# ADT_barcodes\n",
    "ADT_barcodes = pd.read_csv(file_loc+\"GSM5008738_ADT_3P-barcodes.tsv.gz\",\n",
    "                          sep = '\\t', header = None, index_col=0)\n",
    "\n",
    "# ADT features\n",
    "ADT_features = pd.read_csv(file_loc+\"GSM5008738_ADT_3P-features.tsv.gz\",\n",
    "                           sep = '\\t', header = None, usecols=[0],\n",
    "                           index_col = 0)"
   ]
  },
  {
   "cell_type": "code",
   "execution_count": 8,
   "id": "6bbd7877",
   "metadata": {},
   "outputs": [],
   "source": [
    "# HTO_matrix\n",
    "HTO_matrix = scipy.io.mmread(file_loc+\"GSM5008739_HTO_3P-matrix.mtx.gz\")\n",
    "HTO_matrix = HTO_matrix.tocsc()\n",
    "\n",
    "# HTO_barcodes\n",
    "HTO_barcodes = pd.read_csv(file_loc+\"GSM5008739_HTO_3P-barcodes.tsv.gz\",\n",
    "                         sep='\\t', header = None, index_col = 0)\n",
    "# HTO_features\n",
    "HTO_features = pd.read_csv(file_loc+\"GSM5008739_HTO_3P-features.tsv.gz\", \n",
    "                              sep = '\\t', header = None, usecols=[0],\n",
    "                             index_col=0)"
   ]
  },
  {
   "cell_type": "code",
   "execution_count": null,
   "id": "aef1f6eb",
   "metadata": {},
   "outputs": [],
   "source": []
  },
  {
   "cell_type": "code",
   "execution_count": null,
   "id": "b351c95e",
   "metadata": {},
   "outputs": [],
   "source": []
  },
  {
   "cell_type": "code",
   "execution_count": null,
   "id": "993d905a",
   "metadata": {},
   "outputs": [],
   "source": []
  },
  {
   "cell_type": "code",
   "execution_count": null,
   "id": "4e819af6",
   "metadata": {},
   "outputs": [],
   "source": []
  },
  {
   "cell_type": "code",
   "execution_count": null,
   "id": "bb90d73b",
   "metadata": {},
   "outputs": [],
   "source": [
    "adata = sc.AnnData(X=scipy.sparse.hstack([RNA_matrix.T, ADT_counts.T, HTO_matrix.T]),\n",
    "                   obs = pd.concat([RNA_barcodes, ADT_barcodes, HTO_barcodes]),\n",
    "                   var=pd.concat([RNA_features, ADT_features, HTO_features]), \n",
    "                   dtype='float32')"
   ]
  }
 ],
 "metadata": {
  "kernelspec": {
   "display_name": "Python 3 (ipykernel)",
   "language": "python",
   "name": "python3"
  },
  "language_info": {
   "codemirror_mode": {
    "name": "ipython",
    "version": 3
   },
   "file_extension": ".py",
   "mimetype": "text/x-python",
   "name": "python",
   "nbconvert_exporter": "python",
   "pygments_lexer": "ipython3",
   "version": "3.9.12"
  }
 },
 "nbformat": 4,
 "nbformat_minor": 5
}

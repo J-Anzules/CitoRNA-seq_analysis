{
 "cells": [
  {
   "cell_type": "code",
   "execution_count": 1,
   "id": "63cce1d5",
   "metadata": {},
   "outputs": [],
   "source": [
    "import pandas as pd\n",
    "import scipy.io as spio\n",
    "import scanpy as sc\n",
    "import anndata as ad"
   ]
  },
  {
   "cell_type": "code",
   "execution_count": 2,
   "id": "8f555066",
   "metadata": {},
   "outputs": [],
   "source": [
    "# Read in the barcode file, barcodes are indeces\n",
    "barcodes = pd.read_csv('../RNA-seq_Hemming2020/Data/GSE163005_barcodes.tsv.gz', sep='\\t', header = None, index_col=0)"
   ]
  },
  {
   "cell_type": "code",
   "execution_count": 3,
   "id": "0f4c0354",
   "metadata": {},
   "outputs": [],
   "source": [
    "# Read in the ffeatures file\n",
    "features = pd.read_csv('../RNA-seq_Hemming2020/Data/GSE163005_features.tsv.gz', sep='\\t', header=None, usecols=[0,1],\n",
    "                       index_col=0,\n",
    "                      names=['GeneID', 'GeneSymbol'])"
   ]
  },
  {
   "cell_type": "code",
   "execution_count": 4,
   "id": "d6120947",
   "metadata": {},
   "outputs": [],
   "source": [
    "# Read in the matrix file\n",
    "counts = spio.mmread(\"../RNA-seq_Hemming2020/Data/GSE163005_matrix.mtx.gz\")\n",
    "\n",
    "# Can't save h5ad file as COO matrix so have to convert:\n",
    "counts = counts.tocsr()"
   ]
  },
  {
   "cell_type": "code",
   "execution_count": 5,
   "id": "0476693f",
   "metadata": {
    "scrolled": true
   },
   "outputs": [],
   "source": [
    "# Read in the patient anotation file\n",
    "# FIrst row is their headed, [NaN, 'x']. Changing X to patients\n",
    "patient_anno = pd.read_csv(\"../RNA-seq_Hemming2020/Data/GSE163005_annotation_patients.csv.gz\", index_col=0,\n",
    "                           header=0, names=['Patient'])"
   ]
  },
  {
   "cell_type": "code",
   "execution_count": 6,
   "id": "b1504d0e",
   "metadata": {},
   "outputs": [],
   "source": [
    "# Read in annotation data\n",
    "cluster_anno = pd.read_csv(\"../RNA-seq_Hemming2020/Data/GSE163005_annotation_cluster.csv.gz\", header=0, index_col=0,\n",
    "                          names=['Cluster'])"
   ]
  },
  {
   "cell_type": "code",
   "execution_count": 7,
   "id": "9d11637e",
   "metadata": {},
   "outputs": [],
   "source": [
    "# Read in diagnosis data\n",
    "dx_anno = pd.read_csv(\"../RNA-seq_Hemming2020/Data/GSE163005_annotation_dx.csv.gz\", header=0, index_col=0,\n",
    "                     names=['Diagnosis'])"
   ]
  },
  {
   "cell_type": "code",
   "execution_count": 8,
   "id": "630914a6",
   "metadata": {},
   "outputs": [],
   "source": [
    "# Read in T cell cluster annotation\n",
    "tcell_cluster_anno = pd.read_csv('../RNA-seq_Hemming2020/Data/GSE163005_annotation_tcells_cluster.csv.gz', header=0, index_col=0,\n",
    "                                names = ['TCellCluster'])"
   ]
  },
  {
   "cell_type": "code",
   "execution_count": 9,
   "id": "fe82e34e",
   "metadata": {},
   "outputs": [],
   "source": [
    "# Create the AnnData object\n",
    "# counts needs to be transposed from 33538x85418 to 85418x33538 - the 85k is the cells and those need to be row\n",
    "# dtype for float32, I'm not sure which dtype is needed yet.\n",
    "adata = sc.AnnData(X=counts.T, obs=barcodes, var=features, dtype='float32')"
   ]
  },
  {
   "cell_type": "markdown",
   "id": "de5f8dae",
   "metadata": {},
   "source": [
    "### Here is the cluster, Tcell cluster, patientID, and diagnosis unique values\n",
    "\n",
    "**Cluster**: CD4, CD8, mDC2, granulo1, naiveBc, plasma, mono1,\n",
    "       pDC, NK, mono2, Treg, mDC1, cycling, matDC, mono3,\n",
    "       granulo2\n",
    "       \n",
    "**T cell Clusters**: proli_CD4, CD8_1, memory_CD4, exh_CD4, CD8_2,\n",
    "       naive_CD4, CD4_Treg, antiviral_CD4\n",
    " \n",
    "**Patient Annotations**: MS19270, MS49131, MS58637, MS71658, IIH32190, IIH41540,\n",
    "       IIH45044, IIH85037, IIH10999, IIH47578, IIH53423,\n",
    "       IIH68490, IIH91012, MS25719, MS76177, MS77654, MS79670,\n",
    "       MS90896, VE48279, VE61728, COV1919, COV1923, COV1924,\n",
    "       COV1930, COV1943, COV1950, COV1954, COV1933, VE23642,\n",
    "       VE57538, VE66730\n",
    "       \n",
    "**Patient Diagnosis**: MS, IIH, VE, COVID\n",
    "\n",
    "\n",
    "    COVID - Neural covid patients  \n",
    "    VE - Viral encephalitis  \n",
    "    IIH - idiopathic intracranial hypertension  \n",
    "    MS - relapsing-remitting multiple sclerosis (Control: weird choice here)\n"
   ]
  },
  {
   "cell_type": "code",
   "execution_count": 56,
   "id": "34945d3b",
   "metadata": {},
   "outputs": [],
   "source": [
    "# Adding annotations to adata.obs - Is there a more efficient way to do this?\n",
    "# Adding patient annotation\n",
    "adata.obs=pd.concat([adata.obs, patient_anno], axis=1)\n",
    "\n",
    "# Adding cluster annotation\n",
    "adata.obs=pd.concat([adata.obs, cluster_anno], axis=1)\n",
    "\n",
    "# Adding diagnosis data to obs\n",
    "adata.obs=pd.concat([adata.obs, dx_anno], axis=1)\n",
    "\n",
    "# Adding the t-cell cluster annotation to obs\n",
    "adata.obs = pd.concat([adata.obs, tcell_cluster_anno], axis=1)"
   ]
  },
  {
   "cell_type": "code",
   "execution_count": 57,
   "id": "d3deae5d",
   "metadata": {},
   "outputs": [],
   "source": [
    "# Saving everything to an h5ad file\n",
    "\n",
    "adata.write_h5ad(filename='../RNA-seq_Hemming2020/Data/Unprocessed_Hemming2020_Data.h5ad')"
   ]
  },
  {
   "cell_type": "code",
   "execution_count": null,
   "id": "9adae044",
   "metadata": {},
   "outputs": [],
   "source": []
  }
 ],
 "metadata": {
  "kernelspec": {
   "display_name": "Python 3 (ipykernel)",
   "language": "python",
   "name": "python3"
  },
  "language_info": {
   "codemirror_mode": {
    "name": "ipython",
    "version": 3
   },
   "file_extension": ".py",
   "mimetype": "text/x-python",
   "name": "python",
   "nbconvert_exporter": "python",
   "pygments_lexer": "ipython3",
   "version": "3.9.12"
  }
 },
 "nbformat": 4,
 "nbformat_minor": 5
}

{
 "cells": [
  {
   "cell_type": "code",
   "execution_count": 19,
   "id": "f9323040",
   "metadata": {},
   "outputs": [],
   "source": [
    "import pandas as pd\n",
    "import scipy\n",
    "import scipy.io as spio\n",
    "import numpy as np\n",
    "import scanpy as sc\n",
    "import mudata as md\n",
    "import seaborn as sns\n",
    "#File Location\n",
    "\n",
    "file_loc = \"../Hao2021/Data/GSE164378_RAW/\""
   ]
  },
  {
   "cell_type": "code",
   "execution_count": 8,
   "id": "01ecc40e",
   "metadata": {},
   "outputs": [],
   "source": [
    "# ADT Matrix\n",
    "ADT_matrix = scipy.io.mmread(file_loc+\"GSM5008738_ADT_3P-matrix.mtx.gz\")\n",
    "ADT_matrix = ADT_matrix.tocsr()\n",
    "\n",
    "# ADT_barcodes\n",
    "ADT_barcodes = pd.read_csv(file_loc+\"GSM5008738_ADT_3P-barcodes.tsv.gz\",\n",
    "                          sep = '\\t', header = None, index_col=0,\n",
    "                          names = [\"barcode\"])\n",
    "\n",
    "# ADT features\n",
    "ADT_features = pd.read_csv(file_loc+\"GSM5008738_ADT_3P-features.tsv.gz\",\n",
    "                           sep = '\\t', header = None, usecols=[0],\n",
    "                           index_col = 0, names=[\"ProteinID\"])"
   ]
  },
  {
   "cell_type": "code",
   "execution_count": 9,
   "id": "640406fc",
   "metadata": {},
   "outputs": [],
   "source": [
    "adata_ADT = sc.AnnData(X=ADT_matrix.T, obs=ADT_barcodes, var=ADT_features,\n",
    "                  dtype='float32')"
   ]
  },
  {
   "cell_type": "code",
   "execution_count": 10,
   "id": "4cda535b",
   "metadata": {},
   "outputs": [
    {
     "data": {
      "text/plain": [
       "AnnData object with n_obs × n_vars = 161764 × 228"
      ]
     },
     "execution_count": 10,
     "metadata": {},
     "output_type": "execute_result"
    }
   ],
   "source": [
    "adata_ADT"
   ]
  },
  {
   "cell_type": "code",
   "execution_count": null,
   "id": "6f72cd7a",
   "metadata": {},
   "outputs": [],
   "source": [
    "adata_ADT"
   ]
  },
  {
   "cell_type": "code",
   "execution_count": null,
   "id": "5e93577a",
   "metadata": {},
   "outputs": [],
   "source": [
    "mdata = mu.r"
   ]
  },
  {
   "cell_type": "code",
   "execution_count": 11,
   "id": "15a9177d",
   "metadata": {},
   "outputs": [],
   "source": [
    "sc.pp.calculate_qc_metrics(adata_ADT, inplace=True, percent_top=None)"
   ]
  },
  {
   "cell_type": "code",
   "execution_count": 12,
   "id": "829ad7b7",
   "metadata": {},
   "outputs": [],
   "source": [
    "mdata = md.read(\"../Hao2021/Data/Hao2021_3P.h5mu\")"
   ]
  },
  {
   "cell_type": "code",
   "execution_count": 13,
   "id": "ba4279fc",
   "metadata": {},
   "outputs": [
    {
     "data": {
      "text/html": [
       "<pre>MuData object with n_obs × n_vars = 161764 × 33790\n",
       "  3 modalities\n",
       "    RNA:\t161764 x 33538\n",
       "    ADT:\t161764 x 228\n",
       "    HTO:\t161764 x 24</pre>"
      ],
      "text/plain": [
       "MuData object with n_obs × n_vars = 161764 × 33790\n",
       "  3 modalities\n",
       "    RNA:\t161764 x 33538\n",
       "    ADT:\t161764 x 228\n",
       "    HTO:\t161764 x 24"
      ]
     },
     "execution_count": 13,
     "metadata": {},
     "output_type": "execute_result"
    }
   ],
   "source": [
    "mdata"
   ]
  },
  {
   "cell_type": "code",
   "execution_count": 14,
   "id": "298ff836",
   "metadata": {},
   "outputs": [],
   "source": [
    "sc.pp.calculate_qc_metrics(mdata[\"ADT\"], inplace=True, percent_top=None)"
   ]
  },
  {
   "cell_type": "code",
   "execution_count": 15,
   "id": "d0ba110d",
   "metadata": {},
   "outputs": [
    {
     "data": {
      "text/html": [
       "<pre>MuData object with n_obs × n_vars = 161764 × 33790\n",
       "  3 modalities\n",
       "    RNA:\t161764 x 33538\n",
       "    ADT:\t161764 x 228\n",
       "      obs:\t&#x27;n_genes_by_counts&#x27;, &#x27;log1p_n_genes_by_counts&#x27;, &#x27;total_counts&#x27;, &#x27;log1p_total_counts&#x27;\n",
       "      var:\t&#x27;n_cells_by_counts&#x27;, &#x27;mean_counts&#x27;, &#x27;log1p_mean_counts&#x27;, &#x27;pct_dropout_by_counts&#x27;, &#x27;total_counts&#x27;, &#x27;log1p_total_counts&#x27;\n",
       "    HTO:\t161764 x 24</pre>"
      ],
      "text/plain": [
       "MuData object with n_obs × n_vars = 161764 × 33790\n",
       "  3 modalities\n",
       "    RNA:\t161764 x 33538\n",
       "    ADT:\t161764 x 228\n",
       "      obs:\t'n_genes_by_counts', 'log1p_n_genes_by_counts', 'total_counts', 'log1p_total_counts'\n",
       "      var:\t'n_cells_by_counts', 'mean_counts', 'log1p_mean_counts', 'pct_dropout_by_counts', 'total_counts', 'log1p_total_counts'\n",
       "    HTO:\t161764 x 24"
      ]
     },
     "execution_count": 15,
     "metadata": {},
     "output_type": "execute_result"
    }
   ],
   "source": [
    "mdata"
   ]
  },
  {
   "cell_type": "code",
   "execution_count": 16,
   "id": "5b737cfe",
   "metadata": {},
   "outputs": [],
   "source": [
    "sc.pp.calculate_qc_metrics(mdata[\"RNA\"], inplace=True, percent_top=None)"
   ]
  },
  {
   "cell_type": "code",
   "execution_count": 17,
   "id": "e38a73d4",
   "metadata": {},
   "outputs": [
    {
     "data": {
      "text/html": [
       "<pre>MuData object with n_obs × n_vars = 161764 × 33790\n",
       "  3 modalities\n",
       "    RNA:\t161764 x 33538\n",
       "      obs:\t&#x27;n_genes_by_counts&#x27;, &#x27;log1p_n_genes_by_counts&#x27;, &#x27;total_counts&#x27;, &#x27;log1p_total_counts&#x27;\n",
       "      var:\t&#x27;n_cells_by_counts&#x27;, &#x27;mean_counts&#x27;, &#x27;log1p_mean_counts&#x27;, &#x27;pct_dropout_by_counts&#x27;, &#x27;total_counts&#x27;, &#x27;log1p_total_counts&#x27;\n",
       "    ADT:\t161764 x 228\n",
       "      obs:\t&#x27;n_genes_by_counts&#x27;, &#x27;log1p_n_genes_by_counts&#x27;, &#x27;total_counts&#x27;, &#x27;log1p_total_counts&#x27;\n",
       "      var:\t&#x27;n_cells_by_counts&#x27;, &#x27;mean_counts&#x27;, &#x27;log1p_mean_counts&#x27;, &#x27;pct_dropout_by_counts&#x27;, &#x27;total_counts&#x27;, &#x27;log1p_total_counts&#x27;\n",
       "    HTO:\t161764 x 24</pre>"
      ],
      "text/plain": [
       "MuData object with n_obs × n_vars = 161764 × 33790\n",
       "  3 modalities\n",
       "    RNA:\t161764 x 33538\n",
       "      obs:\t'n_genes_by_counts', 'log1p_n_genes_by_counts', 'total_counts', 'log1p_total_counts'\n",
       "      var:\t'n_cells_by_counts', 'mean_counts', 'log1p_mean_counts', 'pct_dropout_by_counts', 'total_counts', 'log1p_total_counts'\n",
       "    ADT:\t161764 x 228\n",
       "      obs:\t'n_genes_by_counts', 'log1p_n_genes_by_counts', 'total_counts', 'log1p_total_counts'\n",
       "      var:\t'n_cells_by_counts', 'mean_counts', 'log1p_mean_counts', 'pct_dropout_by_counts', 'total_counts', 'log1p_total_counts'\n",
       "    HTO:\t161764 x 24"
      ]
     },
     "execution_count": 17,
     "metadata": {},
     "output_type": "execute_result"
    }
   ],
   "source": [
    "mdata"
   ]
  },
  {
   "cell_type": "markdown",
   "id": "33d0f172",
   "metadata": {},
   "source": [
    "## Looking at n_genes_by_counts\n",
    "Distribution of ADTs/RNAs per cell over all samples.\n",
    "y-axis = the amount of cells\n",
    "x_axis = the amount of RNA/ADT present in a certain amount of cells"
   ]
  },
  {
   "cell_type": "code",
   "execution_count": 21,
   "id": "3161e1bb",
   "metadata": {},
   "outputs": [
    {
     "data": {
      "text/plain": [
       "<seaborn.axisgrid.FacetGrid at 0x1e3c55bd670>"
      ]
     },
     "execution_count": 21,
     "metadata": {},
     "output_type": "execute_result"
    },
    {
     "data": {
      "image/png": "[encoded data removed]",
      "text/plain": [
       "<Figure size 360x360 with 1 Axes>"
      ]
     },
     "metadata": {
      "needs_background": "light"
     },
     "output_type": "display_data"
    }
   ],
   "source": [
    "sns.displot(mdata[\"RNA\"].obs.n_genes_by_counts)"
   ]
  },
  {
   "cell_type": "code",
   "execution_count": 25,
   "id": "1b234d6b",
   "metadata": {},
   "outputs": [
    {
     "data": {
      "text/plain": [
       "<seaborn.axisgrid.FacetGrid at 0x1e3c59ca610>"
      ]
     },
     "execution_count": 25,
     "metadata": {},
     "output_type": "execute_result"
    },
    {
     "data": {
      "image/png": "[encoded data removed]",
      "text/plain": [
       "<Figure size 360x360 with 1 Axes>"
      ]
     },
     "metadata": {
      "needs_background": "light"
     },
     "output_type": "display_data"
    }
   ],
   "source": [
    "sns.displot(mdata[\"ADT\"].obs.n_genes_by_counts, linewidth=0.4)"
   ]
  },
  {
   "cell_type": "code",
   "execution_count": 47,
   "id": "8f018d6e",
   "metadata": {
    "scrolled": true
   },
   "outputs": [
    {
     "data": {
      "text/plain": [
       "<seaborn.axisgrid.FacetGrid at 0x1e3c8d4eca0>"
      ]
     },
     "execution_count": 47,
     "metadata": {},
     "output_type": "execute_result"
    },
    {
     "data": {
      "image/png": "[encoded data removed]",
      "text/plain": [
       "<Figure size 360x360 with 1 Axes>"
      ]
     },
     "metadata": {
      "needs_background": "light"
     },
     "output_type": "display_data"
    }
   ],
   "source": [
    "sns.displot(\n",
    "            mdata[\"ADT\"][(mdata[\"ADT\"].obs.n_genes_by_counts < 200) & \n",
    "                        (mdata[\"ADT\"].obs.n_genes_by_counts > 170)].obs.n_genes_by_counts,\n",
    "            bins=20\n",
    "            )\n"
   ]
  },
  {
   "cell_type": "code",
   "execution_count": 32,
   "id": "62752d8b",
   "metadata": {},
   "outputs": [
    {
     "data": {
      "text/plain": [
       "<seaborn.axisgrid.FacetGrid at 0x1e3c8a84ee0>"
      ]
     },
     "execution_count": 32,
     "metadata": {},
     "output_type": "execute_result"
    },
    {
     "data": {
      "image/png": "[encoded data removed]",
      "text/plain": [
       "<Figure size 360x360 with 1 Axes>"
      ]
     },
     "metadata": {
      "needs_background": "light"
     },
     "output_type": "display_data"
    }
   ],
   "source": [
    "sns.displot(\n",
    "    mdata[\"ADT\"][(mdata[\"ADT\"].obs.n_genes_by_counts < 187) & \n",
    "                 (mdata[\"ADT\"].obs.n_genes_by_counts > 160)].obs.n_genes_by_counts\n",
    ")\n"
   ]
  },
  {
   "cell_type": "markdown",
   "id": "91b95cfe",
   "metadata": {},
   "source": [
    "There is a drop off "
   ]
  },
  {
   "cell_type": "code",
   "execution_count": null,
   "id": "0a27ef6c",
   "metadata": {},
   "outputs": [],
   "source": []
  },
  {
   "cell_type": "code",
   "execution_count": null,
   "id": "367568bd",
   "metadata": {},
   "outputs": [],
   "source": []
  },
  {
   "cell_type": "code",
   "execution_count": null,
   "id": "8aa8e642",
   "metadata": {},
   "outputs": [],
   "source": []
  },
  {
   "cell_type": "code",
   "execution_count": null,
   "id": "d38b873c",
   "metadata": {},
   "outputs": [],
   "source": []
  },
  {
   "cell_type": "code",
   "execution_count": null,
   "id": "a5f2f407",
   "metadata": {},
   "outputs": [],
   "source": []
  },
  {
   "cell_type": "code",
   "execution_count": null,
   "id": "5253b482",
   "metadata": {},
   "outputs": [],
   "source": []
  },
  {
   "cell_type": "code",
   "execution_count": null,
   "id": "9a72eae7",
   "metadata": {},
   "outputs": [],
   "source": []
  },
  {
   "cell_type": "code",
   "execution_count": null,
   "id": "5c1f70c3",
   "metadata": {},
   "outputs": [],
   "source": []
  },
  {
   "cell_type": "code",
   "execution_count": null,
   "id": "26e55c59",
   "metadata": {},
   "outputs": [],
   "source": []
  },
  {
   "cell_type": "code",
   "execution_count": null,
   "id": "b64bab9e",
   "metadata": {},
   "outputs": [],
   "source": []
  },
  {
   "cell_type": "code",
   "execution_count": null,
   "id": "fb9dcfcf",
   "metadata": {},
   "outputs": [],
   "source": []
  },
  {
   "cell_type": "code",
   "execution_count": null,
   "id": "e33df4f9",
   "metadata": {},
   "outputs": [],
   "source": []
  },
  {
   "cell_type": "code",
   "execution_count": null,
   "id": "63b011e8",
   "metadata": {},
   "outputs": [],
   "source": []
  },
  {
   "cell_type": "code",
   "execution_count": null,
   "id": "45fc9ff3",
   "metadata": {},
   "outputs": [],
   "source": []
  },
  {
   "cell_type": "code",
   "execution_count": null,
   "id": "794e6e78",
   "metadata": {},
   "outputs": [],
   "source": []
  },
  {
   "cell_type": "code",
   "execution_count": null,
   "id": "c197b434",
   "metadata": {},
   "outputs": [],
   "source": []
  },
  {
   "cell_type": "code",
   "execution_count": null,
   "id": "3a43732a",
   "metadata": {},
   "outputs": [],
   "source": []
  },
  {
   "cell_type": "code",
   "execution_count": null,
   "id": "e0ef2647",
   "metadata": {},
   "outputs": [],
   "source": []
  },
  {
   "cell_type": "code",
   "execution_count": null,
   "id": "29fee574",
   "metadata": {},
   "outputs": [],
   "source": []
  },
  {
   "cell_type": "code",
   "execution_count": null,
   "id": "7af119eb",
   "metadata": {},
   "outputs": [],
   "source": []
  },
  {
   "cell_type": "code",
   "execution_count": null,
   "id": "1624be95",
   "metadata": {},
   "outputs": [],
   "source": []
  },
  {
   "cell_type": "code",
   "execution_count": null,
   "id": "8b314bf8",
   "metadata": {},
   "outputs": [],
   "source": []
  },
  {
   "cell_type": "code",
   "execution_count": null,
   "id": "7aae5ba6",
   "metadata": {},
   "outputs": [],
   "source": []
  },
  {
   "cell_type": "code",
   "execution_count": null,
   "id": "81705775",
   "metadata": {},
   "outputs": [],
   "source": []
  },
  {
   "cell_type": "code",
   "execution_count": null,
   "id": "91546dee",
   "metadata": {},
   "outputs": [],
   "source": []
  }
 ],
 "metadata": {
  "kernelspec": {
   "display_name": "Python 3 (ipykernel)",
   "language": "python",
   "name": "python3"
  },
  "language_info": {
   "codemirror_mode": {
    "name": "ipython",
    "version": 3
   },
   "file_extension": ".py",
   "mimetype": "text/x-python",
   "name": "python",
   "nbconvert_exporter": "python",
   "pygments_lexer": "ipython3",
   "version": "3.9.12"
  }
 },
 "nbformat": 4,
 "nbformat_minor": 5
}

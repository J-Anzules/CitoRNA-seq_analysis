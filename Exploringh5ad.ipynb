{
 "cells": [
  {
   "cell_type": "code",
   "execution_count": 1,
   "id": "62a338f1",
   "metadata": {},
   "outputs": [],
   "source": [
    "import anndata"
   ]
  },
  {
   "cell_type": "code",
   "execution_count": 2,
   "id": "7d3634d6",
   "metadata": {},
   "outputs": [],
   "source": [
    "adata = anndata.read_h5ad('../neurocovid_filt_BP.h5ad')"
   ]
  },
  {
   "cell_type": "code",
   "execution_count": 3,
   "id": "cd484859",
   "metadata": {},
   "outputs": [
    {
     "data": {
      "text/plain": [
       "['AnnData',\n",
       " 'ImplicitModificationWarning',\n",
       " 'OldFormatWarning',\n",
       " 'Raw',\n",
       " 'WriteWarning',\n",
       " '__builtins__',\n",
       " '__cached__',\n",
       " '__doc__',\n",
       " '__file__',\n",
       " '__loader__',\n",
       " '__name__',\n",
       " '__package__',\n",
       " '__path__',\n",
       " '__spec__',\n",
       " '__version__',\n",
       " '_core',\n",
       " '_io',\n",
       " '_metadata',\n",
       " '_warnings',\n",
       " 'compat',\n",
       " 'concat',\n",
       " 'logging',\n",
       " 'read',\n",
       " 'read_csv',\n",
       " 'read_excel',\n",
       " 'read_h5ad',\n",
       " 'read_hdf',\n",
       " 'read_loom',\n",
       " 'read_mtx',\n",
       " 'read_text',\n",
       " 'read_umi_tools',\n",
       " 'read_zarr',\n",
       " 'utils']"
      ]
     },
     "execution_count": 3,
     "metadata": {},
     "output_type": "execute_result"
    }
   ],
   "source": [
    "dir(anndata)"
   ]
  },
  {
   "cell_type": "code",
   "execution_count": 8,
   "id": "d24585c7",
   "metadata": {},
   "outputs": [
    {
     "data": {
      "text/html": [
       "<div>\n",
       "<style scoped>\n",
       "    .dataframe tbody tr th:only-of-type {\n",
       "        vertical-align: middle;\n",
       "    }\n",
       "\n",
       "    .dataframe tbody tr th {\n",
       "        vertical-align: top;\n",
       "    }\n",
       "\n",
       "    .dataframe thead th {\n",
       "        text-align: right;\n",
       "    }\n",
       "</style>\n",
       "<table border=\"1\" class=\"dataframe\">\n",
       "  <thead>\n",
       "    <tr style=\"text-align: right;\">\n",
       "      <th></th>\n",
       "    </tr>\n",
       "  </thead>\n",
       "  <tbody>\n",
       "    <tr>\n",
       "      <th>AAACCTGAGTGGGCTA-1</th>\n",
       "    </tr>\n",
       "    <tr>\n",
       "      <th>AAACCTGAGTGTTAGA-1</th>\n",
       "    </tr>\n",
       "    <tr>\n",
       "      <th>AAACCTGGTCGCGTGT-1</th>\n",
       "    </tr>\n",
       "    <tr>\n",
       "      <th>AAACCTGGTCTCCACT-1</th>\n",
       "    </tr>\n",
       "    <tr>\n",
       "      <th>AAACCTGGTTTACTCT-1</th>\n",
       "    </tr>\n",
       "    <tr>\n",
       "      <th>AAACCTGTCTCCTATA-1</th>\n",
       "    </tr>\n",
       "    <tr>\n",
       "      <th>AAACCTGTCTGCAGTA-1</th>\n",
       "    </tr>\n",
       "    <tr>\n",
       "      <th>AAACGGGAGAGGGCTT-1</th>\n",
       "    </tr>\n",
       "    <tr>\n",
       "      <th>AAACGGGAGTGGTCCC-1</th>\n",
       "    </tr>\n",
       "    <tr>\n",
       "      <th>AAACGGGCACAACGTT-1</th>\n",
       "    </tr>\n",
       "    <tr>\n",
       "      <th>AAACGGGCACCTTGTC-1</th>\n",
       "    </tr>\n",
       "    <tr>\n",
       "      <th>AAACGGGCAGCTTCGG-1</th>\n",
       "    </tr>\n",
       "    <tr>\n",
       "      <th>AAACGGGGTCACCTAA-1</th>\n",
       "    </tr>\n",
       "    <tr>\n",
       "      <th>AAACGGGGTCCGAACC-1</th>\n",
       "    </tr>\n",
       "    <tr>\n",
       "      <th>AAACGGGGTCTCCATC-1</th>\n",
       "    </tr>\n",
       "    <tr>\n",
       "      <th>AAACGGGGTGTGAAAT-1</th>\n",
       "    </tr>\n",
       "    <tr>\n",
       "      <th>AAACGGGGTTAGTGGG-1</th>\n",
       "    </tr>\n",
       "    <tr>\n",
       "      <th>AAACGGGGTTGTGGCC-1</th>\n",
       "    </tr>\n",
       "    <tr>\n",
       "      <th>AAACGGGTCAGCTGGC-1</th>\n",
       "    </tr>\n",
       "    <tr>\n",
       "      <th>AAACGGGTCCTTGACC-1</th>\n",
       "    </tr>\n",
       "  </tbody>\n",
       "</table>\n",
       "</div>"
      ],
      "text/plain": [
       "Empty DataFrame\n",
       "Columns: []\n",
       "Index: [AAACCTGAGTGGGCTA-1, AAACCTGAGTGTTAGA-1, AAACCTGGTCGCGTGT-1, AAACCTGGTCTCCACT-1, AAACCTGGTTTACTCT-1, AAACCTGTCTCCTATA-1, AAACCTGTCTGCAGTA-1, AAACGGGAGAGGGCTT-1, AAACGGGAGTGGTCCC-1, AAACGGGCACAACGTT-1, AAACGGGCACCTTGTC-1, AAACGGGCAGCTTCGG-1, AAACGGGGTCACCTAA-1, AAACGGGGTCCGAACC-1, AAACGGGGTCTCCATC-1, AAACGGGGTGTGAAAT-1, AAACGGGGTTAGTGGG-1, AAACGGGGTTGTGGCC-1, AAACGGGTCAGCTGGC-1, AAACGGGTCCTTGACC-1]"
      ]
     },
     "execution_count": 8,
     "metadata": {},
     "output_type": "execute_result"
    }
   ],
   "source": [
    "adata.obs.head(20)"
   ]
  },
  {
   "cell_type": "code",
   "execution_count": 9,
   "id": "5f90a2d3",
   "metadata": {},
   "outputs": [
    {
     "data": {
      "text/plain": [
       "Index(['AAACCTGAGTGGGCTA-1', 'AAACCTGAGTGTTAGA-1', 'AAACCTGGTCGCGTGT-1',\n",
       "       'AAACCTGGTCTCCACT-1', 'AAACCTGGTTTACTCT-1', 'AAACCTGTCTCCTATA-1',\n",
       "       'AAACCTGTCTGCAGTA-1', 'AAACGGGAGAGGGCTT-1', 'AAACGGGAGTGGTCCC-1',\n",
       "       'AAACGGGCACAACGTT-1',\n",
       "       ...\n",
       "       'TTTGTTGCACTGTTCC-31', 'TTTGTTGCAGCGTTGC-31', 'TTTGTTGCATAGTCGT-31',\n",
       "       'TTTGTTGGTACCGTGC-31', 'TTTGTTGGTATTTCGG-31', 'TTTGTTGGTCACCTTC-31',\n",
       "       'TTTGTTGGTCCACGCA-31', 'TTTGTTGGTTATGGTC-31', 'TTTGTTGTCGCGTGCA-31',\n",
       "       'TTTGTTGTCTCATGCC-31'],\n",
       "      dtype='object', length=84417)"
      ]
     },
     "execution_count": 9,
     "metadata": {},
     "output_type": "execute_result"
    }
   ],
   "source": [
    "adata.obs_names"
   ]
  },
  {
   "cell_type": "code",
   "execution_count": 10,
   "id": "fc6304bb",
   "metadata": {},
   "outputs": [
    {
     "data": {
      "text/plain": [
       "Index(['MIR1302-2HG', 'AL627309.1', 'AL627309.3', 'AL627309.4', 'AL669831.2',\n",
       "       'AL669831.5', 'FAM87B', 'LINC00115', 'FAM41C', 'AL645608.3',\n",
       "       ...\n",
       "       'AL592183.1', 'AC007325.1', 'AC007325.4', 'AC007325.2', 'AL354822.1',\n",
       "       'AC023491.2', 'AC004556.1', 'AC233755.2', 'AC233755.1', 'AC240274.1'],\n",
       "      dtype='object', length=25674)"
      ]
     },
     "execution_count": 10,
     "metadata": {},
     "output_type": "execute_result"
    }
   ],
   "source": [
    "adata.var_names"
   ]
  },
  {
   "cell_type": "markdown",
   "id": "c8ec5060",
   "metadata": {},
   "source": [
    "# Tutorial\n",
    "\n",
    "I'm following the information that is provided in the anndata tutorial"
   ]
  },
  {
   "cell_type": "code",
   "execution_count": 11,
   "id": "0908cd88",
   "metadata": {},
   "outputs": [
    {
     "data": {
      "text/plain": [
       "AnnData object with n_obs × n_vars = 84417 × 25674\n",
       "    var: 'gene_ids', 'feature_types'"
      ]
     },
     "execution_count": 11,
     "metadata": {},
     "output_type": "execute_result"
    }
   ],
   "source": [
    "adata"
   ]
  },
  {
   "cell_type": "code",
   "execution_count": null,
   "id": "bfb5d57d",
   "metadata": {},
   "outputs": [],
   "source": []
  },
  {
   "cell_type": "code",
   "execution_count": 4,
   "id": "8926422b",
   "metadata": {},
   "outputs": [
    {
     "data": {
      "text/plain": [
       "<84417x25674 sparse matrix of type '<class 'numpy.float32'>'\n",
       "\twith 91200402 stored elements in Compressed Sparse Row format>"
      ]
     },
     "execution_count": 4,
     "metadata": {},
     "output_type": "execute_result"
    }
   ],
   "source": [
    "adata.X"
   ]
  },
  {
   "cell_type": "code",
   "execution_count": 13,
   "id": "66e54f87",
   "metadata": {},
   "outputs": [
    {
     "data": {
      "text/plain": [
       "Index(['AAACCTGAGTGGGCTA-1', 'AAACCTGAGTGTTAGA-1', 'AAACCTGGTCGCGTGT-1',\n",
       "       'AAACCTGGTCTCCACT-1', 'AAACCTGGTTTACTCT-1', 'AAACCTGTCTCCTATA-1',\n",
       "       'AAACCTGTCTGCAGTA-1', 'AAACGGGAGAGGGCTT-1', 'AAACGGGAGTGGTCCC-1',\n",
       "       'AAACGGGCACAACGTT-1',\n",
       "       ...\n",
       "       'TTTGTTGCACTGTTCC-31', 'TTTGTTGCAGCGTTGC-31', 'TTTGTTGCATAGTCGT-31',\n",
       "       'TTTGTTGGTACCGTGC-31', 'TTTGTTGGTATTTCGG-31', 'TTTGTTGGTCACCTTC-31',\n",
       "       'TTTGTTGGTCCACGCA-31', 'TTTGTTGGTTATGGTC-31', 'TTTGTTGTCGCGTGCA-31',\n",
       "       'TTTGTTGTCTCATGCC-31'],\n",
       "      dtype='object', length=84417)"
      ]
     },
     "execution_count": 13,
     "metadata": {},
     "output_type": "execute_result"
    }
   ],
   "source": [
    "adata.obs_names"
   ]
  },
  {
   "cell_type": "code",
   "execution_count": 19,
   "id": "5d1b6db0",
   "metadata": {},
   "outputs": [
    {
     "data": {
      "text/html": [
       "<div>\n",
       "<style scoped>\n",
       "    .dataframe tbody tr th:only-of-type {\n",
       "        vertical-align: middle;\n",
       "    }\n",
       "\n",
       "    .dataframe tbody tr th {\n",
       "        vertical-align: top;\n",
       "    }\n",
       "\n",
       "    .dataframe thead th {\n",
       "        text-align: right;\n",
       "    }\n",
       "</style>\n",
       "<table border=\"1\" class=\"dataframe\">\n",
       "  <thead>\n",
       "    <tr style=\"text-align: right;\">\n",
       "      <th></th>\n",
       "      <th>gene_ids</th>\n",
       "      <th>feature_types</th>\n",
       "    </tr>\n",
       "  </thead>\n",
       "  <tbody>\n",
       "    <tr>\n",
       "      <th>MIR1302-2HG</th>\n",
       "      <td>ENSG00000243485</td>\n",
       "      <td>Gene Expression</td>\n",
       "    </tr>\n",
       "    <tr>\n",
       "      <th>AL627309.1</th>\n",
       "      <td>ENSG00000238009</td>\n",
       "      <td>Gene Expression</td>\n",
       "    </tr>\n",
       "    <tr>\n",
       "      <th>AL627309.3</th>\n",
       "      <td>ENSG00000239945</td>\n",
       "      <td>Gene Expression</td>\n",
       "    </tr>\n",
       "    <tr>\n",
       "      <th>AL627309.4</th>\n",
       "      <td>ENSG00000241599</td>\n",
       "      <td>Gene Expression</td>\n",
       "    </tr>\n",
       "    <tr>\n",
       "      <th>AL669831.2</th>\n",
       "      <td>ENSG00000229905</td>\n",
       "      <td>Gene Expression</td>\n",
       "    </tr>\n",
       "    <tr>\n",
       "      <th>...</th>\n",
       "      <td>...</td>\n",
       "      <td>...</td>\n",
       "    </tr>\n",
       "    <tr>\n",
       "      <th>AC023491.2</th>\n",
       "      <td>ENSG00000278633</td>\n",
       "      <td>Gene Expression</td>\n",
       "    </tr>\n",
       "    <tr>\n",
       "      <th>AC004556.1</th>\n",
       "      <td>ENSG00000276345</td>\n",
       "      <td>Gene Expression</td>\n",
       "    </tr>\n",
       "    <tr>\n",
       "      <th>AC233755.2</th>\n",
       "      <td>ENSG00000277856</td>\n",
       "      <td>Gene Expression</td>\n",
       "    </tr>\n",
       "    <tr>\n",
       "      <th>AC233755.1</th>\n",
       "      <td>ENSG00000275063</td>\n",
       "      <td>Gene Expression</td>\n",
       "    </tr>\n",
       "    <tr>\n",
       "      <th>AC240274.1</th>\n",
       "      <td>ENSG00000271254</td>\n",
       "      <td>Gene Expression</td>\n",
       "    </tr>\n",
       "  </tbody>\n",
       "</table>\n",
       "<p>25674 rows × 2 columns</p>\n",
       "</div>"
      ],
      "text/plain": [
       "                    gene_ids    feature_types\n",
       "MIR1302-2HG  ENSG00000243485  Gene Expression\n",
       "AL627309.1   ENSG00000238009  Gene Expression\n",
       "AL627309.3   ENSG00000239945  Gene Expression\n",
       "AL627309.4   ENSG00000241599  Gene Expression\n",
       "AL669831.2   ENSG00000229905  Gene Expression\n",
       "...                      ...              ...\n",
       "AC023491.2   ENSG00000278633  Gene Expression\n",
       "AC004556.1   ENSG00000276345  Gene Expression\n",
       "AC233755.2   ENSG00000277856  Gene Expression\n",
       "AC233755.1   ENSG00000275063  Gene Expression\n",
       "AC240274.1   ENSG00000271254  Gene Expression\n",
       "\n",
       "[25674 rows x 2 columns]"
      ]
     },
     "execution_count": 19,
     "metadata": {},
     "output_type": "execute_result"
    }
   ],
   "source": [
    "adata.var"
   ]
  },
  {
   "cell_type": "code",
   "execution_count": 20,
   "id": "3905f32e",
   "metadata": {},
   "outputs": [
    {
     "data": {
      "text/html": [
       "<div>\n",
       "<style scoped>\n",
       "    .dataframe tbody tr th:only-of-type {\n",
       "        vertical-align: middle;\n",
       "    }\n",
       "\n",
       "    .dataframe tbody tr th {\n",
       "        vertical-align: top;\n",
       "    }\n",
       "\n",
       "    .dataframe thead th {\n",
       "        text-align: right;\n",
       "    }\n",
       "</style>\n",
       "<table border=\"1\" class=\"dataframe\">\n",
       "  <thead>\n",
       "    <tr style=\"text-align: right;\">\n",
       "      <th></th>\n",
       "    </tr>\n",
       "  </thead>\n",
       "  <tbody>\n",
       "    <tr>\n",
       "      <th>AAACCTGAGTGGGCTA-1</th>\n",
       "    </tr>\n",
       "    <tr>\n",
       "      <th>AAACCTGAGTGTTAGA-1</th>\n",
       "    </tr>\n",
       "    <tr>\n",
       "      <th>AAACCTGGTCGCGTGT-1</th>\n",
       "    </tr>\n",
       "    <tr>\n",
       "      <th>AAACCTGGTCTCCACT-1</th>\n",
       "    </tr>\n",
       "    <tr>\n",
       "      <th>AAACCTGGTTTACTCT-1</th>\n",
       "    </tr>\n",
       "    <tr>\n",
       "      <th>...</th>\n",
       "    </tr>\n",
       "    <tr>\n",
       "      <th>TTTGTTGGTCACCTTC-31</th>\n",
       "    </tr>\n",
       "    <tr>\n",
       "      <th>TTTGTTGGTCCACGCA-31</th>\n",
       "    </tr>\n",
       "    <tr>\n",
       "      <th>TTTGTTGGTTATGGTC-31</th>\n",
       "    </tr>\n",
       "    <tr>\n",
       "      <th>TTTGTTGTCGCGTGCA-31</th>\n",
       "    </tr>\n",
       "    <tr>\n",
       "      <th>TTTGTTGTCTCATGCC-31</th>\n",
       "    </tr>\n",
       "  </tbody>\n",
       "</table>\n",
       "<p>84417 rows × 0 columns</p>\n",
       "</div>"
      ],
      "text/plain": [
       "Empty DataFrame\n",
       "Columns: []\n",
       "Index: [AAACCTGAGTGGGCTA-1, AAACCTGAGTGTTAGA-1, AAACCTGGTCGCGTGT-1, AAACCTGGTCTCCACT-1, AAACCTGGTTTACTCT-1, AAACCTGTCTCCTATA-1, AAACCTGTCTGCAGTA-1, AAACGGGAGAGGGCTT-1, AAACGGGAGTGGTCCC-1, AAACGGGCACAACGTT-1, AAACGGGCACCTTGTC-1, AAACGGGCAGCTTCGG-1, AAACGGGGTCACCTAA-1, AAACGGGGTCCGAACC-1, AAACGGGGTCTCCATC-1, AAACGGGGTGTGAAAT-1, AAACGGGGTTAGTGGG-1, AAACGGGGTTGTGGCC-1, AAACGGGTCAGCTGGC-1, AAACGGGTCCTTGACC-1, AAAGATGAGAGCCCAA-1, AAAGATGAGAGTCTGG-1, AAAGATGGTAGGACAC-1, AAAGATGGTCAGCTAT-1, AAAGATGGTTGTGGAG-1, AAAGATGGTTTAGCTG-1, AAAGATGTCAACGGCC-1, AAAGATGTCCAACCAA-1, AAAGATGTCCCTGACT-1, AAAGATGTCTTGAGGT-1, AAAGCAAAGGGTGTGT-1, AAAGCAAGTCTCAACA-1, AAAGCAAGTCTTCAAG-1, AAAGCAAGTGAGGGAG-1, AAAGCAAGTGCCTGGT-1, AAAGCAAGTTCCACGG-1, AAAGCAAGTTGAACTC-1, AAAGCAATCGGCGCAT-1, AAAGCAATCTGGTATG-1, AAAGTAGAGACTCGGA-1, AAAGTAGAGCAGACTG-1, AAAGTAGAGCCAGTTT-1, AAAGTAGAGTTGAGTA-1, AAAGTAGCAATCGGTT-1, AAAGTAGCATCTACGA-1, AAAGTAGCATCTCCCA-1, AAAGTAGCATTACGAC-1, AAAGTAGGTAGCAAAT-1, AAAGTAGGTATATGAG-1, AAAGTAGGTTTGGGCC-1, AAAGTAGTCAACACAC-1, AAAGTAGTCCGTTGTC-1, AAAGTAGTCTTCCTTC-1, AAATGCCAGTAGTGCG-1, AAATGCCAGTGCAAGC-1, AAATGCCAGTTGAGTA-1, AAATGCCCACCGTTGG-1, AAATGCCCAGACAAGC-1, AAATGCCCAGGTCGTC-1, AAATGCCCATCGGTTA-1, AAATGCCGTAGGACAC-1, AAATGCCGTCATACTG-1, AAATGCCGTCGCGGTT-1, AAATGCCTCCGCTGTT-1, AAATGCCTCGTAGGTT-1, AACACGTAGCAGGTCA-1, AACACGTAGGGATGGG-1, AACACGTCAAACAACA-1, AACACGTCAAGGTGTG-1, AACACGTCACAACTGT-1, AACACGTCACCGAAAG-1, AACACGTCACGGCCAT-1, AACACGTGTAGCTGCC-1, AACACGTGTGTTTGTG-1, AACACGTTCACAGGCC-1, AACACGTTCTGAGGGA-1, AACCATGAGACGCAAC-1, AACCATGAGCCCAGCT-1, AACCATGAGCGACGTA-1, AACCATGAGTAACCCT-1, AACCATGCAAAGCGGT-1, AACCATGCACACCGCA-1, AACCATGCAGAGCCAA-1, AACCATGGTCAAAGCG-1, AACCATGGTCCGTTAA-1, AACCATGGTCGGCTCA-1, AACCATGGTGACTCAT-1, AACCATGGTGCGATAG-1, AACCATGGTTCGTCTC-1, AACCATGTCTTAGCCC-1, AACCGCGCATCCGGGT-1, AACCGCGGTGGCGAAT-1, AACCGCGGTTCCACGG-1, AACCGCGGTTCGTGAT-1, AACCGCGTCAGGTTCA-1, AACCGCGTCTTGGGTA-1, AACGTTGAGGTGCACA-1, AACGTTGCACGGCGTT-1, AACGTTGCAGGTCCAC-1, AACGTTGGTCTAGCCG-1, ...]\n",
       "\n",
       "[84417 rows x 0 columns]"
      ]
     },
     "execution_count": 20,
     "metadata": {},
     "output_type": "execute_result"
    }
   ],
   "source": [
    "adata.obs"
   ]
  },
  {
   "cell_type": "code",
   "execution_count": 23,
   "id": "916c9544",
   "metadata": {},
   "outputs": [
    {
     "data": {
      "text/html": [
       "<div>\n",
       "<style scoped>\n",
       "    .dataframe tbody tr th:only-of-type {\n",
       "        vertical-align: middle;\n",
       "    }\n",
       "\n",
       "    .dataframe tbody tr th {\n",
       "        vertical-align: top;\n",
       "    }\n",
       "\n",
       "    .dataframe thead th {\n",
       "        text-align: right;\n",
       "    }\n",
       "</style>\n",
       "<table border=\"1\" class=\"dataframe\">\n",
       "  <thead>\n",
       "    <tr style=\"text-align: right;\">\n",
       "      <th></th>\n",
       "      <th>gene_ids</th>\n",
       "      <th>feature_types</th>\n",
       "    </tr>\n",
       "  </thead>\n",
       "  <tbody>\n",
       "    <tr>\n",
       "      <th>MIR1302-2HG</th>\n",
       "      <td>ENSG00000243485</td>\n",
       "      <td>Gene Expression</td>\n",
       "    </tr>\n",
       "    <tr>\n",
       "      <th>AL627309.1</th>\n",
       "      <td>ENSG00000238009</td>\n",
       "      <td>Gene Expression</td>\n",
       "    </tr>\n",
       "    <tr>\n",
       "      <th>AL627309.3</th>\n",
       "      <td>ENSG00000239945</td>\n",
       "      <td>Gene Expression</td>\n",
       "    </tr>\n",
       "    <tr>\n",
       "      <th>AL627309.4</th>\n",
       "      <td>ENSG00000241599</td>\n",
       "      <td>Gene Expression</td>\n",
       "    </tr>\n",
       "    <tr>\n",
       "      <th>AL669831.2</th>\n",
       "      <td>ENSG00000229905</td>\n",
       "      <td>Gene Expression</td>\n",
       "    </tr>\n",
       "    <tr>\n",
       "      <th>...</th>\n",
       "      <td>...</td>\n",
       "      <td>...</td>\n",
       "    </tr>\n",
       "    <tr>\n",
       "      <th>AC023491.2</th>\n",
       "      <td>ENSG00000278633</td>\n",
       "      <td>Gene Expression</td>\n",
       "    </tr>\n",
       "    <tr>\n",
       "      <th>AC004556.1</th>\n",
       "      <td>ENSG00000276345</td>\n",
       "      <td>Gene Expression</td>\n",
       "    </tr>\n",
       "    <tr>\n",
       "      <th>AC233755.2</th>\n",
       "      <td>ENSG00000277856</td>\n",
       "      <td>Gene Expression</td>\n",
       "    </tr>\n",
       "    <tr>\n",
       "      <th>AC233755.1</th>\n",
       "      <td>ENSG00000275063</td>\n",
       "      <td>Gene Expression</td>\n",
       "    </tr>\n",
       "    <tr>\n",
       "      <th>AC240274.1</th>\n",
       "      <td>ENSG00000271254</td>\n",
       "      <td>Gene Expression</td>\n",
       "    </tr>\n",
       "  </tbody>\n",
       "</table>\n",
       "<p>25674 rows × 2 columns</p>\n",
       "</div>"
      ],
      "text/plain": [
       "                    gene_ids    feature_types\n",
       "MIR1302-2HG  ENSG00000243485  Gene Expression\n",
       "AL627309.1   ENSG00000238009  Gene Expression\n",
       "AL627309.3   ENSG00000239945  Gene Expression\n",
       "AL627309.4   ENSG00000241599  Gene Expression\n",
       "AL669831.2   ENSG00000229905  Gene Expression\n",
       "...                      ...              ...\n",
       "AC023491.2   ENSG00000278633  Gene Expression\n",
       "AC004556.1   ENSG00000276345  Gene Expression\n",
       "AC233755.2   ENSG00000277856  Gene Expression\n",
       "AC233755.1   ENSG00000275063  Gene Expression\n",
       "AC240274.1   ENSG00000271254  Gene Expression\n",
       "\n",
       "[25674 rows x 2 columns]"
      ]
     },
     "execution_count": 23,
     "metadata": {},
     "output_type": "execute_result"
    }
   ],
   "source": [
    "adata.var"
   ]
  },
  {
   "cell_type": "code",
   "execution_count": 24,
   "id": "0e565896",
   "metadata": {},
   "outputs": [
    {
     "data": {
      "text/plain": [
       "<84417x25674 sparse matrix of type '<class 'numpy.float32'>'\n",
       "\twith 91200402 stored elements in Compressed Sparse Row format>"
      ]
     },
     "execution_count": 24,
     "metadata": {},
     "output_type": "execute_result"
    }
   ],
   "source": [
    "adata.X"
   ]
  },
  {
   "cell_type": "code",
   "execution_count": 30,
   "id": "420943be",
   "metadata": {},
   "outputs": [],
   "source": [
    "a = adata.X[:5, :5]"
   ]
  },
  {
   "cell_type": "code",
   "execution_count": 33,
   "id": "c18bcf24",
   "metadata": {},
   "outputs": [
    {
     "data": {
      "text/plain": [
       "Index(['AAACCTGAGTGGGCTA-1', 'AAACCTGAGTGTTAGA-1', 'AAACCTGGTCGCGTGT-1',\n",
       "       'AAACCTGGTCTCCACT-1', 'AAACCTGGTTTACTCT-1', 'AAACCTGTCTCCTATA-1',\n",
       "       'AAACCTGTCTGCAGTA-1', 'AAACGGGAGAGGGCTT-1', 'AAACGGGAGTGGTCCC-1',\n",
       "       'AAACGGGCACAACGTT-1',\n",
       "       ...\n",
       "       'TTTGTTGCACTGTTCC-31', 'TTTGTTGCAGCGTTGC-31', 'TTTGTTGCATAGTCGT-31',\n",
       "       'TTTGTTGGTACCGTGC-31', 'TTTGTTGGTATTTCGG-31', 'TTTGTTGGTCACCTTC-31',\n",
       "       'TTTGTTGGTCCACGCA-31', 'TTTGTTGGTTATGGTC-31', 'TTTGTTGTCGCGTGCA-31',\n",
       "       'TTTGTTGTCTCATGCC-31'],\n",
       "      dtype='object', length=84417)"
      ]
     },
     "execution_count": 33,
     "metadata": {},
     "output_type": "execute_result"
    }
   ],
   "source": [
    "adata.obs_names"
   ]
  },
  {
   "cell_type": "code",
   "execution_count": null,
   "id": "ed243bb0",
   "metadata": {},
   "outputs": [],
   "source": []
  },
  {
   "cell_type": "code",
   "execution_count": null,
   "id": "57cf12f0",
   "metadata": {},
   "outputs": [],
   "source": []
  }
 ],
 "metadata": {
  "kernelspec": {
   "display_name": "Python 3 (ipykernel)",
   "language": "python",
   "name": "python3"
  },
  "language_info": {
   "codemirror_mode": {
    "name": "ipython",
    "version": 3
   },
   "file_extension": ".py",
   "mimetype": "text/x-python",
   "name": "python",
   "nbconvert_exporter": "python",
   "pygments_lexer": "ipython3",
   "version": "3.9.12"
  }
 },
 "nbformat": 4,
 "nbformat_minor": 5
}

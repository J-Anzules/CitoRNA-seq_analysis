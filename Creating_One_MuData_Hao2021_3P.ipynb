{
 "cells": [
  {
   "cell_type": "code",
   "execution_count": 35,
   "id": "459c1ba9",
   "metadata": {},
   "outputs": [],
   "source": [
    "import pandas as pd\n",
    "import scipy.io as spio\n",
    "import numpy as np\n",
    "import scanpy as sc\n",
    "import mudata as md\n",
    "#File Location\n",
    "\n",
    "file_loc = \"../Hao2021/Data/GSE164378_RAW/\""
   ]
  },
  {
   "cell_type": "code",
   "execution_count": 57,
   "id": "d9eed37e",
   "metadata": {},
   "outputs": [],
   "source": [
    "# RNA matrix\n",
    "RNA_matrix = spio.mmread(file_loc+\"GSM5008737_RNA_3P-matrix.mtx.gz\")\n",
    "RNA_matrix = RNA_matrix.tocsr()\n",
    "\n",
    "# RNA barcode\n",
    "RNA_barcodes = pd.read_csv(file_loc+\"GSM5008739_HTO_3P-barcodes.tsv.gz\", \n",
    "                              sep = \"\\t\", header = None, index_col=0,\n",
    "                          names = [\"barcode\"])\n",
    "# RNA features\n",
    "RNA_features = pd.read_csv(file_loc+\"GSM5008737_RNA_3P-features.tsv.gz\", \n",
    "                            sep = \"\\t\", header = None, usecols=[0], \n",
    "                            index_col = 0, names = [\"GeneID\"])\n",
    "\n",
    "# ADT Matrix\n",
    "ADT_matrix = scipy.io.mmread(file_loc+\"GSM5008738_ADT_3P-matrix.mtx.gz\")\n",
    "ADT_matrix = ADT_matrix.tocsr()\n",
    "\n",
    "# ADT_barcodes\n",
    "ADT_barcodes = pd.read_csv(file_loc+\"GSM5008738_ADT_3P-barcodes.tsv.gz\",\n",
    "                          sep = '\\t', header = None, index_col=0,\n",
    "                          names = [\"barcode\"])\n",
    "\n",
    "# ADT features\n",
    "ADT_features = pd.read_csv(file_loc+\"GSM5008738_ADT_3P-features.tsv.gz\",\n",
    "                           sep = '\\t', header = None, usecols=[0],\n",
    "                           index_col = 0, names=[\"ProteinID\"])\n",
    "\n",
    "# HTO_matrix\n",
    "HTO_matrix = scipy.io.mmread(file_loc+\"GSM5008739_HTO_3P-matrix.mtx.gz\")\n",
    "HTO_matrix = HTO_matrix.tocsc()\n",
    "\n",
    "# # HTO_barcodes\n",
    "HTO_barcodes = pd.read_csv(file_loc+\"GSM5008739_HTO_3P-barcodes.tsv.gz\",\n",
    "                           sep='\\t', header = None, index_col = 0,\n",
    "                          names = [\"barcode\"])\n",
    "         \n",
    "\n",
    "\n",
    "# HTO_features\n",
    "HTO_features = pd.read_csv(file_loc+\"GSM5008739_HTO_3P-features.tsv.gz\", \n",
    "                              sep = '\\t', header = None, usecols=[0],\n",
    "                             index_col=0, names=[\"BathID\"])"
   ]
  },
  {
   "cell_type": "code",
   "execution_count": null,
   "id": "3769222a",
   "metadata": {},
   "outputs": [],
   "source": [
    "adata = sc.AnnData(X=RNA_matrix.T, obs=RNA_barcodes, var=RNA_features,\n",
    "                  dtype='float32')\n",
    "\n",
    "adata_ADT = sc.AnnData(X=ADT_matrix.T, obs=ADT_barcodes, var=ADT_features,\n",
    "                  dtype='float32')\n",
    "\n",
    "adata_HTO = sc.AnnData(X=HTO_matrix.T, obs=HTO_barcodes, var=HTO_features,\n",
    "                  dtype='float32')"
   ]
  },
  {
   "cell_type": "code",
   "execution_count": 96,
   "id": "34176a3b",
   "metadata": {},
   "outputs": [],
   "source": [
    "# There are var_names that are intersecting between rna and adt\n",
    "intersecting_vars = list(set(adata.var_names).intersection(set(adata_ADT.var_names)))\n",
    "\n",
    "# Creating a dictionary to hold the new var_names\n",
    "new_var_names = {}\n",
    "\n",
    "# Iterate over the intersecting var_names and add the suffix '_AB'\n",
    "for var in intersecting_vars:\n",
    "    new_var_names[var] = f\"{var}_AB\"\n",
    "\n",
    "# Rename columns in the adata_ADT\n",
    "adata_ADT.var_names_make_unique\n",
    "\n",
    "for old_var, new_var in new_var_names.items():\n",
    "    adata_ADT.var.rename({old_var: new_var}, inplace=True)"
   ]
  },
  {
   "cell_type": "code",
   "execution_count": 97,
   "id": "2aa3e88d",
   "metadata": {
    "scrolled": true
   },
   "outputs": [],
   "source": [
    "mdata = md.MuData({\"RNA\": adata, \"ADT\": adata_ADT, \"HTO\": adata_HTO})"
   ]
  },
  {
   "cell_type": "code",
   "execution_count": 98,
   "id": "0a04d253",
   "metadata": {},
   "outputs": [],
   "source": [
    "mdata.write(\"../Hao2021/Data/Hao2021_3P.h5mu\")"
   ]
  }
 ],
 "metadata": {
  "kernelspec": {
   "display_name": "Python 3 (ipykernel)",
   "language": "python",
   "name": "python3"
  },
  "language_info": {
   "codemirror_mode": {
    "name": "ipython",
    "version": 3
   },
   "file_extension": ".py",
   "mimetype": "text/x-python",
   "name": "python",
   "nbconvert_exporter": "python",
   "pygments_lexer": "ipython3",
   "version": "3.9.12"
  }
 },
 "nbformat": 4,
 "nbformat_minor": 5
}

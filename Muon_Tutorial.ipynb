{
 "cells": [
  {
   "cell_type": "code",
   "execution_count": 1,
   "id": "35d5ede2",
   "metadata": {},
   "outputs": [],
   "source": [
    "import numpy as np\n",
    "import pandas as pd\n",
    "import scanpy as sc\n",
    "import muon as mu\n",
    "from muon import prot as pt\n",
    "file_loc = '../CITE-seq_tutorial/5k_pbmc_protein_v3_filtered_feature_bc_matrix.h5'"
   ]
  },
  {
   "cell_type": "code",
   "execution_count": 15,
   "id": "e4d3b7b4",
   "metadata": {},
   "outputs": [],
   "source": [
    "import h5py"
   ]
  },
  {
   "cell_type": "code",
   "execution_count": 16,
   "id": "7aa96e04",
   "metadata": {},
   "outputs": [
    {
     "name": "stdout",
     "output_type": "stream",
     "text": [
      "['matrix']\n"
     ]
    }
   ],
   "source": [
    "with h5py.File(\"../CITE-seq_tutorial/5k_pbmc_protein_v3_filtered_feature_bc_matrix.h5\", 'r') as f:\n",
    "    #print the names of the datas in the file\n",
    "    print(list(f.keys()))\n",
    "    \n",
    "    # Access a sp\n",
    "    "
   ]
  },
  {
   "cell_type": "code",
   "execution_count": 19,
   "id": "ac918a7b",
   "metadata": {},
   "outputs": [],
   "source": [
    "mdata = h5py.File(\"../CITE-seq_tutorial/5k_pbmc_protein_v3_filtered_feature_bc_matrix.h5\")[\"matrix\"]"
   ]
  },
  {
   "cell_type": "code",
   "execution_count": 29,
   "id": "0caccf72",
   "metadata": {},
   "outputs": [
    {
     "data": {
      "text/plain": [
       "<HDF5 group \"/matrix\" (6 members)>"
      ]
     },
     "execution_count": 29,
     "metadata": {},
     "output_type": "execute_result"
    }
   ],
   "source": [
    "mdata"
   ]
  },
  {
   "cell_type": "code",
   "execution_count": 45,
   "id": "1c218dbe",
   "metadata": {
    "scrolled": true
   },
   "outputs": [
    {
     "ename": "KeyError",
     "evalue": "\"Unable to open object (object 'r' doesn't exist)\"",
     "output_type": "error",
     "traceback": [
      "\u001b[1;31m---------------------------------------------------------------------------\u001b[0m",
      "\u001b[1;31mKeyError\u001b[0m                                  Traceback (most recent call last)",
      "Input \u001b[1;32mIn [45]\u001b[0m, in \u001b[0;36m<cell line: 1>\u001b[1;34m()\u001b[0m\n\u001b[1;32m----> 1\u001b[0m adata \u001b[38;5;241m=\u001b[39m \u001b[43manndata\u001b[49m\u001b[38;5;241;43m.\u001b[39;49m\u001b[43mread_hdf\u001b[49m\u001b[43m(\u001b[49m\u001b[38;5;124;43m\"\u001b[39;49m\u001b[38;5;124;43m../CITE-seq_tutorial/5k_pbmc_protein_v3_filtered_feature_bc_matrix.h5\u001b[39;49m\u001b[38;5;124;43m\"\u001b[39;49m\u001b[43m,\u001b[49m\u001b[43m \u001b[49m\u001b[38;5;124;43m'\u001b[39;49m\u001b[38;5;124;43mr\u001b[39;49m\u001b[38;5;124;43m'\u001b[39;49m\u001b[43m)\u001b[49m\n",
      "File \u001b[1;32m~\\AppData\\Roaming\\Python\\Python39\\site-packages\\anndata\\_io\\read.py:130\u001b[0m, in \u001b[0;36mread_hdf\u001b[1;34m(filename, key)\u001b[0m\n\u001b[0;32m    125\u001b[0m     \u001b[38;5;28;01mraise\u001b[39;00m \u001b[38;5;167;01mValueError\u001b[39;00m(\n\u001b[0;32m    126\u001b[0m         \u001b[38;5;124mf\u001b[39m\u001b[38;5;124m\"\u001b[39m\u001b[38;5;124mThe file \u001b[39m\u001b[38;5;132;01m{\u001b[39;00mfilename\u001b[38;5;132;01m}\u001b[39;00m\u001b[38;5;124m stores the following sheets:\u001b[39m\u001b[38;5;130;01m\\n\u001b[39;00m\u001b[38;5;132;01m{\u001b[39;00mkeys\u001b[38;5;132;01m}\u001b[39;00m\u001b[38;5;130;01m\\n\u001b[39;00m\u001b[38;5;124m\"\u001b[39m\n\u001b[0;32m    127\u001b[0m         \u001b[38;5;124mf\u001b[39m\u001b[38;5;124m\"\u001b[39m\u001b[38;5;124mCall read/read_hdf5 with one of them.\u001b[39m\u001b[38;5;124m\"\u001b[39m\n\u001b[0;32m    128\u001b[0m     )\n\u001b[0;32m    129\u001b[0m \u001b[38;5;66;03m# read array\u001b[39;00m\n\u001b[1;32m--> 130\u001b[0m X \u001b[38;5;241m=\u001b[39m \u001b[43mf\u001b[49m\u001b[43m[\u001b[49m\u001b[43mkey\u001b[49m\u001b[43m]\u001b[49m[()]\n\u001b[0;32m    131\u001b[0m \u001b[38;5;66;03m# try to find row and column names\u001b[39;00m\n\u001b[0;32m    132\u001b[0m rows_cols \u001b[38;5;241m=\u001b[39m [{}, {}]\n",
      "File \u001b[1;32mh5py\\_objects.pyx:54\u001b[0m, in \u001b[0;36mh5py._objects.with_phil.wrapper\u001b[1;34m()\u001b[0m\n",
      "File \u001b[1;32mh5py\\_objects.pyx:55\u001b[0m, in \u001b[0;36mh5py._objects.with_phil.wrapper\u001b[1;34m()\u001b[0m\n",
      "File \u001b[1;32mC:\\ProgramData\\Anaconda3\\lib\\site-packages\\h5py\\_hl\\group.py:305\u001b[0m, in \u001b[0;36mGroup.__getitem__\u001b[1;34m(self, name)\u001b[0m\n\u001b[0;32m    303\u001b[0m         \u001b[38;5;28;01mraise\u001b[39;00m \u001b[38;5;167;01mValueError\u001b[39;00m(\u001b[38;5;124m\"\u001b[39m\u001b[38;5;124mInvalid HDF5 object reference\u001b[39m\u001b[38;5;124m\"\u001b[39m)\n\u001b[0;32m    304\u001b[0m \u001b[38;5;28;01melif\u001b[39;00m \u001b[38;5;28misinstance\u001b[39m(name, (\u001b[38;5;28mbytes\u001b[39m, \u001b[38;5;28mstr\u001b[39m)):\n\u001b[1;32m--> 305\u001b[0m     oid \u001b[38;5;241m=\u001b[39m \u001b[43mh5o\u001b[49m\u001b[38;5;241;43m.\u001b[39;49m\u001b[43mopen\u001b[49m\u001b[43m(\u001b[49m\u001b[38;5;28;43mself\u001b[39;49m\u001b[38;5;241;43m.\u001b[39;49m\u001b[43mid\u001b[49m\u001b[43m,\u001b[49m\u001b[43m \u001b[49m\u001b[38;5;28;43mself\u001b[39;49m\u001b[38;5;241;43m.\u001b[39;49m\u001b[43m_e\u001b[49m\u001b[43m(\u001b[49m\u001b[43mname\u001b[49m\u001b[43m)\u001b[49m\u001b[43m,\u001b[49m\u001b[43m \u001b[49m\u001b[43mlapl\u001b[49m\u001b[38;5;241;43m=\u001b[39;49m\u001b[38;5;28;43mself\u001b[39;49m\u001b[38;5;241;43m.\u001b[39;49m\u001b[43m_lapl\u001b[49m\u001b[43m)\u001b[49m\n\u001b[0;32m    306\u001b[0m \u001b[38;5;28;01melse\u001b[39;00m:\n\u001b[0;32m    307\u001b[0m     \u001b[38;5;28;01mraise\u001b[39;00m \u001b[38;5;167;01mTypeError\u001b[39;00m(\u001b[38;5;124m\"\u001b[39m\u001b[38;5;124mAccessing a group is done with bytes or str, \u001b[39m\u001b[38;5;124m\"\u001b[39m\n\u001b[0;32m    308\u001b[0m                     \u001b[38;5;124m\"\u001b[39m\u001b[38;5;124m not \u001b[39m\u001b[38;5;132;01m{}\u001b[39;00m\u001b[38;5;124m\"\u001b[39m\u001b[38;5;241m.\u001b[39mformat(\u001b[38;5;28mtype\u001b[39m(name)))\n",
      "File \u001b[1;32mh5py\\_objects.pyx:54\u001b[0m, in \u001b[0;36mh5py._objects.with_phil.wrapper\u001b[1;34m()\u001b[0m\n",
      "File \u001b[1;32mh5py\\_objects.pyx:55\u001b[0m, in \u001b[0;36mh5py._objects.with_phil.wrapper\u001b[1;34m()\u001b[0m\n",
      "File \u001b[1;32mh5py\\h5o.pyx:190\u001b[0m, in \u001b[0;36mh5py.h5o.open\u001b[1;34m()\u001b[0m\n",
      "\u001b[1;31mKeyError\u001b[0m: \"Unable to open object (object 'r' doesn't exist)\""
     ]
    }
   ],
   "source": [
    "adata = anndata.read_hdf(\"../CITE-seq_tutorial/5k_pbmc_protein_v3_filtered_feature_bc_matrix.h5\", 'r')"
   ]
  },
  {
   "cell_type": "code",
   "execution_count": 38,
   "id": "74ba4f38",
   "metadata": {
    "scrolled": true
   },
   "outputs": [
    {
     "name": "stdout",
     "output_type": "stream",
     "text": [
      "<KeysViewHDF5 ['matrix']>\n"
     ]
    }
   ],
   "source": [
    "with h5py.File(\"../CITE-seq_tutorial/5k_pbmc_protein_v3_filtered_feature_bc_matrix.h5\", \"r\") as f:\n",
    "    print(f.keys())"
   ]
  },
  {
   "cell_type": "code",
   "execution_count": 43,
   "id": "7e0bc8a1",
   "metadata": {},
   "outputs": [
    {
     "data": {
      "text/plain": [
       "'../CITE-seq_tutorial/5k_pbmc_protein_v3_filtered_feature_bc_matrix.h5'"
      ]
     },
     "execution_count": 43,
     "metadata": {},
     "output_type": "execute_result"
    }
   ],
   "source": [
    "file_loc"
   ]
  },
  {
   "cell_type": "code",
   "execution_count": 44,
   "id": "72eabf3d",
   "metadata": {},
   "outputs": [],
   "source": [
    "fid = h5py.File(file_loc, 'r')\n"
   ]
  },
  {
   "cell_type": "code",
   "execution_count": 50,
   "id": "8929e75b",
   "metadata": {},
   "outputs": [
    {
     "data": {
      "text/plain": [
       "<KeysViewHDF5 ['barcodes', 'data', 'features', 'indices', 'indptr', 'shape']>"
      ]
     },
     "execution_count": 50,
     "metadata": {},
     "output_type": "execute_result"
    }
   ],
   "source": [
    "fid['matrix'].keys()"
   ]
  },
  {
   "cell_type": "code",
   "execution_count": 58,
   "id": "5dce1091",
   "metadata": {
    "scrolled": true
   },
   "outputs": [
    {
     "data": {
      "text/plain": [
       "array([2, 1, 2, 1, 2, 1, 7, 1, 1, 1, 1, 3, 3, 2, 1, 1, 1, 4, 2, 1, 4, 1,\n",
       "       1, 1, 2, 4, 1, 1, 4, 1])"
      ]
     },
     "execution_count": 58,
     "metadata": {},
     "output_type": "execute_result"
    }
   ],
   "source": [
    "fid['matrix']['data'][0:30]"
   ]
  },
  {
   "cell_type": "code",
   "execution_count": 59,
   "id": "288e9dfe",
   "metadata": {},
   "outputs": [],
   "source": [
    "datafile = \"../CITE-seq_tutorial/5k_pbmc_protein_v3_filtered_feature_bc_matrix.h5\""
   ]
  },
  {
   "cell_type": "code",
   "execution_count": 60,
   "id": "de55ebc4",
   "metadata": {
    "scrolled": false
   },
   "outputs": [
    {
     "name": "stderr",
     "output_type": "stream",
     "text": [
      "C:\\Users\\jonan\\AppData\\Roaming\\Python\\Python39\\site-packages\\anndata\\_core\\anndata.py:1830: UserWarning: Variable names are not unique. To make them unique, call `.var_names_make_unique`.\n",
      "  utils.warn_names_duplicates(\"var\")\n"
     ]
    }
   ],
   "source": [
    "pbmc = sc.read_10x_h5(datafile, gex_only=False)"
   ]
  },
  {
   "cell_type": "code",
   "execution_count": 63,
   "id": "bd1fc46e",
   "metadata": {},
   "outputs": [],
   "source": [
    "pbmc.var_names_make_unique()"
   ]
  },
  {
   "cell_type": "code",
   "execution_count": 66,
   "id": "4d5ae6fa",
   "metadata": {},
   "outputs": [],
   "source": [
    "pbmc.layers[\"counts\"] = pbmc.X.copy()"
   ]
  },
  {
   "cell_type": "code",
   "execution_count": 67,
   "id": "330f430e",
   "metadata": {},
   "outputs": [],
   "source": [
    "sc.pp.filter_genes(pbmc, min_counts = 1)"
   ]
  },
  {
   "cell_type": "code",
   "execution_count": 68,
   "id": "d279e659",
   "metadata": {},
   "outputs": [
    {
     "data": {
      "text/plain": [
       "AnnData object with n_obs × n_vars = 5247 × 20872\n",
       "    var: 'gene_ids', 'feature_types', 'genome', 'n_counts'\n",
       "    layers: 'counts'"
      ]
     },
     "execution_count": 68,
     "metadata": {},
     "output_type": "execute_result"
    }
   ],
   "source": [
    "pbmc"
   ]
  },
  {
   "cell_type": "code",
   "execution_count": 69,
   "id": "5b496cd0",
   "metadata": {},
   "outputs": [
    {
     "data": {
      "text/html": [
       "<div>\n",
       "<style scoped>\n",
       "    .dataframe tbody tr th:only-of-type {\n",
       "        vertical-align: middle;\n",
       "    }\n",
       "\n",
       "    .dataframe tbody tr th {\n",
       "        vertical-align: top;\n",
       "    }\n",
       "\n",
       "    .dataframe thead th {\n",
       "        text-align: right;\n",
       "    }\n",
       "</style>\n",
       "<table border=\"1\" class=\"dataframe\">\n",
       "  <thead>\n",
       "    <tr style=\"text-align: right;\">\n",
       "      <th></th>\n",
       "      <th>gene_ids</th>\n",
       "      <th>feature_types</th>\n",
       "      <th>genome</th>\n",
       "      <th>n_counts</th>\n",
       "    </tr>\n",
       "  </thead>\n",
       "  <tbody>\n",
       "    <tr>\n",
       "      <th>AL627309.1</th>\n",
       "      <td>ENSG00000238009</td>\n",
       "      <td>Gene Expression</td>\n",
       "      <td>GRCh38</td>\n",
       "      <td>27.0</td>\n",
       "    </tr>\n",
       "    <tr>\n",
       "      <th>AL669831.5</th>\n",
       "      <td>ENSG00000237491</td>\n",
       "      <td>Gene Expression</td>\n",
       "      <td>GRCh38</td>\n",
       "      <td>297.0</td>\n",
       "    </tr>\n",
       "    <tr>\n",
       "      <th>FAM87B</th>\n",
       "      <td>ENSG00000177757</td>\n",
       "      <td>Gene Expression</td>\n",
       "      <td>GRCh38</td>\n",
       "      <td>11.0</td>\n",
       "    </tr>\n",
       "    <tr>\n",
       "      <th>LINC00115</th>\n",
       "      <td>ENSG00000225880</td>\n",
       "      <td>Gene Expression</td>\n",
       "      <td>GRCh38</td>\n",
       "      <td>239.0</td>\n",
       "    </tr>\n",
       "    <tr>\n",
       "      <th>FAM41C</th>\n",
       "      <td>ENSG00000230368</td>\n",
       "      <td>Gene Expression</td>\n",
       "      <td>GRCh38</td>\n",
       "      <td>82.0</td>\n",
       "    </tr>\n",
       "    <tr>\n",
       "      <th>...</th>\n",
       "      <td>...</td>\n",
       "      <td>...</td>\n",
       "      <td>...</td>\n",
       "      <td>...</td>\n",
       "    </tr>\n",
       "    <tr>\n",
       "      <th>HLA-DR_TotalSeqB</th>\n",
       "      <td>HLA-DR</td>\n",
       "      <td>Antibody Capture</td>\n",
       "      <td></td>\n",
       "      <td>1462673.0</td>\n",
       "    </tr>\n",
       "    <tr>\n",
       "      <th>TIGIT_TotalSeqB</th>\n",
       "      <td>TIGIT</td>\n",
       "      <td>Antibody Capture</td>\n",
       "      <td></td>\n",
       "      <td>37682.0</td>\n",
       "    </tr>\n",
       "    <tr>\n",
       "      <th>IgG1_control_TotalSeqB</th>\n",
       "      <td>IgG1</td>\n",
       "      <td>Antibody Capture</td>\n",
       "      <td></td>\n",
       "      <td>14859.0</td>\n",
       "    </tr>\n",
       "    <tr>\n",
       "      <th>IgG2a_control_TotalSeqB</th>\n",
       "      <td>IgG2a</td>\n",
       "      <td>Antibody Capture</td>\n",
       "      <td></td>\n",
       "      <td>16252.0</td>\n",
       "    </tr>\n",
       "    <tr>\n",
       "      <th>IgG2b_control_TotalSeqB</th>\n",
       "      <td>IgG2b</td>\n",
       "      <td>Antibody Capture</td>\n",
       "      <td></td>\n",
       "      <td>18552.0</td>\n",
       "    </tr>\n",
       "  </tbody>\n",
       "</table>\n",
       "<p>20872 rows × 4 columns</p>\n",
       "</div>"
      ],
      "text/plain": [
       "                                gene_ids     feature_types  genome   n_counts\n",
       "AL627309.1               ENSG00000238009   Gene Expression  GRCh38       27.0\n",
       "AL669831.5               ENSG00000237491   Gene Expression  GRCh38      297.0\n",
       "FAM87B                   ENSG00000177757   Gene Expression  GRCh38       11.0\n",
       "LINC00115                ENSG00000225880   Gene Expression  GRCh38      239.0\n",
       "FAM41C                   ENSG00000230368   Gene Expression  GRCh38       82.0\n",
       "...                                  ...               ...     ...        ...\n",
       "HLA-DR_TotalSeqB                  HLA-DR  Antibody Capture          1462673.0\n",
       "TIGIT_TotalSeqB                    TIGIT  Antibody Capture            37682.0\n",
       "IgG1_control_TotalSeqB              IgG1  Antibody Capture            14859.0\n",
       "IgG2a_control_TotalSeqB            IgG2a  Antibody Capture            16252.0\n",
       "IgG2b_control_TotalSeqB            IgG2b  Antibody Capture            18552.0\n",
       "\n",
       "[20872 rows x 4 columns]"
      ]
     },
     "execution_count": 69,
     "metadata": {},
     "output_type": "execute_result"
    }
   ],
   "source": [
    "pbmc.var"
   ]
  }
 ],
 "metadata": {
  "kernelspec": {
   "display_name": "Python 3 (ipykernel)",
   "language": "python",
   "name": "python3"
  },
  "language_info": {
   "codemirror_mode": {
    "name": "ipython",
    "version": 3
   },
   "file_extension": ".py",
   "mimetype": "text/x-python",
   "name": "python",
   "nbconvert_exporter": "python",
   "pygments_lexer": "ipython3",
   "version": "3.9.12"
  }
 },
 "nbformat": 4,
 "nbformat_minor": 5
}
